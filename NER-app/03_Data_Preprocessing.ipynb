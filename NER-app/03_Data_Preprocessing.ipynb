{
 "cells": [
  {
   "cell_type": "code",
   "execution_count": 4,
   "id": "ac77e20f-274e-40a8-8c2c-470961ee06b1",
   "metadata": {},
   "outputs": [
    {
     "name": "stdout",
     "output_type": "stream",
     "text": [
      "Requirement already satisfied: numpy in c:\\python311\\lib\\site-packages (1.26.0)\n",
      "Requirement already satisfied: pandas in c:\\python311\\lib\\site-packages (2.1.1)\n",
      "Requirement already satisfied: numpy>=1.23.2 in c:\\python311\\lib\\site-packages (from pandas) (1.26.0)\n",
      "Requirement already satisfied: python-dateutil>=2.8.2 in c:\\users\\devsh\\appdata\\roaming\\python\\python311\\site-packages (from pandas) (2.8.2)\n",
      "Requirement already satisfied: pytz>=2020.1 in c:\\python311\\lib\\site-packages (from pandas) (2023.3.post1)\n",
      "Requirement already satisfied: tzdata>=2022.1 in c:\\python311\\lib\\site-packages (from pandas) (2023.3)\n",
      "Requirement already satisfied: six>=1.5 in c:\\users\\devsh\\appdata\\roaming\\python\\python311\\site-packages (from python-dateutil>=2.8.2->pandas) (1.16.0)\n"
     ]
    }
   ],
   "source": [
    "!pip install numpy --user\n",
    "!pip install pandas --user"
   ]
  },
  {
   "cell_type": "code",
   "execution_count": 5,
   "id": "16141f65",
   "metadata": {},
   "outputs": [],
   "source": [
    "import numpy as np\n",
    "import pandas as pd\n",
    "import string\n",
    "import re"
   ]
  },
  {
   "cell_type": "code",
   "execution_count": null,
   "id": "14517a2a",
   "metadata": {},
   "outputs": [],
   "source": [
    "with open('businessCard.txt',mode='r',encoding='utf8',errors='ignore') as f:\n",
    "    text = f.read()"
   ]
  },
  {
   "cell_type": "code",
   "execution_count": null,
   "id": "b77f414c",
   "metadata": {},
   "outputs": [],
   "source": [
    "data = list(map(lambda x:x.split('\\t'),text.split('\\n')))"
   ]
  },
  {
   "cell_type": "code",
   "execution_count": null,
   "id": "6845e6ca",
   "metadata": {},
   "outputs": [],
   "source": [
    "df = pd.DataFrame(data[1:],columns=data[0])"
   ]
  },
  {
   "cell_type": "code",
   "execution_count": null,
   "id": "56d12a7f",
   "metadata": {},
   "outputs": [],
   "source": [
    "df.head(10)"
   ]
  },
  {
   "cell_type": "markdown",
   "id": "401e943e",
   "metadata": {},
   "source": [
    "### Cleaning Text\n",
    "- Remove white space\n",
    "- Remove Unwanted special characters"
   ]
  },
  {
   "cell_type": "code",
   "execution_count": null,
   "id": "d7093080",
   "metadata": {},
   "outputs": [],
   "source": []
  },
  {
   "cell_type": "code",
   "execution_count": null,
   "id": "4825ac9a",
   "metadata": {},
   "outputs": [],
   "source": [
    "whitespace = string.whitespace\n",
    "punctuation = \"!#$%&\\'()*+:;<=>?[\\\\]^`{|}~\"\n",
    "tableWhitespace = str.maketrans('','',whitespace)\n",
    "tablePunctuation = str.maketrans('','',punctuation)\n",
    "def cleanText(txt):\n",
    "    text = str(txt)\n",
    "    text = text.lower()\n",
    "    removewhitespace = text.translate(tableWhitespace)\n",
    "    removepunctuation = removewhitespace.translate(tablePunctuation)\n",
    "    \n",
    "    return str(removepunctuation)\n"
   ]
  },
  {
   "cell_type": "code",
   "execution_count": null,
   "id": "37218136",
   "metadata": {},
   "outputs": [],
   "source": [
    "df['text'] = df['text'].apply(cleanText)"
   ]
  },
  {
   "cell_type": "code",
   "execution_count": null,
   "id": "0bdf5554",
   "metadata": {},
   "outputs": [],
   "source": [
    "dataClean = df.query(\"text != '' \")\n",
    "dataClean.dropna(inplace=True)"
   ]
  },
  {
   "cell_type": "code",
   "execution_count": null,
   "id": "146af89d",
   "metadata": {},
   "outputs": [],
   "source": [
    "dataClean.head(10)"
   ]
  },
  {
   "cell_type": "markdown",
   "id": "873b4881",
   "metadata": {},
   "source": [
    "### Convert Data into Spacy Format"
   ]
  },
  {
   "cell_type": "code",
   "execution_count": null,
   "id": "b3a22c16",
   "metadata": {},
   "outputs": [],
   "source": [
    "group = dataClean.groupby(by='id')"
   ]
  },
  {
   "cell_type": "code",
   "execution_count": null,
   "id": "01fc9f98",
   "metadata": {},
   "outputs": [],
   "source": [
    "cards = group.groups.keys()"
   ]
  },
  {
   "cell_type": "code",
   "execution_count": null,
   "id": "d6eb5c85",
   "metadata": {},
   "outputs": [],
   "source": [
    "allCardsData = []\n",
    "for card in cards:\n",
    "    cardData = []\n",
    "    grouparray = group.get_group(card)[['text','tag']].values\n",
    "    content = ''\n",
    "    annotations = {'entities':[]}\n",
    "    start = 0\n",
    "    end = 0\n",
    "    for text, label in grouparray:\n",
    "        text = str(text)\n",
    "        stringLength = len(text) + 1\n",
    "\n",
    "        start = end\n",
    "        end = start + stringLength\n",
    "\n",
    "        if label != 'O':\n",
    "            annot = (start,end-1,label)\n",
    "            annotations['entities'].append(annot)\n",
    "\n",
    "        content = content + text + ' '\n",
    "        \n",
    "        \n",
    "    cardData = (content,annotations)\n",
    "    allCardsData.append(cardData)"
   ]
  },
  {
   "cell_type": "code",
   "execution_count": null,
   "id": "02e77966",
   "metadata": {},
   "outputs": [],
   "source": [
    "allCardsData"
   ]
  },
  {
   "cell_type": "code",
   "execution_count": null,
   "id": "ed99465a",
   "metadata": {},
   "outputs": [],
   "source": [
    "card_data_df = pd.DataFrame(allCardsData,columns=['text','labels'])\n",
    "card_data_df['isNull'] = card_data_df['labels'].apply(lambda x: 'Null' if len(x['entities']) ==0 \n",
    "                                                      else 'Clean')"
   ]
  },
  {
   "cell_type": "markdown",
   "id": "49bdf6bc",
   "metadata": {},
   "source": [
    "#### Null entries need to drop"
   ]
  },
  {
   "cell_type": "code",
   "execution_count": null,
   "id": "4b02a598",
   "metadata": {},
   "outputs": [],
   "source": [
    "card_data_df.query('isNull == \"Null\"')"
   ]
  },
  {
   "cell_type": "markdown",
   "id": "2fdf4428",
   "metadata": {},
   "source": [
    "#### Consilder only clean data"
   ]
  },
  {
   "cell_type": "code",
   "execution_count": null,
   "id": "16a7e88e",
   "metadata": {},
   "outputs": [],
   "source": [
    "card_data_df.dropna(inplace=True)\n",
    "clean_data = card_data_df.query('isNull == \"Clean\"')[['text','labels']]"
   ]
  },
  {
   "cell_type": "code",
   "execution_count": null,
   "id": "33582a0e",
   "metadata": {},
   "outputs": [],
   "source": [
    "allCardsData = list(map(lambda x: tuple(x), clean_data.values.tolist()))"
   ]
  },
  {
   "cell_type": "code",
   "execution_count": null,
   "id": "9bec63d4",
   "metadata": {},
   "outputs": [],
   "source": []
  },
  {
   "cell_type": "markdown",
   "id": "aaf8a41e",
   "metadata": {},
   "source": [
    "## Split the Data into Training and Testing Set"
   ]
  },
  {
   "cell_type": "code",
   "execution_count": null,
   "id": "e7331657",
   "metadata": {},
   "outputs": [],
   "source": [
    "import random"
   ]
  },
  {
   "cell_type": "code",
   "execution_count": null,
   "id": "0b6005c5",
   "metadata": {},
   "outputs": [],
   "source": [
    "random.shuffle(allCardsData)"
   ]
  },
  {
   "cell_type": "code",
   "execution_count": null,
   "id": "3cacb40d",
   "metadata": {},
   "outputs": [],
   "source": [
    "len(allCardsData)"
   ]
  },
  {
   "cell_type": "code",
   "execution_count": null,
   "id": "8fd78b34",
   "metadata": {},
   "outputs": [],
   "source": [
    "TrainData = allCardsData[:240]\n",
    "TestData = allCardsData[240:]"
   ]
  },
  {
   "cell_type": "code",
   "execution_count": null,
   "id": "269d5acd",
   "metadata": {},
   "outputs": [],
   "source": [
    "import pickle"
   ]
  },
  {
   "cell_type": "code",
   "execution_count": null,
   "id": "5034ce89",
   "metadata": {},
   "outputs": [],
   "source": [
    "pickle.dump(TrainData,open('./data/TrainData.pickle',mode='wb'))\n",
    "pickle.dump(TestData,open('./data/TestData.pickle',mode='wb'))"
   ]
  },
  {
   "cell_type": "code",
   "execution_count": null,
   "id": "7ef93a0f",
   "metadata": {},
   "outputs": [],
   "source": []
  },
  {
   "cell_type": "code",
   "execution_count": null,
   "id": "80ea3e20",
   "metadata": {},
   "outputs": [],
   "source": []
  }
 ],
 "metadata": {
  "kernelspec": {
   "display_name": "Python 3 (ipykernel)",
   "language": "python",
   "name": "python3"
  },
  "language_info": {
   "codemirror_mode": {
    "name": "ipython",
    "version": 3
   },
   "file_extension": ".py",
   "mimetype": "text/x-python",
   "name": "python",
   "nbconvert_exporter": "python",
   "pygments_lexer": "ipython3",
   "version": "3.11.5"
  }
 },
 "nbformat": 4,
 "nbformat_minor": 5
}
