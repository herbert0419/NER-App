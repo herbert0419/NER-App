{
 "cells": [
  {
   "cell_type": "code",
   "execution_count": null,
   "id": "6f1faa6f-52a9-4385-9ef2-7d36f0f1e94c",
   "metadata": {},
   "outputs": [],
   "source": []
  },
  {
   "cell_type": "code",
   "execution_count": 2,
   "id": "ab39fb6f-b8c2-4d57-a700-9f3e3a81957c",
   "metadata": {},
   "outputs": [
    {
     "name": "stdout",
     "output_type": "stream",
     "text": [
      "Collecting opencv-python\n",
      "  Obtaining dependency information for opencv-python from https://files.pythonhosted.org/packages/38/d2/3e8c13ffc37ca5ebc6f382b242b44acb43eb489042e1728407ac3904e72f/opencv_python-4.8.1.78-cp37-abi3-win_amd64.whl.metadata\n",
      "  Downloading opencv_python-4.8.1.78-cp37-abi3-win_amd64.whl.metadata (20 kB)\n",
      "Requirement already satisfied: numpy>=1.21.2 in c:\\python311\\lib\\site-packages (from opencv-python) (1.26.0)\n",
      "Downloading opencv_python-4.8.1.78-cp37-abi3-win_amd64.whl (38.1 MB)\n",
      "   ---------------------------------------- 0.0/38.1 MB ? eta -:--:--\n",
      "   ---------------------------------------- 0.0/38.1 MB ? eta -:--:--\n",
      "   ---------------------------------------- 0.0/38.1 MB 435.7 kB/s eta 0:01:28\n",
      "   ---------------------------------------- 0.1/38.1 MB 939.4 kB/s eta 0:00:41\n",
      "   ---------------------------------------- 0.3/38.1 MB 2.0 MB/s eta 0:00:20\n",
      "    --------------------------------------- 0.5/38.1 MB 2.6 MB/s eta 0:00:15\n",
      "   - -------------------------------------- 1.0/38.1 MB 4.1 MB/s eta 0:00:10\n",
      "   - -------------------------------------- 1.2/38.1 MB 4.0 MB/s eta 0:00:10\n",
      "   - -------------------------------------- 1.4/38.1 MB 4.1 MB/s eta 0:00:09\n",
      "   - -------------------------------------- 1.4/38.1 MB 4.1 MB/s eta 0:00:09\n",
      "   - -------------------------------------- 1.4/38.1 MB 4.1 MB/s eta 0:00:09\n",
      "   - -------------------------------------- 1.5/38.1 MB 3.2 MB/s eta 0:00:12\n",
      "   - -------------------------------------- 1.8/38.1 MB 3.3 MB/s eta 0:00:11\n",
      "   -- ------------------------------------- 2.0/38.1 MB 3.4 MB/s eta 0:00:11\n",
      "   -- ------------------------------------- 2.2/38.1 MB 3.4 MB/s eta 0:00:11\n",
      "   -- ------------------------------------- 2.4/38.1 MB 3.5 MB/s eta 0:00:11\n",
      "   -- ------------------------------------- 2.5/38.1 MB 3.5 MB/s eta 0:00:11\n",
      "   -- ------------------------------------- 2.7/38.1 MB 3.5 MB/s eta 0:00:11\n",
      "   --- ------------------------------------ 2.9/38.1 MB 3.5 MB/s eta 0:00:10\n",
      "   --- ------------------------------------ 2.9/38.1 MB 3.5 MB/s eta 0:00:10\n",
      "   --- ------------------------------------ 2.9/38.1 MB 3.5 MB/s eta 0:00:10\n",
      "   --- ------------------------------------ 3.1/38.1 MB 3.2 MB/s eta 0:00:11\n",
      "   --- ------------------------------------ 3.3/38.1 MB 3.3 MB/s eta 0:00:11\n",
      "   --- ------------------------------------ 3.5/38.1 MB 3.3 MB/s eta 0:00:11\n",
      "   --- ------------------------------------ 3.7/38.1 MB 3.4 MB/s eta 0:00:11\n",
      "   ---- ----------------------------------- 3.9/38.1 MB 3.4 MB/s eta 0:00:10\n",
      "   ---- ----------------------------------- 4.1/38.1 MB 3.4 MB/s eta 0:00:10\n",
      "   ---- ----------------------------------- 4.3/38.1 MB 3.5 MB/s eta 0:00:10\n",
      "   ---- ----------------------------------- 4.3/38.1 MB 3.5 MB/s eta 0:00:10\n",
      "   ---- ----------------------------------- 4.3/38.1 MB 3.5 MB/s eta 0:00:10\n",
      "   ---- ----------------------------------- 4.4/38.1 MB 3.2 MB/s eta 0:00:11\n",
      "   ---- ----------------------------------- 4.7/38.1 MB 3.3 MB/s eta 0:00:11\n",
      "   ----- ---------------------------------- 5.0/38.1 MB 3.4 MB/s eta 0:00:10\n",
      "   ----- ---------------------------------- 5.1/38.1 MB 3.4 MB/s eta 0:00:10\n",
      "   ----- ---------------------------------- 5.3/38.1 MB 3.4 MB/s eta 0:00:10\n",
      "   ----- ---------------------------------- 5.5/38.1 MB 3.4 MB/s eta 0:00:10\n",
      "   ----- ---------------------------------- 5.7/38.1 MB 3.4 MB/s eta 0:00:10\n",
      "   ------ --------------------------------- 5.9/38.1 MB 3.4 MB/s eta 0:00:10\n",
      "   ------ --------------------------------- 6.0/38.1 MB 3.4 MB/s eta 0:00:10\n",
      "   ------ --------------------------------- 6.2/38.1 MB 3.5 MB/s eta 0:00:10\n",
      "   ------ --------------------------------- 6.4/38.1 MB 3.5 MB/s eta 0:00:10\n",
      "   ------ --------------------------------- 6.6/38.1 MB 3.5 MB/s eta 0:00:10\n",
      "   ------- -------------------------------- 6.8/38.1 MB 3.5 MB/s eta 0:00:09\n",
      "   ------- -------------------------------- 6.9/38.1 MB 3.5 MB/s eta 0:00:09\n",
      "   ------- -------------------------------- 7.1/38.1 MB 3.5 MB/s eta 0:00:09\n",
      "   ------- -------------------------------- 7.3/38.1 MB 3.5 MB/s eta 0:00:09\n",
      "   ------- -------------------------------- 7.3/38.1 MB 3.5 MB/s eta 0:00:09\n",
      "   ------- -------------------------------- 7.3/38.1 MB 3.5 MB/s eta 0:00:09\n",
      "   ------- -------------------------------- 7.5/38.1 MB 3.4 MB/s eta 0:00:09\n",
      "   -------- ------------------------------- 7.9/38.1 MB 3.5 MB/s eta 0:00:09\n",
      "   -------- ------------------------------- 8.2/38.1 MB 3.6 MB/s eta 0:00:09\n",
      "   -------- ------------------------------- 8.4/38.1 MB 3.6 MB/s eta 0:00:09\n",
      "   -------- ------------------------------- 8.6/38.1 MB 3.6 MB/s eta 0:00:09\n",
      "   --------- ------------------------------ 8.7/38.1 MB 3.6 MB/s eta 0:00:09\n",
      "   --------- ------------------------------ 8.9/38.1 MB 3.6 MB/s eta 0:00:09\n",
      "   --------- ------------------------------ 9.1/38.1 MB 3.6 MB/s eta 0:00:09\n",
      "   --------- ------------------------------ 9.2/38.1 MB 3.6 MB/s eta 0:00:09\n",
      "   --------- ------------------------------ 9.5/38.1 MB 3.6 MB/s eta 0:00:08\n",
      "   ---------- ----------------------------- 9.6/38.1 MB 3.6 MB/s eta 0:00:08\n",
      "   ---------- ----------------------------- 9.8/38.1 MB 3.6 MB/s eta 0:00:08\n",
      "   ---------- ----------------------------- 10.0/38.1 MB 3.6 MB/s eta 0:00:08\n",
      "   ---------- ----------------------------- 10.2/38.1 MB 3.6 MB/s eta 0:00:08\n",
      "   ---------- ----------------------------- 10.4/38.1 MB 3.7 MB/s eta 0:00:08\n",
      "   ----------- ---------------------------- 10.5/38.1 MB 3.7 MB/s eta 0:00:08\n",
      "   ----------- ---------------------------- 10.7/38.1 MB 3.7 MB/s eta 0:00:08\n",
      "   ----------- ---------------------------- 10.9/38.1 MB 3.7 MB/s eta 0:00:08\n",
      "   ----------- ---------------------------- 11.1/38.1 MB 3.6 MB/s eta 0:00:08\n",
      "   ----------- ---------------------------- 11.3/38.1 MB 3.6 MB/s eta 0:00:08\n",
      "   ------------ --------------------------- 11.4/38.1 MB 3.6 MB/s eta 0:00:08\n",
      "   ------------ --------------------------- 11.6/38.1 MB 3.8 MB/s eta 0:00:07\n",
      "   ------------ --------------------------- 11.8/38.1 MB 3.7 MB/s eta 0:00:08\n",
      "   ------------ --------------------------- 12.0/38.1 MB 3.7 MB/s eta 0:00:08\n",
      "   ------------ --------------------------- 12.2/38.1 MB 3.7 MB/s eta 0:00:08\n",
      "   ------------ --------------------------- 12.3/38.1 MB 3.7 MB/s eta 0:00:07\n",
      "   ------------- -------------------------- 12.5/38.1 MB 3.7 MB/s eta 0:00:07\n",
      "   ------------- -------------------------- 12.7/38.1 MB 3.7 MB/s eta 0:00:07\n",
      "   ------------- -------------------------- 12.9/38.1 MB 3.7 MB/s eta 0:00:07\n",
      "   ------------- -------------------------- 13.1/38.1 MB 3.7 MB/s eta 0:00:07\n",
      "   ------------- -------------------------- 13.2/38.1 MB 3.9 MB/s eta 0:00:07\n",
      "   -------------- ------------------------- 13.4/38.1 MB 3.8 MB/s eta 0:00:07\n",
      "   -------------- ------------------------- 13.6/38.1 MB 3.8 MB/s eta 0:00:07\n",
      "   -------------- ------------------------- 13.8/38.1 MB 3.8 MB/s eta 0:00:07\n",
      "   -------------- ------------------------- 13.9/38.1 MB 3.8 MB/s eta 0:00:07\n",
      "   -------------- ------------------------- 14.1/38.1 MB 3.8 MB/s eta 0:00:07\n",
      "   --------------- ------------------------ 14.3/38.1 MB 3.8 MB/s eta 0:00:07\n",
      "   --------------- ------------------------ 14.5/38.1 MB 3.8 MB/s eta 0:00:07\n",
      "   --------------- ------------------------ 14.7/38.1 MB 3.9 MB/s eta 0:00:06\n",
      "   --------------- ------------------------ 14.9/38.1 MB 3.9 MB/s eta 0:00:06\n",
      "   --------------- ------------------------ 15.0/38.1 MB 3.9 MB/s eta 0:00:06\n",
      "   --------------- ------------------------ 15.2/38.1 MB 3.9 MB/s eta 0:00:06\n",
      "   ---------------- ----------------------- 15.4/38.1 MB 3.9 MB/s eta 0:00:06\n",
      "   ---------------- ----------------------- 15.6/38.1 MB 3.9 MB/s eta 0:00:06\n",
      "   ---------------- ----------------------- 15.7/38.1 MB 3.9 MB/s eta 0:00:06\n",
      "   ---------------- ----------------------- 15.9/38.1 MB 3.9 MB/s eta 0:00:06\n",
      "   ---------------- ----------------------- 16.1/38.1 MB 3.9 MB/s eta 0:00:06\n",
      "   ----------------- ---------------------- 16.3/38.1 MB 3.9 MB/s eta 0:00:06\n",
      "   ----------------- ---------------------- 16.5/38.1 MB 3.9 MB/s eta 0:00:06\n",
      "   ----------------- ---------------------- 16.7/38.1 MB 3.9 MB/s eta 0:00:06\n",
      "   ----------------- ---------------------- 16.8/38.1 MB 3.9 MB/s eta 0:00:06\n",
      "   ----------------- ---------------------- 17.0/38.1 MB 3.9 MB/s eta 0:00:06\n",
      "   ------------------ --------------------- 17.2/38.1 MB 3.9 MB/s eta 0:00:06\n",
      "   ------------------ --------------------- 17.4/38.1 MB 3.9 MB/s eta 0:00:06\n",
      "   ------------------ --------------------- 17.6/38.1 MB 4.0 MB/s eta 0:00:06\n",
      "   ------------------ --------------------- 17.7/38.1 MB 4.0 MB/s eta 0:00:06\n",
      "   ------------------ --------------------- 17.9/38.1 MB 4.0 MB/s eta 0:00:06\n",
      "   ------------------- -------------------- 18.1/38.1 MB 3.9 MB/s eta 0:00:06\n",
      "   ------------------- -------------------- 18.3/38.1 MB 3.9 MB/s eta 0:00:06\n",
      "   ------------------- -------------------- 18.5/38.1 MB 3.9 MB/s eta 0:00:06\n",
      "   ------------------- -------------------- 18.6/38.1 MB 3.9 MB/s eta 0:00:06\n",
      "   ------------------- -------------------- 18.8/38.1 MB 3.9 MB/s eta 0:00:05\n",
      "   ------------------- -------------------- 19.0/38.1 MB 3.9 MB/s eta 0:00:05\n",
      "   -------------------- ------------------- 19.2/38.1 MB 3.9 MB/s eta 0:00:05\n",
      "   -------------------- ------------------- 19.5/38.1 MB 3.9 MB/s eta 0:00:05\n",
      "   -------------------- ------------------- 19.7/38.1 MB 3.9 MB/s eta 0:00:05\n",
      "   -------------------- ------------------- 19.8/38.1 MB 3.9 MB/s eta 0:00:05\n",
      "   --------------------- ------------------ 20.0/38.1 MB 3.9 MB/s eta 0:00:05\n",
      "   --------------------- ------------------ 20.2/38.1 MB 3.9 MB/s eta 0:00:05\n",
      "   --------------------- ------------------ 20.4/38.1 MB 3.9 MB/s eta 0:00:05\n",
      "   --------------------- ------------------ 20.6/38.1 MB 3.9 MB/s eta 0:00:05\n",
      "   --------------------- ------------------ 20.8/38.1 MB 3.9 MB/s eta 0:00:05\n",
      "   ---------------------- ----------------- 21.1/38.1 MB 3.9 MB/s eta 0:00:05\n",
      "   ---------------------- ----------------- 21.4/38.1 MB 3.9 MB/s eta 0:00:05\n",
      "   ---------------------- ----------------- 21.6/38.1 MB 3.9 MB/s eta 0:00:05\n",
      "   ---------------------- ----------------- 21.8/38.1 MB 3.9 MB/s eta 0:00:05\n",
      "   ----------------------- ---------------- 21.9/38.1 MB 3.9 MB/s eta 0:00:05\n",
      "   ----------------------- ---------------- 22.1/38.1 MB 3.9 MB/s eta 0:00:05\n",
      "   ----------------------- ---------------- 22.3/38.1 MB 3.9 MB/s eta 0:00:05\n",
      "   ----------------------- ---------------- 22.5/38.1 MB 3.9 MB/s eta 0:00:05\n",
      "   ----------------------- ---------------- 22.7/38.1 MB 3.9 MB/s eta 0:00:04\n",
      "   ------------------------ --------------- 22.9/38.1 MB 3.9 MB/s eta 0:00:04\n",
      "   ------------------------ --------------- 23.1/38.1 MB 3.9 MB/s eta 0:00:04\n",
      "   ------------------------ --------------- 23.3/38.1 MB 3.9 MB/s eta 0:00:04\n",
      "   ------------------------ --------------- 23.5/38.1 MB 3.9 MB/s eta 0:00:04\n",
      "   ------------------------ --------------- 23.7/38.1 MB 3.9 MB/s eta 0:00:04\n",
      "   ------------------------- -------------- 23.8/38.1 MB 3.9 MB/s eta 0:00:04\n",
      "   ------------------------- -------------- 24.0/38.1 MB 3.9 MB/s eta 0:00:04\n",
      "   ------------------------- -------------- 24.2/38.1 MB 3.9 MB/s eta 0:00:04\n",
      "   ------------------------- -------------- 24.4/38.1 MB 3.9 MB/s eta 0:00:04\n",
      "   ------------------------- -------------- 24.6/38.1 MB 3.9 MB/s eta 0:00:04\n",
      "   -------------------------- ------------- 24.8/38.1 MB 3.9 MB/s eta 0:00:04\n",
      "   -------------------------- ------------- 25.0/38.1 MB 3.9 MB/s eta 0:00:04\n",
      "   -------------------------- ------------- 25.2/38.1 MB 3.9 MB/s eta 0:00:04\n",
      "   -------------------------- ------------- 25.4/38.1 MB 3.9 MB/s eta 0:00:04\n",
      "   -------------------------- ------------- 25.5/38.1 MB 3.9 MB/s eta 0:00:04\n",
      "   --------------------------- ------------ 25.8/38.1 MB 3.9 MB/s eta 0:00:04\n",
      "   --------------------------- ------------ 26.0/38.1 MB 3.9 MB/s eta 0:00:04\n",
      "   --------------------------- ------------ 26.3/38.1 MB 3.9 MB/s eta 0:00:04\n",
      "   --------------------------- ------------ 26.5/38.1 MB 3.9 MB/s eta 0:00:03\n",
      "   --------------------------- ------------ 26.6/38.1 MB 3.9 MB/s eta 0:00:03\n",
      "   ---------------------------- ----------- 26.9/38.1 MB 3.9 MB/s eta 0:00:03\n",
      "   ---------------------------- ----------- 27.1/38.1 MB 3.9 MB/s eta 0:00:03\n",
      "   ---------------------------- ----------- 27.3/38.1 MB 3.9 MB/s eta 0:00:03\n",
      "   ---------------------------- ----------- 27.5/38.1 MB 3.9 MB/s eta 0:00:03\n",
      "   ----------------------------- ---------- 27.7/38.1 MB 3.9 MB/s eta 0:00:03\n",
      "   ----------------------------- ---------- 27.9/38.1 MB 3.9 MB/s eta 0:00:03\n",
      "   ----------------------------- ---------- 28.1/38.1 MB 3.9 MB/s eta 0:00:03\n",
      "   ----------------------------- ---------- 28.2/38.1 MB 3.9 MB/s eta 0:00:03\n",
      "   ----------------------------- ---------- 28.4/38.1 MB 3.9 MB/s eta 0:00:03\n",
      "   ------------------------------ --------- 28.6/38.1 MB 3.9 MB/s eta 0:00:03\n",
      "   ------------------------------ --------- 28.8/38.1 MB 3.9 MB/s eta 0:00:03\n",
      "   ------------------------------ --------- 29.0/38.1 MB 3.9 MB/s eta 0:00:03\n",
      "   ------------------------------ --------- 29.2/38.1 MB 3.9 MB/s eta 0:00:03\n",
      "   ------------------------------ --------- 29.4/38.1 MB 3.9 MB/s eta 0:00:03\n",
      "   ------------------------------- -------- 29.7/38.1 MB 3.9 MB/s eta 0:00:03\n",
      "   ------------------------------- -------- 29.8/38.1 MB 3.9 MB/s eta 0:00:03\n",
      "   ------------------------------- -------- 30.0/38.1 MB 3.9 MB/s eta 0:00:03\n",
      "   ------------------------------- -------- 30.2/38.1 MB 3.9 MB/s eta 0:00:03\n",
      "   ------------------------------- -------- 30.4/38.1 MB 3.9 MB/s eta 0:00:02\n",
      "   -------------------------------- ------- 30.6/38.1 MB 3.9 MB/s eta 0:00:02\n",
      "   -------------------------------- ------- 30.7/38.1 MB 3.9 MB/s eta 0:00:02\n",
      "   -------------------------------- ------- 30.9/38.1 MB 3.9 MB/s eta 0:00:02\n",
      "   -------------------------------- ------- 31.1/38.1 MB 3.9 MB/s eta 0:00:02\n",
      "   -------------------------------- ------- 31.3/38.1 MB 3.9 MB/s eta 0:00:02\n",
      "   --------------------------------- ------ 31.5/38.1 MB 3.9 MB/s eta 0:00:02\n",
      "   --------------------------------- ------ 31.7/38.1 MB 3.9 MB/s eta 0:00:02\n",
      "   --------------------------------- ------ 31.9/38.1 MB 3.9 MB/s eta 0:00:02\n",
      "   --------------------------------- ------ 32.1/38.1 MB 3.9 MB/s eta 0:00:02\n",
      "   --------------------------------- ------ 32.3/38.1 MB 3.9 MB/s eta 0:00:02\n",
      "   ---------------------------------- ----- 32.5/38.1 MB 3.9 MB/s eta 0:00:02\n",
      "   ---------------------------------- ----- 32.7/38.1 MB 3.9 MB/s eta 0:00:02\n",
      "   ---------------------------------- ----- 32.9/38.1 MB 3.9 MB/s eta 0:00:02\n",
      "   ---------------------------------- ----- 33.0/38.1 MB 3.9 MB/s eta 0:00:02\n",
      "   ---------------------------------- ----- 33.2/38.1 MB 3.9 MB/s eta 0:00:02\n",
      "   ----------------------------------- ---- 33.4/38.1 MB 3.9 MB/s eta 0:00:02\n",
      "   ----------------------------------- ---- 33.6/38.1 MB 3.9 MB/s eta 0:00:02\n",
      "   ----------------------------------- ---- 33.8/38.1 MB 3.9 MB/s eta 0:00:02\n",
      "   ----------------------------------- ---- 34.0/38.1 MB 3.9 MB/s eta 0:00:02\n",
      "   ----------------------------------- ---- 34.2/38.1 MB 3.9 MB/s eta 0:00:01\n",
      "   ------------------------------------ --- 34.4/38.1 MB 3.9 MB/s eta 0:00:01\n",
      "   ------------------------------------ --- 34.7/38.1 MB 3.9 MB/s eta 0:00:01\n",
      "   ------------------------------------ --- 34.9/38.1 MB 3.9 MB/s eta 0:00:01\n",
      "   ------------------------------------ --- 35.1/38.1 MB 3.9 MB/s eta 0:00:01\n",
      "   ------------------------------------- -- 35.3/38.1 MB 3.9 MB/s eta 0:00:01\n",
      "   ------------------------------------- -- 35.5/38.1 MB 3.9 MB/s eta 0:00:01\n",
      "   ------------------------------------- -- 35.7/38.1 MB 3.9 MB/s eta 0:00:01\n",
      "   ------------------------------------- -- 35.9/38.1 MB 3.9 MB/s eta 0:00:01\n",
      "   ------------------------------------- -- 36.1/38.1 MB 3.9 MB/s eta 0:00:01\n",
      "   -------------------------------------- - 36.2/38.1 MB 3.9 MB/s eta 0:00:01\n",
      "   -------------------------------------- - 36.4/38.1 MB 3.9 MB/s eta 0:00:01\n",
      "   -------------------------------------- - 36.6/38.1 MB 3.9 MB/s eta 0:00:01\n",
      "   -------------------------------------- - 36.8/38.1 MB 3.9 MB/s eta 0:00:01\n",
      "   -------------------------------------- - 37.0/38.1 MB 3.9 MB/s eta 0:00:01\n",
      "   ---------------------------------------  37.2/38.1 MB 3.9 MB/s eta 0:00:01\n",
      "   ---------------------------------------  37.4/38.1 MB 3.9 MB/s eta 0:00:01\n",
      "   ---------------------------------------  37.6/38.1 MB 3.9 MB/s eta 0:00:01\n",
      "   ---------------------------------------  37.8/38.1 MB 3.9 MB/s eta 0:00:01\n",
      "   ---------------------------------------  37.9/38.1 MB 3.9 MB/s eta 0:00:01\n",
      "   ---------------------------------------  38.1/38.1 MB 3.9 MB/s eta 0:00:01\n",
      "   ---------------------------------------  38.1/38.1 MB 3.9 MB/s eta 0:00:01\n",
      "   ---------------------------------------- 38.1/38.1 MB 3.6 MB/s eta 0:00:00\n",
      "Installing collected packages: opencv-python\n",
      "Successfully installed opencv-python-4.8.1.78\n"
     ]
    }
   ],
   "source": [
    "!pip install opencv-python"
   ]
  },
  {
   "cell_type": "code",
   "execution_count": 11,
   "id": "5c9bdceb-bd0e-4dc2-bcb9-457accd18781",
   "metadata": {},
   "outputs": [
    {
     "name": "stdout",
     "output_type": "stream",
     "text": [
      "Requirement already satisfied: pillow in c:\\python311\\lib\\site-packages (10.0.1)\n",
      "Requirement already satisfied: pytesseract in c:\\python311\\lib\\site-packages (0.3.10)\n",
      "Requirement already satisfied: packaging>=21.3 in c:\\users\\devsh\\appdata\\roaming\\python\\python311\\site-packages (from pytesseract) (23.2)\n",
      "Requirement already satisfied: Pillow>=8.0.0 in c:\\python311\\lib\\site-packages (from pytesseract) (10.0.1)\n"
     ]
    }
   ],
   "source": [
    "!pip install pillow --user\n",
    "!pip install pytesseract --user"
   ]
  },
  {
   "cell_type": "code",
   "execution_count": 12,
   "id": "57cc10db-eeaf-45a4-91a5-c53a92bf59c6",
   "metadata": {},
   "outputs": [
    {
     "name": "stdout",
     "output_type": "stream",
     "text": [
      "Collecting spacy\n",
      "  Obtaining dependency information for spacy from https://files.pythonhosted.org/packages/ad/ca/1f6d0446d8ed55290ca49db6416c4faeeca579d127f379a2e360f179b69c/spacy-3.7.1-cp311-cp311-win_amd64.whl.metadata\n",
      "  Using cached spacy-3.7.1-cp311-cp311-win_amd64.whl.metadata (26 kB)\n",
      "Collecting spacy-legacy<3.1.0,>=3.0.11 (from spacy)\n",
      "  Using cached spacy_legacy-3.0.12-py2.py3-none-any.whl (29 kB)\n",
      "Collecting spacy-loggers<2.0.0,>=1.0.0 (from spacy)\n",
      "  Obtaining dependency information for spacy-loggers<2.0.0,>=1.0.0 from https://files.pythonhosted.org/packages/33/78/d1a1a026ef3af911159398c939b1509d5c36fe524c7b644f34a5146c4e16/spacy_loggers-1.0.5-py3-none-any.whl.metadata\n",
      "  Using cached spacy_loggers-1.0.5-py3-none-any.whl.metadata (23 kB)\n",
      "Collecting murmurhash<1.1.0,>=0.28.0 (from spacy)\n",
      "  Obtaining dependency information for murmurhash<1.1.0,>=0.28.0 from https://files.pythonhosted.org/packages/71/46/af01a20ec368bd9cb49a1d2df15e3eca113bbf6952cc1f2a47f1c6801a7f/murmurhash-1.0.10-cp311-cp311-win_amd64.whl.metadata\n",
      "  Using cached murmurhash-1.0.10-cp311-cp311-win_amd64.whl.metadata (2.0 kB)\n",
      "Requirement already satisfied: cymem<2.1.0,>=2.0.2 in c:\\python311\\lib\\site-packages (from spacy) (2.0.8)\n",
      "Collecting preshed<3.1.0,>=3.0.2 (from spacy)\n",
      "  Obtaining dependency information for preshed<3.1.0,>=3.0.2 from https://files.pythonhosted.org/packages/e4/fc/78cdbdb79f5d6d45949e72c32445d6c060977ad50a1dcfc0392622165f7c/preshed-3.0.9-cp311-cp311-win_amd64.whl.metadata\n",
      "  Using cached preshed-3.0.9-cp311-cp311-win_amd64.whl.metadata (2.2 kB)\n",
      "Collecting thinc<8.3.0,>=8.1.8 (from spacy)\n",
      "  Obtaining dependency information for thinc<8.3.0,>=8.1.8 from https://files.pythonhosted.org/packages/dd/e9/c806bd2b281cc4cb5eea9375c3f45f6c4ff293877f469bb38d78a4f1cf96/thinc-8.2.1-cp311-cp311-win_amd64.whl.metadata\n",
      "  Using cached thinc-8.2.1-cp311-cp311-win_amd64.whl.metadata (15 kB)\n",
      "Requirement already satisfied: wasabi<1.2.0,>=0.9.1 in c:\\python311\\lib\\site-packages (from spacy) (1.1.2)\n",
      "Collecting srsly<3.0.0,>=2.4.3 (from spacy)\n",
      "  Obtaining dependency information for srsly<3.0.0,>=2.4.3 from https://files.pythonhosted.org/packages/eb/f5/e3f29993f673d91623df6413ba64e815dd2676fd7932cbc5e7347402ddae/srsly-2.4.8-cp311-cp311-win_amd64.whl.metadata\n",
      "  Using cached srsly-2.4.8-cp311-cp311-win_amd64.whl.metadata (20 kB)\n",
      "Collecting catalogue<2.1.0,>=2.0.6 (from spacy)\n",
      "  Obtaining dependency information for catalogue<2.1.0,>=2.0.6 from https://files.pythonhosted.org/packages/9e/96/d32b941a501ab566a16358d68b6eb4e4acc373fab3c3c4d7d9e649f7b4bb/catalogue-2.0.10-py3-none-any.whl.metadata\n",
      "  Using cached catalogue-2.0.10-py3-none-any.whl.metadata (14 kB)\n",
      "Collecting weasel<0.4.0,>=0.1.0 (from spacy)\n",
      "  Obtaining dependency information for weasel<0.4.0,>=0.1.0 from https://files.pythonhosted.org/packages/de/f5/6786a5fd1ab6a38511f3772c9002f312a2d509c1237ae514631adf145ad4/weasel-0.3.2-py3-none-any.whl.metadata\n",
      "  Using cached weasel-0.3.2-py3-none-any.whl.metadata (4.7 kB)\n",
      "Collecting typer<0.10.0,>=0.3.0 (from spacy)\n",
      "  Using cached typer-0.9.0-py3-none-any.whl (45 kB)\n",
      "Collecting pathy>=0.10.0 (from spacy)\n",
      "  Obtaining dependency information for pathy>=0.10.0 from https://files.pythonhosted.org/packages/b5/c3/04a002ace658133f5ac48d30258ed9ceab720595dc1ac36df02fe52018af/pathy-0.10.2-py3-none-any.whl.metadata\n",
      "  Using cached pathy-0.10.2-py3-none-any.whl.metadata (16 kB)\n",
      "Collecting smart-open<7.0.0,>=5.2.1 (from spacy)\n",
      "  Obtaining dependency information for smart-open<7.0.0,>=5.2.1 from https://files.pythonhosted.org/packages/fc/d9/d97f1db64b09278aba64e8c81b5d322d436132df5741c518f3823824fae0/smart_open-6.4.0-py3-none-any.whl.metadata\n",
      "  Using cached smart_open-6.4.0-py3-none-any.whl.metadata (21 kB)\n",
      "Requirement already satisfied: tqdm<5.0.0,>=4.38.0 in c:\\python311\\lib\\site-packages (from spacy) (4.66.1)\n",
      "Requirement already satisfied: requests<3.0.0,>=2.13.0 in c:\\users\\devsh\\appdata\\roaming\\python\\python311\\site-packages (from spacy) (2.31.0)\n",
      "Collecting pydantic!=1.8,!=1.8.1,<3.0.0,>=1.7.4 (from spacy)\n",
      "  Obtaining dependency information for pydantic!=1.8,!=1.8.1,<3.0.0,>=1.7.4 from https://files.pythonhosted.org/packages/73/66/0a72c9fcde42e5650c8d8d5c5c1873b9a3893018020c77ca8eb62708b923/pydantic-2.4.2-py3-none-any.whl.metadata\n",
      "  Using cached pydantic-2.4.2-py3-none-any.whl.metadata (158 kB)\n",
      "Requirement already satisfied: jinja2 in c:\\users\\devsh\\appdata\\roaming\\python\\python311\\site-packages (from spacy) (3.1.2)\n",
      "Requirement already satisfied: setuptools in c:\\python311\\lib\\site-packages (from spacy) (65.5.0)\n",
      "Requirement already satisfied: packaging>=20.0 in c:\\users\\devsh\\appdata\\roaming\\python\\python311\\site-packages (from spacy) (23.2)\n",
      "Collecting langcodes<4.0.0,>=3.2.0 (from spacy)\n",
      "  Using cached langcodes-3.3.0-py3-none-any.whl (181 kB)\n",
      "Requirement already satisfied: numpy>=1.19.0 in c:\\python311\\lib\\site-packages (from spacy) (1.26.0)\n",
      "Collecting annotated-types>=0.4.0 (from pydantic!=1.8,!=1.8.1,<3.0.0,>=1.7.4->spacy)\n",
      "  Obtaining dependency information for annotated-types>=0.4.0 from https://files.pythonhosted.org/packages/28/78/d31230046e58c207284c6b2c4e8d96e6d3cb4e52354721b944d3e1ee4aa5/annotated_types-0.6.0-py3-none-any.whl.metadata\n",
      "  Using cached annotated_types-0.6.0-py3-none-any.whl.metadata (12 kB)\n",
      "Collecting pydantic-core==2.10.1 (from pydantic!=1.8,!=1.8.1,<3.0.0,>=1.7.4->spacy)\n",
      "  Obtaining dependency information for pydantic-core==2.10.1 from https://files.pythonhosted.org/packages/7c/49/bd863a3d7c5412d739f3a28da0f437f25ccfa92413675c93412e64b812ed/pydantic_core-2.10.1-cp311-none-win_amd64.whl.metadata\n",
      "  Using cached pydantic_core-2.10.1-cp311-none-win_amd64.whl.metadata (6.6 kB)\n",
      "Requirement already satisfied: typing-extensions>=4.6.1 in c:\\python311\\lib\\site-packages (from pydantic!=1.8,!=1.8.1,<3.0.0,>=1.7.4->spacy) (4.8.0)\n",
      "Requirement already satisfied: charset-normalizer<4,>=2 in c:\\users\\devsh\\appdata\\roaming\\python\\python311\\site-packages (from requests<3.0.0,>=2.13.0->spacy) (3.3.0)\n",
      "Requirement already satisfied: idna<4,>=2.5 in c:\\users\\devsh\\appdata\\roaming\\python\\python311\\site-packages (from requests<3.0.0,>=2.13.0->spacy) (3.4)\n",
      "Requirement already satisfied: urllib3<3,>=1.21.1 in c:\\users\\devsh\\appdata\\roaming\\python\\python311\\site-packages (from requests<3.0.0,>=2.13.0->spacy) (2.0.6)\n",
      "Requirement already satisfied: certifi>=2017.4.17 in c:\\users\\devsh\\appdata\\roaming\\python\\python311\\site-packages (from requests<3.0.0,>=2.13.0->spacy) (2023.7.22)\n",
      "Collecting blis<0.8.0,>=0.7.8 (from thinc<8.3.0,>=8.1.8->spacy)\n",
      "  Obtaining dependency information for blis<0.8.0,>=0.7.8 from https://files.pythonhosted.org/packages/2f/09/da0592c74560cc33396504698122f7a56747c82a5e072ca7d2c3397898e1/blis-0.7.11-cp311-cp311-win_amd64.whl.metadata\n",
      "  Using cached blis-0.7.11-cp311-cp311-win_amd64.whl.metadata (7.6 kB)\n",
      "Collecting confection<1.0.0,>=0.0.1 (from thinc<8.3.0,>=8.1.8->spacy)\n",
      "  Obtaining dependency information for confection<1.0.0,>=0.0.1 from https://files.pythonhosted.org/packages/93/f8/e89268a1f885048fb2ee6b5c9f93c4e90de768534acfef3652f87d97d4cb/confection-0.1.3-py3-none-any.whl.metadata\n",
      "  Using cached confection-0.1.3-py3-none-any.whl.metadata (19 kB)\n",
      "Requirement already satisfied: colorama in c:\\users\\devsh\\appdata\\roaming\\python\\python311\\site-packages (from tqdm<5.0.0,>=4.38.0->spacy) (0.4.6)\n",
      "Collecting click<9.0.0,>=7.1.1 (from typer<0.10.0,>=0.3.0->spacy)\n",
      "  Obtaining dependency information for click<9.0.0,>=7.1.1 from https://files.pythonhosted.org/packages/00/2e/d53fa4befbf2cfa713304affc7ca780ce4fc1fd8710527771b58311a3229/click-8.1.7-py3-none-any.whl.metadata\n",
      "  Using cached click-8.1.7-py3-none-any.whl.metadata (3.0 kB)\n",
      "Collecting cloudpathlib<0.16.0,>=0.7.0 (from weasel<0.4.0,>=0.1.0->spacy)\n",
      "  Obtaining dependency information for cloudpathlib<0.16.0,>=0.7.0 from https://files.pythonhosted.org/packages/97/a2/e9a5bd762cccefc92a98c87354a65a8b75c280ab187a05e6d5851adbdae6/cloudpathlib-0.15.1-py3-none-any.whl.metadata\n",
      "  Using cached cloudpathlib-0.15.1-py3-none-any.whl.metadata (13 kB)\n",
      "Requirement already satisfied: MarkupSafe>=2.0 in c:\\users\\devsh\\appdata\\roaming\\python\\python311\\site-packages (from jinja2->spacy) (2.1.3)\n",
      "Using cached spacy-3.7.1-cp311-cp311-win_amd64.whl (12.1 MB)\n",
      "Using cached catalogue-2.0.10-py3-none-any.whl (17 kB)\n",
      "Using cached murmurhash-1.0.10-cp311-cp311-win_amd64.whl (25 kB)\n",
      "Using cached pathy-0.10.2-py3-none-any.whl (48 kB)\n",
      "Using cached preshed-3.0.9-cp311-cp311-win_amd64.whl (122 kB)\n",
      "Using cached pydantic-2.4.2-py3-none-any.whl (395 kB)\n",
      "Using cached pydantic_core-2.10.1-cp311-none-win_amd64.whl (2.0 MB)\n",
      "Using cached smart_open-6.4.0-py3-none-any.whl (57 kB)\n",
      "Using cached spacy_loggers-1.0.5-py3-none-any.whl (22 kB)\n",
      "Using cached srsly-2.4.8-cp311-cp311-win_amd64.whl (479 kB)\n",
      "Using cached thinc-8.2.1-cp311-cp311-win_amd64.whl (1.5 MB)\n",
      "Using cached weasel-0.3.2-py3-none-any.whl (50 kB)\n",
      "Using cached annotated_types-0.6.0-py3-none-any.whl (12 kB)\n",
      "Using cached blis-0.7.11-cp311-cp311-win_amd64.whl (6.6 MB)\n",
      "Using cached click-8.1.7-py3-none-any.whl (97 kB)\n",
      "Using cached cloudpathlib-0.15.1-py3-none-any.whl (43 kB)\n",
      "Using cached confection-0.1.3-py3-none-any.whl (34 kB)\n",
      "Installing collected packages: spacy-loggers, spacy-legacy, smart-open, pydantic-core, murmurhash, langcodes, cloudpathlib, click, catalogue, blis, annotated-types, typer, srsly, pydantic, preshed, pathy, confection, weasel, thinc, spacy\n",
      "Successfully installed annotated-types-0.6.0 blis-0.7.11 catalogue-2.0.10 click-8.1.7 cloudpathlib-0.15.1 confection-0.1.3 langcodes-3.3.0 murmurhash-1.0.10 pathy-0.10.2 preshed-3.0.9 pydantic-2.4.2 pydantic-core-2.10.1 smart-open-6.4.0 spacy-3.7.1 spacy-legacy-3.0.12 spacy-loggers-1.0.5 srsly-2.4.8 thinc-8.2.1 typer-0.9.0 weasel-0.3.2\n"
     ]
    }
   ],
   "source": [
    "!pip install spacy --user"
   ]
  },
  {
   "cell_type": "code",
   "execution_count": 13,
   "id": "9416de0d-c25f-43fd-9547-1e58a2d4a0d4",
   "metadata": {},
   "outputs": [],
   "source": [
    "import numpy as np\n",
    "import pandas as pd\n",
    "import cv2\n",
    "import PIL #Python Image Library\n",
    "import pytesseract\n",
    "import spacy"
   ]
  },
  {
   "cell_type": "code",
   "execution_count": null,
   "id": "f16a04a1-496d-4041-b125-77d8bb9bfa5d",
   "metadata": {},
   "outputs": [],
   "source": [
    "img_cv2 = cv2.imread('./BusinessCardData/Selected/052.jpeg')\n",
    "cv2.imshow('Business Card',img_cv2)\n",
    "cv2.waitKey(0) #Manually Closing the open image window\n",
    "cv2.destroyAllWindows() #once the waitkey is over, need to destroy all the windows"
   ]
  },
  {
   "cell_type": "code",
   "execution_count": null,
   "id": "3647be6c-f43b-4a19-abdb-812fc5b633c2",
   "metadata": {},
   "outputs": [],
   "source": [
    "img_pil = PIL.Image.open('./BusinessCardData/Selected/052.jpeg')"
   ]
  },
  {
   "cell_type": "code",
   "execution_count": null,
   "id": "df4bdc79-3e3a-4f1f-9301-0eb8580d61cb",
   "metadata": {},
   "outputs": [],
   "source": [
    "type(img_pil) #outputs as an object"
   ]
  },
  {
   "cell_type": "code",
   "execution_count": null,
   "id": "ffa6ff98-f435-41f0-8f3c-ed09d5207a91",
   "metadata": {},
   "outputs": [],
   "source": [
    "img_pil"
   ]
  },
  {
   "cell_type": "code",
   "execution_count": null,
   "id": "c058a369-68ef-45d6-a970-3e486870d69b",
   "metadata": {},
   "outputs": [],
   "source": [
    "type(img_cv2)"
   ]
  },
  {
   "cell_type": "markdown",
   "id": "f7cf76ab-6c14-41fb-920c-92eea313d88a",
   "metadata": {},
   "source": [
    "## Text from Image"
   ]
  },
  {
   "cell_type": "code",
   "execution_count": null,
   "id": "8ca7850c-695a-48e5-af79-c125afa7059f",
   "metadata": {},
   "outputs": [],
   "source": [
    "text_cv = pytesseract.image_to_string(img_cv2)"
   ]
  },
  {
   "cell_type": "code",
   "execution_count": null,
   "id": "cfcadabb-c603-43a3-aa3d-91ccf560d746",
   "metadata": {},
   "outputs": [],
   "source": [
    "print(text_cv)"
   ]
  },
  {
   "cell_type": "code",
   "execution_count": null,
   "id": "6fb6ade6-1f7a-45a3-9844-9b161a7ae120",
   "metadata": {},
   "outputs": [],
   "source": [
    "text_pl = pytesseract.image_to_string(img_pil)"
   ]
  },
  {
   "cell_type": "code",
   "execution_count": null,
   "id": "962329b2-0c00-484a-a9cb-ba451ea6f8e1",
   "metadata": {},
   "outputs": [],
   "source": [
    "print(text_pl)"
   ]
  },
  {
   "cell_type": "markdown",
   "id": "94b463e6-2204-4a5a-897a-31a1965632fe",
   "metadata": {},
   "source": [
    "## Image to Data"
   ]
  },
  {
   "cell_type": "code",
   "execution_count": null,
   "id": "8f0225e2-8323-4995-a837-801811f58f9b",
   "metadata": {},
   "outputs": [],
   "source": [
    "data = pytesseract.image_to_data(img_cv2)"
   ]
  },
  {
   "cell_type": "code",
   "execution_count": null,
   "id": "c947bad2-e490-4078-97a0-10c8998c676a",
   "metadata": {},
   "outputs": [],
   "source": [
    "print(data)"
   ]
  },
  {
   "cell_type": "code",
   "execution_count": null,
   "id": "ac077c80-6826-428b-a724-7f55821884f5",
   "metadata": {},
   "outputs": [],
   "source": [
    "data"
   ]
  },
  {
   "cell_type": "code",
   "execution_count": null,
   "id": "8d251949-1be5-4d86-9de3-3b4242297123",
   "metadata": {},
   "outputs": [],
   "source": [
    "data.split('\\n')"
   ]
  },
  {
   "cell_type": "code",
   "execution_count": null,
   "id": "5695a1fa-0c81-4859-b39a-3f4352aaf6d0",
   "metadata": {},
   "outputs": [],
   "source": [
    "list(map(lambda x:x.split('\\t'),['level\\tpage_num\\tblock_num\\tpar_num\\tline_num\\tword_num\\tleft\\ttop\\twidth\\theight\\tconf\\ttext']))"
   ]
  },
  {
   "cell_type": "code",
   "execution_count": null,
   "id": "1c716cb7-2ae8-4959-8d0d-3ab69f615766",
   "metadata": {},
   "outputs": [],
   "source": [
    "dataList = list(map(lambda x:x.split('\\t'),data.split('\\n')))\n",
    "dataList"
   ]
  },
  {
   "cell_type": "code",
   "execution_count": null,
   "id": "7ccbe878-a0eb-4a81-9d3e-7d4ed3b71936",
   "metadata": {},
   "outputs": [],
   "source": [
    "df = pd.DataFrame(dataList[1:],columns=dataList[0])"
   ]
  },
  {
   "cell_type": "code",
   "execution_count": null,
   "id": "e2fa2200-ac24-4f4b-b8b0-888d0c8183d0",
   "metadata": {},
   "outputs": [],
   "source": [
    "df"
   ]
  },
  {
   "cell_type": "code",
   "execution_count": null,
   "id": "6cdcec72-9fa1-4e6e-8072-6f532b86d724",
   "metadata": {},
   "outputs": [],
   "source": [
    "df.head()"
   ]
  },
  {
   "cell_type": "code",
   "execution_count": null,
   "id": "e2fb7bec-1845-42ba-b89e-3c2c73115b33",
   "metadata": {},
   "outputs": [],
   "source": [
    "df.info()"
   ]
  },
  {
   "cell_type": "code",
   "execution_count": null,
   "id": "a08b06d7-8b75-406a-82e0-eb165d5bedce",
   "metadata": {},
   "outputs": [],
   "source": [
    "df.columns"
   ]
  },
  {
   "cell_type": "code",
   "execution_count": null,
   "id": "10a51d37-d417-4500-8fd5-47a52a701efd",
   "metadata": {},
   "outputs": [],
   "source": [
    "df.dropna(inplace=True) # drop the missing values in rows\n",
    "columns_int = ['level', 'page_num', 'block_num', 'par_num', 'line_num', 'word_num','left', 'top', 'width', 'height','conf']\n",
    "# df[columns_int] = df[columns_int].astype(int)\n",
    "df[columns_int] = df[columns_int].astype(float).round(0).astype(int)"
   ]
  },
  {
   "cell_type": "code",
   "execution_count": null,
   "id": "6c35a4ea-200d-4f1c-929d-7b18f91812a8",
   "metadata": {},
   "outputs": [],
   "source": [
    "df.info()"
   ]
  },
  {
   "cell_type": "code",
   "execution_count": null,
   "id": "c996472d-d0ab-4b90-ab3c-c5922b9289f2",
   "metadata": {},
   "outputs": [],
   "source": [
    "image = img_cv2.copy()\n",
    "level = 'words'\n",
    "for l,x,y,w,h,c,txt in df[['level','left','top','width','height','conf','text']].values:\n",
    "    #print(l,x,y,w,h,c)\n",
    "    if level == 'page':\n",
    "        if l == 1:\n",
    "            cv2.rectangle(image,(x,y),(x+w,y+h),(0,0,0),2)\n",
    "        else:\n",
    "            continue\n",
    "    elif level == 'block':\n",
    "        if l == 2:\n",
    "            cv2.rectangle(image,(x,y),(x+w,y+h),(255,0,0),2)  #BGR format for cv2\n",
    "        else:\n",
    "            continue\n",
    "    elif level == 'para':\n",
    "        if l == 3:\n",
    "            cv2.rectangle(image,(x,y),(x+w,y+h),(0,255,0),2)  #BGR format for cv2\n",
    "        else:\n",
    "            continue\n",
    "    elif level == 'line':\n",
    "        if l == 4:\n",
    "            cv2.rectangle(image,(x,y),(x+w,y+h),(0,0,255),2)  #BGR format for cv2\n",
    "        else:\n",
    "            continue\n",
    "    \n",
    "    elif level == 'words':\n",
    "        if l == 5:\n",
    "            cv2.rectangle(image,(x,y),(x+w,y+h),(0,255,0),2)  #BGR format for cv2\n",
    "            cv2.putText(image,txt,(x,y),cv2.FONT_HERSHEY_PLAIN,1,(255,0,0),2)\n",
    "        else:\n",
    "            continue\n",
    "cv2.imshow(\"Bounding Box:\",image)\n",
    "cv2.waitKey()\n",
    "cv2.destroyAllWindows()"
   ]
  },
  {
   "cell_type": "code",
   "execution_count": null,
   "id": "eba5fcfb-5b9b-4974-a2a2-957671df2910",
   "metadata": {},
   "outputs": [],
   "source": []
  }
 ],
 "metadata": {
  "kernelspec": {
   "display_name": "Python 3 (ipykernel)",
   "language": "python",
   "name": "python3"
  },
  "language_info": {
   "codemirror_mode": {
    "name": "ipython",
    "version": 3
   },
   "file_extension": ".py",
   "mimetype": "text/x-python",
   "name": "python",
   "nbconvert_exporter": "python",
   "pygments_lexer": "ipython3",
   "version": "3.11.5"
  }
 },
 "nbformat": 4,
 "nbformat_minor": 5
}
