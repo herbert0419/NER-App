{
 "cells": [
  {
   "cell_type": "code",
   "execution_count": 1,
   "id": "d25d633b-8661-43bc-8c8c-7ac753d5c837",
   "metadata": {},
   "outputs": [],
   "source": [
    "import numpy as np\n",
    "import pandas as pd\n",
    "import cv2\n",
    "import pytesseract\n",
    "\n",
    "import os\n",
    "from glob import glob # useful to extract the path\n",
    "from tqdm import tqdm\n",
    "\n",
    "import warnings\n",
    "warnings.filterwarnings('ignore')"
   ]
  },
  {
   "cell_type": "code",
   "execution_count": 3,
   "id": "a8ad27a9-821b-49cd-b657-aaee92207fe7",
   "metadata": {},
   "outputs": [
    {
     "data": {
      "text/plain": [
       "['./BusinessCardData/Selected\\\\000.jpeg',\n",
       " './BusinessCardData/Selected\\\\001.jpeg',\n",
       " './BusinessCardData/Selected\\\\002.jpeg',\n",
       " './BusinessCardData/Selected\\\\003.jpeg',\n",
       " './BusinessCardData/Selected\\\\004.jpeg',\n",
       " './BusinessCardData/Selected\\\\005.jpeg',\n",
       " './BusinessCardData/Selected\\\\006.jpeg',\n",
       " './BusinessCardData/Selected\\\\007.jpeg',\n",
       " './BusinessCardData/Selected\\\\008.jpeg',\n",
       " './BusinessCardData/Selected\\\\009.jpeg',\n",
       " './BusinessCardData/Selected\\\\010.jpeg',\n",
       " './BusinessCardData/Selected\\\\011.jpeg',\n",
       " './BusinessCardData/Selected\\\\012.jpeg',\n",
       " './BusinessCardData/Selected\\\\013.jpeg',\n",
       " './BusinessCardData/Selected\\\\014.jpeg',\n",
       " './BusinessCardData/Selected\\\\015.jpeg',\n",
       " './BusinessCardData/Selected\\\\016.jpeg',\n",
       " './BusinessCardData/Selected\\\\017.jpeg',\n",
       " './BusinessCardData/Selected\\\\018.jpeg',\n",
       " './BusinessCardData/Selected\\\\019.jpeg',\n",
       " './BusinessCardData/Selected\\\\020.jpeg',\n",
       " './BusinessCardData/Selected\\\\021.jpeg',\n",
       " './BusinessCardData/Selected\\\\022.jpeg',\n",
       " './BusinessCardData/Selected\\\\023.jpeg',\n",
       " './BusinessCardData/Selected\\\\024.jpeg',\n",
       " './BusinessCardData/Selected\\\\025.jpeg',\n",
       " './BusinessCardData/Selected\\\\026.jpeg',\n",
       " './BusinessCardData/Selected\\\\027.jpeg',\n",
       " './BusinessCardData/Selected\\\\028.jpeg',\n",
       " './BusinessCardData/Selected\\\\029.jpeg',\n",
       " './BusinessCardData/Selected\\\\030.jpeg',\n",
       " './BusinessCardData/Selected\\\\031.jpeg',\n",
       " './BusinessCardData/Selected\\\\032.jpeg',\n",
       " './BusinessCardData/Selected\\\\033.jpeg',\n",
       " './BusinessCardData/Selected\\\\034.jpeg',\n",
       " './BusinessCardData/Selected\\\\035.jpeg',\n",
       " './BusinessCardData/Selected\\\\036.jpeg',\n",
       " './BusinessCardData/Selected\\\\037.jpeg',\n",
       " './BusinessCardData/Selected\\\\038.jpeg',\n",
       " './BusinessCardData/Selected\\\\039.jpeg',\n",
       " './BusinessCardData/Selected\\\\040.jpeg',\n",
       " './BusinessCardData/Selected\\\\041.jpeg',\n",
       " './BusinessCardData/Selected\\\\042.jpeg',\n",
       " './BusinessCardData/Selected\\\\043.jpeg',\n",
       " './BusinessCardData/Selected\\\\044.jpeg',\n",
       " './BusinessCardData/Selected\\\\045.jpeg',\n",
       " './BusinessCardData/Selected\\\\046.jpeg',\n",
       " './BusinessCardData/Selected\\\\047.jpeg',\n",
       " './BusinessCardData/Selected\\\\048.jpeg',\n",
       " './BusinessCardData/Selected\\\\049.jpeg',\n",
       " './BusinessCardData/Selected\\\\050.jpeg',\n",
       " './BusinessCardData/Selected\\\\051.jpeg',\n",
       " './BusinessCardData/Selected\\\\052.jpeg',\n",
       " './BusinessCardData/Selected\\\\053.jpeg',\n",
       " './BusinessCardData/Selected\\\\054.jpeg',\n",
       " './BusinessCardData/Selected\\\\055.jpeg',\n",
       " './BusinessCardData/Selected\\\\056.jpeg',\n",
       " './BusinessCardData/Selected\\\\057.jpeg',\n",
       " './BusinessCardData/Selected\\\\058.jpeg',\n",
       " './BusinessCardData/Selected\\\\059.jpeg',\n",
       " './BusinessCardData/Selected\\\\060.jpeg',\n",
       " './BusinessCardData/Selected\\\\061.jpeg',\n",
       " './BusinessCardData/Selected\\\\062.jpeg',\n",
       " './BusinessCardData/Selected\\\\063.jpeg',\n",
       " './BusinessCardData/Selected\\\\064.jpeg',\n",
       " './BusinessCardData/Selected\\\\065.jpeg',\n",
       " './BusinessCardData/Selected\\\\066.jpeg',\n",
       " './BusinessCardData/Selected\\\\067.jpeg',\n",
       " './BusinessCardData/Selected\\\\068.jpeg',\n",
       " './BusinessCardData/Selected\\\\069.jpeg',\n",
       " './BusinessCardData/Selected\\\\070.jpeg',\n",
       " './BusinessCardData/Selected\\\\071.jpeg',\n",
       " './BusinessCardData/Selected\\\\072.jpeg',\n",
       " './BusinessCardData/Selected\\\\073.jpeg',\n",
       " './BusinessCardData/Selected\\\\074.jpeg',\n",
       " './BusinessCardData/Selected\\\\075.jpeg',\n",
       " './BusinessCardData/Selected\\\\076.jpeg',\n",
       " './BusinessCardData/Selected\\\\077.jpeg',\n",
       " './BusinessCardData/Selected\\\\078.jpeg',\n",
       " './BusinessCardData/Selected\\\\079.jpeg',\n",
       " './BusinessCardData/Selected\\\\080.jpeg',\n",
       " './BusinessCardData/Selected\\\\081.jpeg',\n",
       " './BusinessCardData/Selected\\\\082.jpeg',\n",
       " './BusinessCardData/Selected\\\\083.jpeg',\n",
       " './BusinessCardData/Selected\\\\084.jpeg',\n",
       " './BusinessCardData/Selected\\\\085.jpeg',\n",
       " './BusinessCardData/Selected\\\\086.jpeg',\n",
       " './BusinessCardData/Selected\\\\087.jpeg',\n",
       " './BusinessCardData/Selected\\\\088.jpeg',\n",
       " './BusinessCardData/Selected\\\\089.jpeg',\n",
       " './BusinessCardData/Selected\\\\090.jpeg',\n",
       " './BusinessCardData/Selected\\\\091.jpeg',\n",
       " './BusinessCardData/Selected\\\\092.jpeg',\n",
       " './BusinessCardData/Selected\\\\093.jpeg',\n",
       " './BusinessCardData/Selected\\\\094.jpeg',\n",
       " './BusinessCardData/Selected\\\\095.jpeg',\n",
       " './BusinessCardData/Selected\\\\096.jpeg',\n",
       " './BusinessCardData/Selected\\\\097.jpeg',\n",
       " './BusinessCardData/Selected\\\\098.jpeg',\n",
       " './BusinessCardData/Selected\\\\099.jpeg',\n",
       " './BusinessCardData/Selected\\\\100.jpeg',\n",
       " './BusinessCardData/Selected\\\\101.jpeg',\n",
       " './BusinessCardData/Selected\\\\102.jpeg',\n",
       " './BusinessCardData/Selected\\\\103.jpeg',\n",
       " './BusinessCardData/Selected\\\\104.jpeg',\n",
       " './BusinessCardData/Selected\\\\105.jpeg',\n",
       " './BusinessCardData/Selected\\\\106.jpeg',\n",
       " './BusinessCardData/Selected\\\\107.jpeg',\n",
       " './BusinessCardData/Selected\\\\108.jpeg',\n",
       " './BusinessCardData/Selected\\\\109.jpeg',\n",
       " './BusinessCardData/Selected\\\\110.jpeg',\n",
       " './BusinessCardData/Selected\\\\111.jpeg',\n",
       " './BusinessCardData/Selected\\\\112.jpeg',\n",
       " './BusinessCardData/Selected\\\\113.jpeg',\n",
       " './BusinessCardData/Selected\\\\114.jpeg',\n",
       " './BusinessCardData/Selected\\\\115.jpeg',\n",
       " './BusinessCardData/Selected\\\\116.jpeg',\n",
       " './BusinessCardData/Selected\\\\117.jpeg',\n",
       " './BusinessCardData/Selected\\\\118.jpeg',\n",
       " './BusinessCardData/Selected\\\\119.jpeg',\n",
       " './BusinessCardData/Selected\\\\120.jpeg',\n",
       " './BusinessCardData/Selected\\\\121.jpeg',\n",
       " './BusinessCardData/Selected\\\\122.jpeg',\n",
       " './BusinessCardData/Selected\\\\123.jpeg',\n",
       " './BusinessCardData/Selected\\\\124.jpeg',\n",
       " './BusinessCardData/Selected\\\\125.jpeg',\n",
       " './BusinessCardData/Selected\\\\126.jpeg',\n",
       " './BusinessCardData/Selected\\\\127.jpeg',\n",
       " './BusinessCardData/Selected\\\\128.jpeg',\n",
       " './BusinessCardData/Selected\\\\129.jpeg',\n",
       " './BusinessCardData/Selected\\\\130.jpeg',\n",
       " './BusinessCardData/Selected\\\\131.jpeg',\n",
       " './BusinessCardData/Selected\\\\132.jpeg',\n",
       " './BusinessCardData/Selected\\\\133.jpeg',\n",
       " './BusinessCardData/Selected\\\\134.jpeg',\n",
       " './BusinessCardData/Selected\\\\135.jpeg',\n",
       " './BusinessCardData/Selected\\\\136.jpeg',\n",
       " './BusinessCardData/Selected\\\\137.jpeg',\n",
       " './BusinessCardData/Selected\\\\138.jpeg',\n",
       " './BusinessCardData/Selected\\\\139.jpeg',\n",
       " './BusinessCardData/Selected\\\\140.jpeg',\n",
       " './BusinessCardData/Selected\\\\141.jpeg',\n",
       " './BusinessCardData/Selected\\\\142.jpeg',\n",
       " './BusinessCardData/Selected\\\\143.jpeg',\n",
       " './BusinessCardData/Selected\\\\144.jpeg',\n",
       " './BusinessCardData/Selected\\\\145.jpeg',\n",
       " './BusinessCardData/Selected\\\\146.jpeg',\n",
       " './BusinessCardData/Selected\\\\147.jpeg',\n",
       " './BusinessCardData/Selected\\\\148.jpeg',\n",
       " './BusinessCardData/Selected\\\\149.jpeg',\n",
       " './BusinessCardData/Selected\\\\150.jpeg',\n",
       " './BusinessCardData/Selected\\\\151.jpeg',\n",
       " './BusinessCardData/Selected\\\\152.jpeg',\n",
       " './BusinessCardData/Selected\\\\153.jpeg',\n",
       " './BusinessCardData/Selected\\\\154.jpeg',\n",
       " './BusinessCardData/Selected\\\\155.jpeg',\n",
       " './BusinessCardData/Selected\\\\156.jpeg',\n",
       " './BusinessCardData/Selected\\\\157.jpeg',\n",
       " './BusinessCardData/Selected\\\\158.jpeg',\n",
       " './BusinessCardData/Selected\\\\159.jpeg',\n",
       " './BusinessCardData/Selected\\\\160.jpeg',\n",
       " './BusinessCardData/Selected\\\\161.jpeg',\n",
       " './BusinessCardData/Selected\\\\162.jpeg',\n",
       " './BusinessCardData/Selected\\\\163.jpeg',\n",
       " './BusinessCardData/Selected\\\\164.jpeg',\n",
       " './BusinessCardData/Selected\\\\165.jpeg',\n",
       " './BusinessCardData/Selected\\\\166.jpeg',\n",
       " './BusinessCardData/Selected\\\\167.jpeg',\n",
       " './BusinessCardData/Selected\\\\168.jpeg',\n",
       " './BusinessCardData/Selected\\\\169.jpeg',\n",
       " './BusinessCardData/Selected\\\\170.jpeg',\n",
       " './BusinessCardData/Selected\\\\171.jpeg',\n",
       " './BusinessCardData/Selected\\\\172.jpeg',\n",
       " './BusinessCardData/Selected\\\\173.jpeg',\n",
       " './BusinessCardData/Selected\\\\174.jpeg',\n",
       " './BusinessCardData/Selected\\\\175.jpeg',\n",
       " './BusinessCardData/Selected\\\\176.jpeg',\n",
       " './BusinessCardData/Selected\\\\177.jpeg',\n",
       " './BusinessCardData/Selected\\\\178.jpeg',\n",
       " './BusinessCardData/Selected\\\\179.jpeg',\n",
       " './BusinessCardData/Selected\\\\180.jpeg',\n",
       " './BusinessCardData/Selected\\\\181.jpeg',\n",
       " './BusinessCardData/Selected\\\\182.jpeg',\n",
       " './BusinessCardData/Selected\\\\183.jpeg',\n",
       " './BusinessCardData/Selected\\\\184.jpeg',\n",
       " './BusinessCardData/Selected\\\\185.jpeg',\n",
       " './BusinessCardData/Selected\\\\186.jpeg',\n",
       " './BusinessCardData/Selected\\\\187.jpeg',\n",
       " './BusinessCardData/Selected\\\\188.jpeg',\n",
       " './BusinessCardData/Selected\\\\189.jpeg',\n",
       " './BusinessCardData/Selected\\\\190.jpeg',\n",
       " './BusinessCardData/Selected\\\\191.jpeg',\n",
       " './BusinessCardData/Selected\\\\192.jpeg',\n",
       " './BusinessCardData/Selected\\\\193.jpeg',\n",
       " './BusinessCardData/Selected\\\\194.jpeg',\n",
       " './BusinessCardData/Selected\\\\195.jpeg',\n",
       " './BusinessCardData/Selected\\\\196.jpeg',\n",
       " './BusinessCardData/Selected\\\\197.jpeg',\n",
       " './BusinessCardData/Selected\\\\198.jpeg',\n",
       " './BusinessCardData/Selected\\\\199.jpeg',\n",
       " './BusinessCardData/Selected\\\\200.jpeg',\n",
       " './BusinessCardData/Selected\\\\201.jpeg',\n",
       " './BusinessCardData/Selected\\\\202.jpeg',\n",
       " './BusinessCardData/Selected\\\\203.jpeg',\n",
       " './BusinessCardData/Selected\\\\204.jpeg',\n",
       " './BusinessCardData/Selected\\\\205.jpeg',\n",
       " './BusinessCardData/Selected\\\\206.jpeg',\n",
       " './BusinessCardData/Selected\\\\207.jpeg',\n",
       " './BusinessCardData/Selected\\\\208.jpeg',\n",
       " './BusinessCardData/Selected\\\\209.jpeg',\n",
       " './BusinessCardData/Selected\\\\210.jpeg',\n",
       " './BusinessCardData/Selected\\\\211.jpeg',\n",
       " './BusinessCardData/Selected\\\\212.jpeg',\n",
       " './BusinessCardData/Selected\\\\213.jpeg',\n",
       " './BusinessCardData/Selected\\\\214.jpeg',\n",
       " './BusinessCardData/Selected\\\\215.jpeg',\n",
       " './BusinessCardData/Selected\\\\216.jpeg',\n",
       " './BusinessCardData/Selected\\\\217.jpeg',\n",
       " './BusinessCardData/Selected\\\\218.jpeg',\n",
       " './BusinessCardData/Selected\\\\219.jpeg',\n",
       " './BusinessCardData/Selected\\\\220.jpeg',\n",
       " './BusinessCardData/Selected\\\\221.jpeg',\n",
       " './BusinessCardData/Selected\\\\222.jpeg',\n",
       " './BusinessCardData/Selected\\\\223.jpeg',\n",
       " './BusinessCardData/Selected\\\\224.jpeg',\n",
       " './BusinessCardData/Selected\\\\225.jpeg',\n",
       " './BusinessCardData/Selected\\\\226.jpeg',\n",
       " './BusinessCardData/Selected\\\\227.jpeg',\n",
       " './BusinessCardData/Selected\\\\228.jpeg',\n",
       " './BusinessCardData/Selected\\\\229.jpeg',\n",
       " './BusinessCardData/Selected\\\\230.jpeg',\n",
       " './BusinessCardData/Selected\\\\231.jpeg',\n",
       " './BusinessCardData/Selected\\\\232.jpeg',\n",
       " './BusinessCardData/Selected\\\\233.jpeg',\n",
       " './BusinessCardData/Selected\\\\234.jpeg',\n",
       " './BusinessCardData/Selected\\\\235.jpeg',\n",
       " './BusinessCardData/Selected\\\\236.jpeg',\n",
       " './BusinessCardData/Selected\\\\237.jpeg',\n",
       " './BusinessCardData/Selected\\\\238.jpeg',\n",
       " './BusinessCardData/Selected\\\\239.jpeg',\n",
       " './BusinessCardData/Selected\\\\240.jpeg',\n",
       " './BusinessCardData/Selected\\\\241.jpeg',\n",
       " './BusinessCardData/Selected\\\\242.jpeg',\n",
       " './BusinessCardData/Selected\\\\243.jpeg',\n",
       " './BusinessCardData/Selected\\\\244.jpeg',\n",
       " './BusinessCardData/Selected\\\\245.jpeg',\n",
       " './BusinessCardData/Selected\\\\246.jpeg',\n",
       " './BusinessCardData/Selected\\\\247.jpeg',\n",
       " './BusinessCardData/Selected\\\\248.jpeg',\n",
       " './BusinessCardData/Selected\\\\249.jpeg',\n",
       " './BusinessCardData/Selected\\\\250.jpeg',\n",
       " './BusinessCardData/Selected\\\\251.jpeg',\n",
       " './BusinessCardData/Selected\\\\252.jpeg',\n",
       " './BusinessCardData/Selected\\\\253.jpeg',\n",
       " './BusinessCardData/Selected\\\\254.jpeg',\n",
       " './BusinessCardData/Selected\\\\255.jpeg',\n",
       " './BusinessCardData/Selected\\\\256.jpeg',\n",
       " './BusinessCardData/Selected\\\\257.jpeg',\n",
       " './BusinessCardData/Selected\\\\258.jpeg',\n",
       " './BusinessCardData/Selected\\\\259.jpeg',\n",
       " './BusinessCardData/Selected\\\\260.jpeg',\n",
       " './BusinessCardData/Selected\\\\261.jpeg',\n",
       " './BusinessCardData/Selected\\\\262.jpeg',\n",
       " './BusinessCardData/Selected\\\\263.jpeg',\n",
       " './BusinessCardData/Selected\\\\264.jpeg',\n",
       " './BusinessCardData/Selected\\\\265.jpeg',\n",
       " './BusinessCardData/Selected\\\\266.jpeg',\n",
       " './BusinessCardData/Selected\\\\267.jpeg',\n",
       " './BusinessCardData/Selected\\\\268.jpeg',\n",
       " './BusinessCardData/Selected\\\\269.jpeg',\n",
       " './BusinessCardData/Selected\\\\270.jpeg',\n",
       " './BusinessCardData/Selected\\\\271.jpeg',\n",
       " './BusinessCardData/Selected\\\\272.jpeg',\n",
       " './BusinessCardData/Selected\\\\273.jpeg',\n",
       " './BusinessCardData/Selected\\\\274.jpeg',\n",
       " './BusinessCardData/Selected\\\\275.jpeg',\n",
       " './BusinessCardData/Selected\\\\276.jpeg',\n",
       " './BusinessCardData/Selected\\\\277.jpeg',\n",
       " './BusinessCardData/Selected\\\\278.jpeg',\n",
       " './BusinessCardData/Selected\\\\279.jpeg',\n",
       " './BusinessCardData/Selected\\\\280.jpeg',\n",
       " './BusinessCardData/Selected\\\\281.jpeg',\n",
       " './BusinessCardData/Selected\\\\282.jpeg',\n",
       " './BusinessCardData/Selected\\\\283.jpeg',\n",
       " './BusinessCardData/Selected\\\\284.jpeg',\n",
       " './BusinessCardData/Selected\\\\285.jpeg',\n",
       " './BusinessCardData/Selected\\\\286.jpeg',\n",
       " './BusinessCardData/Selected\\\\287.jpeg',\n",
       " './BusinessCardData/Selected\\\\288.jpeg',\n",
       " './BusinessCardData/Selected\\\\289.jpeg',\n",
       " './BusinessCardData/Selected\\\\290.jpeg',\n",
       " './BusinessCardData/Selected\\\\291.jpeg',\n",
       " './BusinessCardData/Selected\\\\292.jpeg']"
      ]
     },
     "execution_count": 3,
     "metadata": {},
     "output_type": "execute_result"
    }
   ],
   "source": [
    "imgPaths = glob('./BusinessCardData/Selected/*.jpeg')\n",
    "imgPaths"
   ]
  },
  {
   "cell_type": "code",
   "execution_count": 4,
   "id": "da939ff2-8658-4662-b632-5a7bcc77f733",
   "metadata": {},
   "outputs": [
    {
     "data": {
      "text/plain": [
       "'./BusinessCardData/Selected\\\\000.jpeg'"
      ]
     },
     "execution_count": 4,
     "metadata": {},
     "output_type": "execute_result"
    }
   ],
   "source": [
    "img_Path = imgPaths[0]\n",
    "img_Path"
   ]
  },
  {
   "cell_type": "code",
   "execution_count": 5,
   "id": "70bd8c25-aa91-4a6b-91d5-a8bcc0bfa9d0",
   "metadata": {},
   "outputs": [
    {
     "name": "stdout",
     "output_type": "stream",
     "text": [
      "./BusinessCardData/Selected\\000.jpeg\n"
     ]
    }
   ],
   "source": [
    "print(img_Path)"
   ]
  },
  {
   "cell_type": "code",
   "execution_count": 6,
   "id": "bc55a44f-afb7-41ab-8623-c41cf6ad0383",
   "metadata": {},
   "outputs": [
    {
     "data": {
      "text/plain": [
       "('./BusinessCardData/Selected', '000.jpeg')"
      ]
     },
     "execution_count": 6,
     "metadata": {},
     "output_type": "execute_result"
    }
   ],
   "source": [
    "os.path.split(img_Path)"
   ]
  },
  {
   "cell_type": "code",
   "execution_count": 7,
   "id": "d69b744c-ee10-4bb3-a287-9a295e55b73c",
   "metadata": {},
   "outputs": [
    {
     "name": "stdout",
     "output_type": "stream",
     "text": [
      "000.jpeg\n"
     ]
    }
   ],
   "source": [
    "_, filename = os.path.split(img_Path)\n",
    "print(filename)"
   ]
  },
  {
   "cell_type": "code",
   "execution_count": 9,
   "id": "18c9db0e-98bf-4159-99ce-ab6049145154",
   "metadata": {},
   "outputs": [],
   "source": [
    "#extract the data and text\n",
    "image = cv2.imread(img_Path)\n",
    "data = pytesseract.image_to_data(image)\n",
    "dataList = list(map(lambda x:x.split('\\t'),data.split('\\n')))\n",
    "df = pd.DataFrame(dataList[1:],columns=dataList[0])"
   ]
  },
  {
   "cell_type": "code",
   "execution_count": 10,
   "id": "48c992af-130d-4c3c-802a-09d0d77004c3",
   "metadata": {},
   "outputs": [
    {
     "data": {
      "text/html": [
       "<div>\n",
       "<style scoped>\n",
       "    .dataframe tbody tr th:only-of-type {\n",
       "        vertical-align: middle;\n",
       "    }\n",
       "\n",
       "    .dataframe tbody tr th {\n",
       "        vertical-align: top;\n",
       "    }\n",
       "\n",
       "    .dataframe thead th {\n",
       "        text-align: right;\n",
       "    }\n",
       "</style>\n",
       "<table border=\"1\" class=\"dataframe\">\n",
       "  <thead>\n",
       "    <tr style=\"text-align: right;\">\n",
       "      <th></th>\n",
       "      <th>level</th>\n",
       "      <th>page_num</th>\n",
       "      <th>block_num</th>\n",
       "      <th>par_num</th>\n",
       "      <th>line_num</th>\n",
       "      <th>word_num</th>\n",
       "      <th>left</th>\n",
       "      <th>top</th>\n",
       "      <th>width</th>\n",
       "      <th>height</th>\n",
       "      <th>conf</th>\n",
       "      <th>text</th>\n",
       "    </tr>\n",
       "  </thead>\n",
       "  <tbody>\n",
       "    <tr>\n",
       "      <th>0</th>\n",
       "      <td>1</td>\n",
       "      <td>1</td>\n",
       "      <td>0</td>\n",
       "      <td>0</td>\n",
       "      <td>0</td>\n",
       "      <td>0</td>\n",
       "      <td>0</td>\n",
       "      <td>0</td>\n",
       "      <td>1800</td>\n",
       "      <td>1200</td>\n",
       "      <td>-1</td>\n",
       "      <td></td>\n",
       "    </tr>\n",
       "    <tr>\n",
       "      <th>1</th>\n",
       "      <td>2</td>\n",
       "      <td>1</td>\n",
       "      <td>1</td>\n",
       "      <td>0</td>\n",
       "      <td>0</td>\n",
       "      <td>0</td>\n",
       "      <td>0</td>\n",
       "      <td>0</td>\n",
       "      <td>1800</td>\n",
       "      <td>1</td>\n",
       "      <td>-1</td>\n",
       "      <td></td>\n",
       "    </tr>\n",
       "    <tr>\n",
       "      <th>2</th>\n",
       "      <td>3</td>\n",
       "      <td>1</td>\n",
       "      <td>1</td>\n",
       "      <td>1</td>\n",
       "      <td>0</td>\n",
       "      <td>0</td>\n",
       "      <td>0</td>\n",
       "      <td>0</td>\n",
       "      <td>1800</td>\n",
       "      <td>1</td>\n",
       "      <td>-1</td>\n",
       "      <td></td>\n",
       "    </tr>\n",
       "    <tr>\n",
       "      <th>3</th>\n",
       "      <td>4</td>\n",
       "      <td>1</td>\n",
       "      <td>1</td>\n",
       "      <td>1</td>\n",
       "      <td>1</td>\n",
       "      <td>0</td>\n",
       "      <td>0</td>\n",
       "      <td>0</td>\n",
       "      <td>1800</td>\n",
       "      <td>1</td>\n",
       "      <td>-1</td>\n",
       "      <td></td>\n",
       "    </tr>\n",
       "    <tr>\n",
       "      <th>4</th>\n",
       "      <td>5</td>\n",
       "      <td>1</td>\n",
       "      <td>1</td>\n",
       "      <td>1</td>\n",
       "      <td>1</td>\n",
       "      <td>1</td>\n",
       "      <td>0</td>\n",
       "      <td>0</td>\n",
       "      <td>1800</td>\n",
       "      <td>1</td>\n",
       "      <td>95.000000</td>\n",
       "      <td></td>\n",
       "    </tr>\n",
       "    <tr>\n",
       "      <th>...</th>\n",
       "      <td>...</td>\n",
       "      <td>...</td>\n",
       "      <td>...</td>\n",
       "      <td>...</td>\n",
       "      <td>...</td>\n",
       "      <td>...</td>\n",
       "      <td>...</td>\n",
       "      <td>...</td>\n",
       "      <td>...</td>\n",
       "      <td>...</td>\n",
       "      <td>...</td>\n",
       "      <td>...</td>\n",
       "    </tr>\n",
       "    <tr>\n",
       "      <th>70</th>\n",
       "      <td>2</td>\n",
       "      <td>1</td>\n",
       "      <td>12</td>\n",
       "      <td>0</td>\n",
       "      <td>0</td>\n",
       "      <td>0</td>\n",
       "      <td>0</td>\n",
       "      <td>1058</td>\n",
       "      <td>1800</td>\n",
       "      <td>142</td>\n",
       "      <td>-1</td>\n",
       "      <td></td>\n",
       "    </tr>\n",
       "    <tr>\n",
       "      <th>71</th>\n",
       "      <td>3</td>\n",
       "      <td>1</td>\n",
       "      <td>12</td>\n",
       "      <td>1</td>\n",
       "      <td>0</td>\n",
       "      <td>0</td>\n",
       "      <td>0</td>\n",
       "      <td>1058</td>\n",
       "      <td>1800</td>\n",
       "      <td>142</td>\n",
       "      <td>-1</td>\n",
       "      <td></td>\n",
       "    </tr>\n",
       "    <tr>\n",
       "      <th>72</th>\n",
       "      <td>4</td>\n",
       "      <td>1</td>\n",
       "      <td>12</td>\n",
       "      <td>1</td>\n",
       "      <td>1</td>\n",
       "      <td>0</td>\n",
       "      <td>0</td>\n",
       "      <td>1058</td>\n",
       "      <td>1800</td>\n",
       "      <td>142</td>\n",
       "      <td>-1</td>\n",
       "      <td></td>\n",
       "    </tr>\n",
       "    <tr>\n",
       "      <th>73</th>\n",
       "      <td>5</td>\n",
       "      <td>1</td>\n",
       "      <td>12</td>\n",
       "      <td>1</td>\n",
       "      <td>1</td>\n",
       "      <td>1</td>\n",
       "      <td>0</td>\n",
       "      <td>1058</td>\n",
       "      <td>1800</td>\n",
       "      <td>142</td>\n",
       "      <td>95.000000</td>\n",
       "      <td></td>\n",
       "    </tr>\n",
       "    <tr>\n",
       "      <th>74</th>\n",
       "      <td></td>\n",
       "      <td>None</td>\n",
       "      <td>None</td>\n",
       "      <td>None</td>\n",
       "      <td>None</td>\n",
       "      <td>None</td>\n",
       "      <td>None</td>\n",
       "      <td>None</td>\n",
       "      <td>None</td>\n",
       "      <td>None</td>\n",
       "      <td>None</td>\n",
       "      <td>None</td>\n",
       "    </tr>\n",
       "  </tbody>\n",
       "</table>\n",
       "<p>75 rows × 12 columns</p>\n",
       "</div>"
      ],
      "text/plain": [
       "   level page_num block_num par_num line_num word_num  left   top width  \\\n",
       "0      1        1         0       0        0        0     0     0  1800   \n",
       "1      2        1         1       0        0        0     0     0  1800   \n",
       "2      3        1         1       1        0        0     0     0  1800   \n",
       "3      4        1         1       1        1        0     0     0  1800   \n",
       "4      5        1         1       1        1        1     0     0  1800   \n",
       "..   ...      ...       ...     ...      ...      ...   ...   ...   ...   \n",
       "70     2        1        12       0        0        0     0  1058  1800   \n",
       "71     3        1        12       1        0        0     0  1058  1800   \n",
       "72     4        1        12       1        1        0     0  1058  1800   \n",
       "73     5        1        12       1        1        1     0  1058  1800   \n",
       "74           None      None    None     None     None  None  None  None   \n",
       "\n",
       "   height       conf  text  \n",
       "0    1200         -1        \n",
       "1       1         -1        \n",
       "2       1         -1        \n",
       "3       1         -1        \n",
       "4       1  95.000000        \n",
       "..    ...        ...   ...  \n",
       "70    142         -1        \n",
       "71    142         -1        \n",
       "72    142         -1        \n",
       "73    142  95.000000        \n",
       "74   None       None  None  \n",
       "\n",
       "[75 rows x 12 columns]"
      ]
     },
     "execution_count": 10,
     "metadata": {},
     "output_type": "execute_result"
    }
   ],
   "source": [
    "df"
   ]
  },
  {
   "cell_type": "code",
   "execution_count": 11,
   "id": "0d62213d-646b-4f18-8356-326f899e6875",
   "metadata": {},
   "outputs": [],
   "source": [
    "df.dropna(inplace=True)"
   ]
  },
  {
   "cell_type": "code",
   "execution_count": 12,
   "id": "750d109f-51c3-4dfa-9552-86f35263529b",
   "metadata": {},
   "outputs": [
    {
     "data": {
      "text/html": [
       "<div>\n",
       "<style scoped>\n",
       "    .dataframe tbody tr th:only-of-type {\n",
       "        vertical-align: middle;\n",
       "    }\n",
       "\n",
       "    .dataframe tbody tr th {\n",
       "        vertical-align: top;\n",
       "    }\n",
       "\n",
       "    .dataframe thead th {\n",
       "        text-align: right;\n",
       "    }\n",
       "</style>\n",
       "<table border=\"1\" class=\"dataframe\">\n",
       "  <thead>\n",
       "    <tr style=\"text-align: right;\">\n",
       "      <th></th>\n",
       "      <th>level</th>\n",
       "      <th>page_num</th>\n",
       "      <th>block_num</th>\n",
       "      <th>par_num</th>\n",
       "      <th>line_num</th>\n",
       "      <th>word_num</th>\n",
       "      <th>left</th>\n",
       "      <th>top</th>\n",
       "      <th>width</th>\n",
       "      <th>height</th>\n",
       "      <th>conf</th>\n",
       "      <th>text</th>\n",
       "    </tr>\n",
       "  </thead>\n",
       "  <tbody>\n",
       "    <tr>\n",
       "      <th>0</th>\n",
       "      <td>1</td>\n",
       "      <td>1</td>\n",
       "      <td>0</td>\n",
       "      <td>0</td>\n",
       "      <td>0</td>\n",
       "      <td>0</td>\n",
       "      <td>0</td>\n",
       "      <td>0</td>\n",
       "      <td>1800</td>\n",
       "      <td>1200</td>\n",
       "      <td>-1</td>\n",
       "      <td></td>\n",
       "    </tr>\n",
       "    <tr>\n",
       "      <th>1</th>\n",
       "      <td>2</td>\n",
       "      <td>1</td>\n",
       "      <td>1</td>\n",
       "      <td>0</td>\n",
       "      <td>0</td>\n",
       "      <td>0</td>\n",
       "      <td>0</td>\n",
       "      <td>0</td>\n",
       "      <td>1800</td>\n",
       "      <td>1</td>\n",
       "      <td>-1</td>\n",
       "      <td></td>\n",
       "    </tr>\n",
       "    <tr>\n",
       "      <th>2</th>\n",
       "      <td>3</td>\n",
       "      <td>1</td>\n",
       "      <td>1</td>\n",
       "      <td>1</td>\n",
       "      <td>0</td>\n",
       "      <td>0</td>\n",
       "      <td>0</td>\n",
       "      <td>0</td>\n",
       "      <td>1800</td>\n",
       "      <td>1</td>\n",
       "      <td>-1</td>\n",
       "      <td></td>\n",
       "    </tr>\n",
       "    <tr>\n",
       "      <th>3</th>\n",
       "      <td>4</td>\n",
       "      <td>1</td>\n",
       "      <td>1</td>\n",
       "      <td>1</td>\n",
       "      <td>1</td>\n",
       "      <td>0</td>\n",
       "      <td>0</td>\n",
       "      <td>0</td>\n",
       "      <td>1800</td>\n",
       "      <td>1</td>\n",
       "      <td>-1</td>\n",
       "      <td></td>\n",
       "    </tr>\n",
       "    <tr>\n",
       "      <th>4</th>\n",
       "      <td>5</td>\n",
       "      <td>1</td>\n",
       "      <td>1</td>\n",
       "      <td>1</td>\n",
       "      <td>1</td>\n",
       "      <td>1</td>\n",
       "      <td>0</td>\n",
       "      <td>0</td>\n",
       "      <td>1800</td>\n",
       "      <td>1</td>\n",
       "      <td>95.000000</td>\n",
       "      <td></td>\n",
       "    </tr>\n",
       "    <tr>\n",
       "      <th>...</th>\n",
       "      <td>...</td>\n",
       "      <td>...</td>\n",
       "      <td>...</td>\n",
       "      <td>...</td>\n",
       "      <td>...</td>\n",
       "      <td>...</td>\n",
       "      <td>...</td>\n",
       "      <td>...</td>\n",
       "      <td>...</td>\n",
       "      <td>...</td>\n",
       "      <td>...</td>\n",
       "      <td>...</td>\n",
       "    </tr>\n",
       "    <tr>\n",
       "      <th>69</th>\n",
       "      <td>5</td>\n",
       "      <td>1</td>\n",
       "      <td>11</td>\n",
       "      <td>1</td>\n",
       "      <td>1</td>\n",
       "      <td>3</td>\n",
       "      <td>928</td>\n",
       "      <td>1091</td>\n",
       "      <td>797</td>\n",
       "      <td>55</td>\n",
       "      <td>44.320694</td>\n",
       "      <td>)%info@laurelseducation.com</td>\n",
       "    </tr>\n",
       "    <tr>\n",
       "      <th>70</th>\n",
       "      <td>2</td>\n",
       "      <td>1</td>\n",
       "      <td>12</td>\n",
       "      <td>0</td>\n",
       "      <td>0</td>\n",
       "      <td>0</td>\n",
       "      <td>0</td>\n",
       "      <td>1058</td>\n",
       "      <td>1800</td>\n",
       "      <td>142</td>\n",
       "      <td>-1</td>\n",
       "      <td></td>\n",
       "    </tr>\n",
       "    <tr>\n",
       "      <th>71</th>\n",
       "      <td>3</td>\n",
       "      <td>1</td>\n",
       "      <td>12</td>\n",
       "      <td>1</td>\n",
       "      <td>0</td>\n",
       "      <td>0</td>\n",
       "      <td>0</td>\n",
       "      <td>1058</td>\n",
       "      <td>1800</td>\n",
       "      <td>142</td>\n",
       "      <td>-1</td>\n",
       "      <td></td>\n",
       "    </tr>\n",
       "    <tr>\n",
       "      <th>72</th>\n",
       "      <td>4</td>\n",
       "      <td>1</td>\n",
       "      <td>12</td>\n",
       "      <td>1</td>\n",
       "      <td>1</td>\n",
       "      <td>0</td>\n",
       "      <td>0</td>\n",
       "      <td>1058</td>\n",
       "      <td>1800</td>\n",
       "      <td>142</td>\n",
       "      <td>-1</td>\n",
       "      <td></td>\n",
       "    </tr>\n",
       "    <tr>\n",
       "      <th>73</th>\n",
       "      <td>5</td>\n",
       "      <td>1</td>\n",
       "      <td>12</td>\n",
       "      <td>1</td>\n",
       "      <td>1</td>\n",
       "      <td>1</td>\n",
       "      <td>0</td>\n",
       "      <td>1058</td>\n",
       "      <td>1800</td>\n",
       "      <td>142</td>\n",
       "      <td>95.000000</td>\n",
       "      <td></td>\n",
       "    </tr>\n",
       "  </tbody>\n",
       "</table>\n",
       "<p>74 rows × 12 columns</p>\n",
       "</div>"
      ],
      "text/plain": [
       "   level page_num block_num par_num line_num word_num left   top width height  \\\n",
       "0      1        1         0       0        0        0    0     0  1800   1200   \n",
       "1      2        1         1       0        0        0    0     0  1800      1   \n",
       "2      3        1         1       1        0        0    0     0  1800      1   \n",
       "3      4        1         1       1        1        0    0     0  1800      1   \n",
       "4      5        1         1       1        1        1    0     0  1800      1   \n",
       "..   ...      ...       ...     ...      ...      ...  ...   ...   ...    ...   \n",
       "69     5        1        11       1        1        3  928  1091   797     55   \n",
       "70     2        1        12       0        0        0    0  1058  1800    142   \n",
       "71     3        1        12       1        0        0    0  1058  1800    142   \n",
       "72     4        1        12       1        1        0    0  1058  1800    142   \n",
       "73     5        1        12       1        1        1    0  1058  1800    142   \n",
       "\n",
       "         conf                         text  \n",
       "0          -1                               \n",
       "1          -1                               \n",
       "2          -1                               \n",
       "3          -1                               \n",
       "4   95.000000                               \n",
       "..        ...                          ...  \n",
       "69  44.320694  )%info@laurelseducation.com  \n",
       "70         -1                               \n",
       "71         -1                               \n",
       "72         -1                               \n",
       "73  95.000000                               \n",
       "\n",
       "[74 rows x 12 columns]"
      ]
     },
     "execution_count": 12,
     "metadata": {},
     "output_type": "execute_result"
    }
   ],
   "source": [
    "df"
   ]
  },
  {
   "cell_type": "code",
   "execution_count": 14,
   "id": "0db7f579-7e92-49b8-8d40-d5a15c1ae58c",
   "metadata": {},
   "outputs": [],
   "source": [
    "df['conf'] = df['conf'].astype(float).round(0).astype(int)\n",
    "useFullData = df.query('conf >= 30')\n",
    "\n",
    "#Dataframe\n",
    "\n",
    "businessCard = pd.DataFrame()\n",
    "businessCard['text'] = useFullData['text']\n",
    "businessCard['id'] = filename"
   ]
  },
  {
   "cell_type": "code",
   "execution_count": 15,
   "id": "74be81f6-5740-4ff3-9c74-2d103d9a95a8",
   "metadata": {},
   "outputs": [
    {
     "data": {
      "text/html": [
       "<div>\n",
       "<style scoped>\n",
       "    .dataframe tbody tr th:only-of-type {\n",
       "        vertical-align: middle;\n",
       "    }\n",
       "\n",
       "    .dataframe tbody tr th {\n",
       "        vertical-align: top;\n",
       "    }\n",
       "\n",
       "    .dataframe thead th {\n",
       "        text-align: right;\n",
       "    }\n",
       "</style>\n",
       "<table border=\"1\" class=\"dataframe\">\n",
       "  <thead>\n",
       "    <tr style=\"text-align: right;\">\n",
       "      <th></th>\n",
       "      <th>text</th>\n",
       "      <th>id</th>\n",
       "    </tr>\n",
       "  </thead>\n",
       "  <tbody>\n",
       "    <tr>\n",
       "      <th>4</th>\n",
       "      <td></td>\n",
       "      <td>000.jpeg</td>\n",
       "    </tr>\n",
       "    <tr>\n",
       "      <th>9</th>\n",
       "      <td>040-4852</td>\n",
       "      <td>000.jpeg</td>\n",
       "    </tr>\n",
       "    <tr>\n",
       "      <th>10</th>\n",
       "      <td>8881,</td>\n",
       "      <td>000.jpeg</td>\n",
       "    </tr>\n",
       "    <tr>\n",
       "      <th>11</th>\n",
       "      <td>90309</td>\n",
       "      <td>000.jpeg</td>\n",
       "    </tr>\n",
       "    <tr>\n",
       "      <th>12</th>\n",
       "      <td>52549</td>\n",
       "      <td>000.jpeg</td>\n",
       "    </tr>\n",
       "    <tr>\n",
       "      <th>14</th>\n",
       "      <td>Fi</td>\n",
       "      <td>000.jpeg</td>\n",
       "    </tr>\n",
       "    <tr>\n",
       "      <th>15</th>\n",
       "      <td>/laurelsoverseaseducation</td>\n",
       "      <td>000.jpeg</td>\n",
       "    </tr>\n",
       "    <tr>\n",
       "      <th>20</th>\n",
       "      <td>LAURELS</td>\n",
       "      <td>000.jpeg</td>\n",
       "    </tr>\n",
       "    <tr>\n",
       "      <th>24</th>\n",
       "      <td>OVERSEAS</td>\n",
       "      <td>000.jpeg</td>\n",
       "    </tr>\n",
       "    <tr>\n",
       "      <th>25</th>\n",
       "      <td>EDUCATIONAL</td>\n",
       "      <td>000.jpeg</td>\n",
       "    </tr>\n",
       "    <tr>\n",
       "      <th>26</th>\n",
       "      <td>CONSULTANCY</td>\n",
       "      <td>000.jpeg</td>\n",
       "    </tr>\n",
       "    <tr>\n",
       "      <th>27</th>\n",
       "      <td>PVT.</td>\n",
       "      <td>000.jpeg</td>\n",
       "    </tr>\n",
       "    <tr>\n",
       "      <th>28</th>\n",
       "      <td>LTD.</td>\n",
       "      <td>000.jpeg</td>\n",
       "    </tr>\n",
       "    <tr>\n",
       "      <th>32</th>\n",
       "      <td>Ir.</td>\n",
       "      <td>000.jpeg</td>\n",
       "    </tr>\n",
       "    <tr>\n",
       "      <th>33</th>\n",
       "      <td>Sa</td>\n",
       "      <td>000.jpeg</td>\n",
       "    </tr>\n",
       "    <tr>\n",
       "      <th>35</th>\n",
       "      <td>|</td>\n",
       "      <td>000.jpeg</td>\n",
       "    </tr>\n",
       "    <tr>\n",
       "      <th>36</th>\n",
       "      <td>im</td>\n",
       "      <td>000.jpeg</td>\n",
       "    </tr>\n",
       "    <tr>\n",
       "      <th>37</th>\n",
       "      <td>&lt;</td>\n",
       "      <td>000.jpeg</td>\n",
       "    </tr>\n",
       "    <tr>\n",
       "      <th>39</th>\n",
       "      <td>U.K</td>\n",
       "      <td>000.jpeg</td>\n",
       "    </tr>\n",
       "    <tr>\n",
       "      <th>43</th>\n",
       "      <td>AUSTRALIA</td>\n",
       "      <td>000.jpeg</td>\n",
       "    </tr>\n",
       "    <tr>\n",
       "      <th>44</th>\n",
       "      <td>CANADA</td>\n",
       "      <td>000.jpeg</td>\n",
       "    </tr>\n",
       "    <tr>\n",
       "      <th>45</th>\n",
       "      <td>IRELAND</td>\n",
       "      <td>000.jpeg</td>\n",
       "    </tr>\n",
       "    <tr>\n",
       "      <th>49</th>\n",
       "      <td></td>\n",
       "      <td>000.jpeg</td>\n",
       "    </tr>\n",
       "    <tr>\n",
       "      <th>53</th>\n",
       "      <td></td>\n",
       "      <td>000.jpeg</td>\n",
       "    </tr>\n",
       "    <tr>\n",
       "      <th>54</th>\n",
       "      <td></td>\n",
       "      <td>000.jpeg</td>\n",
       "    </tr>\n",
       "    <tr>\n",
       "      <th>55</th>\n",
       "      <td></td>\n",
       "      <td>000.jpeg</td>\n",
       "    </tr>\n",
       "    <tr>\n",
       "      <th>59</th>\n",
       "      <td></td>\n",
       "      <td>000.jpeg</td>\n",
       "    </tr>\n",
       "    <tr>\n",
       "      <th>63</th>\n",
       "      <td></td>\n",
       "      <td>000.jpeg</td>\n",
       "    </tr>\n",
       "    <tr>\n",
       "      <th>67</th>\n",
       "      <td>©)</td>\n",
       "      <td>000.jpeg</td>\n",
       "    </tr>\n",
       "    <tr>\n",
       "      <th>68</th>\n",
       "      <td>www.laurelseducation.com</td>\n",
       "      <td>000.jpeg</td>\n",
       "    </tr>\n",
       "    <tr>\n",
       "      <th>69</th>\n",
       "      <td>)%info@laurelseducation.com</td>\n",
       "      <td>000.jpeg</td>\n",
       "    </tr>\n",
       "    <tr>\n",
       "      <th>73</th>\n",
       "      <td></td>\n",
       "      <td>000.jpeg</td>\n",
       "    </tr>\n",
       "  </tbody>\n",
       "</table>\n",
       "</div>"
      ],
      "text/plain": [
       "                           text        id\n",
       "4                                000.jpeg\n",
       "9                      040-4852  000.jpeg\n",
       "10                        8881,  000.jpeg\n",
       "11                        90309  000.jpeg\n",
       "12                        52549  000.jpeg\n",
       "14                           Fi  000.jpeg\n",
       "15    /laurelsoverseaseducation  000.jpeg\n",
       "20                      LAURELS  000.jpeg\n",
       "24                     OVERSEAS  000.jpeg\n",
       "25                  EDUCATIONAL  000.jpeg\n",
       "26                  CONSULTANCY  000.jpeg\n",
       "27                         PVT.  000.jpeg\n",
       "28                         LTD.  000.jpeg\n",
       "32                          Ir.  000.jpeg\n",
       "33                           Sa  000.jpeg\n",
       "35                            |  000.jpeg\n",
       "36                           im  000.jpeg\n",
       "37                            <  000.jpeg\n",
       "39                          U.K  000.jpeg\n",
       "43                    AUSTRALIA  000.jpeg\n",
       "44                       CANADA  000.jpeg\n",
       "45                      IRELAND  000.jpeg\n",
       "49                               000.jpeg\n",
       "53                               000.jpeg\n",
       "54                               000.jpeg\n",
       "55                               000.jpeg\n",
       "59                               000.jpeg\n",
       "63                               000.jpeg\n",
       "67                           ©)  000.jpeg\n",
       "68     www.laurelseducation.com  000.jpeg\n",
       "69  )%info@laurelseducation.com  000.jpeg\n",
       "73                               000.jpeg"
      ]
     },
     "execution_count": 15,
     "metadata": {},
     "output_type": "execute_result"
    }
   ],
   "source": [
    "businessCard"
   ]
  },
  {
   "cell_type": "code",
   "execution_count": 17,
   "id": "5ad4c35c-5a4d-4514-aa5e-88524814880c",
   "metadata": {},
   "outputs": [
    {
     "name": "stderr",
     "output_type": "stream",
     "text": [
      "BusinessCard:   0%|                                                                            | 0/293 [00:00<?, ?it/s]"
     ]
    },
    {
     "name": "stdout",
     "output_type": "stream",
     "text": [
      "000.jpeg\n"
     ]
    },
    {
     "name": "stderr",
     "output_type": "stream",
     "text": [
      "BusinessCard:   0%|▏                                                                   | 1/293 [00:05<24:40,  5.07s/it]"
     ]
    },
    {
     "name": "stdout",
     "output_type": "stream",
     "text": [
      "000.jpeg\n"
     ]
    },
    {
     "name": "stderr",
     "output_type": "stream",
     "text": [
      "BusinessCard:   1%|▍                                                                   | 2/293 [00:06<15:12,  3.14s/it]"
     ]
    },
    {
     "name": "stdout",
     "output_type": "stream",
     "text": [
      "000.jpeg\n"
     ]
    },
    {
     "name": "stderr",
     "output_type": "stream",
     "text": [
      "BusinessCard:   1%|▋                                                                   | 3/293 [00:09<13:54,  2.88s/it]"
     ]
    },
    {
     "name": "stdout",
     "output_type": "stream",
     "text": [
      "000.jpeg\n"
     ]
    },
    {
     "name": "stderr",
     "output_type": "stream",
     "text": [
      "BusinessCard:   1%|▉                                                                   | 4/293 [00:11<11:58,  2.49s/it]"
     ]
    },
    {
     "name": "stdout",
     "output_type": "stream",
     "text": [
      "000.jpeg\n"
     ]
    },
    {
     "name": "stderr",
     "output_type": "stream",
     "text": [
      "BusinessCard:   2%|█▏                                                                  | 5/293 [00:13<10:51,  2.26s/it]"
     ]
    },
    {
     "name": "stdout",
     "output_type": "stream",
     "text": [
      "000.jpeg\n"
     ]
    },
    {
     "name": "stderr",
     "output_type": "stream",
     "text": [
      "BusinessCard:   2%|█▍                                                                  | 6/293 [00:14<09:29,  1.98s/it]"
     ]
    },
    {
     "name": "stdout",
     "output_type": "stream",
     "text": [
      "000.jpeg\n"
     ]
    },
    {
     "name": "stderr",
     "output_type": "stream",
     "text": [
      "BusinessCard:   2%|█▌                                                                  | 7/293 [00:16<09:49,  2.06s/it]"
     ]
    },
    {
     "name": "stdout",
     "output_type": "stream",
     "text": [
      "000.jpeg\n"
     ]
    },
    {
     "name": "stderr",
     "output_type": "stream",
     "text": [
      "BusinessCard:   3%|█▊                                                                  | 8/293 [00:19<10:16,  2.16s/it]"
     ]
    },
    {
     "name": "stdout",
     "output_type": "stream",
     "text": [
      "000.jpeg\n"
     ]
    },
    {
     "name": "stderr",
     "output_type": "stream",
     "text": [
      "BusinessCard:   3%|██                                                                  | 9/293 [00:20<09:35,  2.03s/it]"
     ]
    },
    {
     "name": "stdout",
     "output_type": "stream",
     "text": [
      "000.jpeg\n"
     ]
    },
    {
     "name": "stderr",
     "output_type": "stream",
     "text": [
      "BusinessCard:   3%|██▎                                                                | 10/293 [00:22<09:34,  2.03s/it]"
     ]
    },
    {
     "name": "stdout",
     "output_type": "stream",
     "text": [
      "000.jpeg\n"
     ]
    },
    {
     "name": "stderr",
     "output_type": "stream",
     "text": [
      "BusinessCard:   4%|██▌                                                                | 11/293 [00:24<09:01,  1.92s/it]"
     ]
    },
    {
     "name": "stdout",
     "output_type": "stream",
     "text": [
      "000.jpeg\n"
     ]
    },
    {
     "name": "stderr",
     "output_type": "stream",
     "text": [
      "BusinessCard:   4%|██▋                                                                | 12/293 [00:26<08:59,  1.92s/it]"
     ]
    },
    {
     "name": "stdout",
     "output_type": "stream",
     "text": [
      "000.jpeg\n"
     ]
    },
    {
     "name": "stderr",
     "output_type": "stream",
     "text": [
      "BusinessCard:   4%|██▉                                                                | 13/293 [00:28<09:07,  1.96s/it]"
     ]
    },
    {
     "name": "stdout",
     "output_type": "stream",
     "text": [
      "000.jpeg\n"
     ]
    },
    {
     "name": "stderr",
     "output_type": "stream",
     "text": [
      "BusinessCard:   5%|███▏                                                               | 14/293 [00:30<09:01,  1.94s/it]"
     ]
    },
    {
     "name": "stdout",
     "output_type": "stream",
     "text": [
      "000.jpeg\n"
     ]
    },
    {
     "name": "stderr",
     "output_type": "stream",
     "text": [
      "BusinessCard:   5%|███▍                                                               | 15/293 [00:32<08:51,  1.91s/it]"
     ]
    },
    {
     "name": "stdout",
     "output_type": "stream",
     "text": [
      "000.jpeg\n"
     ]
    },
    {
     "name": "stderr",
     "output_type": "stream",
     "text": [
      "BusinessCard:   5%|███▋                                                               | 16/293 [00:34<08:56,  1.94s/it]"
     ]
    },
    {
     "name": "stdout",
     "output_type": "stream",
     "text": [
      "000.jpeg\n"
     ]
    },
    {
     "name": "stderr",
     "output_type": "stream",
     "text": [
      "BusinessCard:   6%|███▉                                                               | 17/293 [00:36<08:43,  1.90s/it]"
     ]
    },
    {
     "name": "stdout",
     "output_type": "stream",
     "text": [
      "000.jpeg\n"
     ]
    },
    {
     "name": "stderr",
     "output_type": "stream",
     "text": [
      "BusinessCard:   6%|████                                                               | 18/293 [00:37<08:24,  1.84s/it]"
     ]
    },
    {
     "name": "stdout",
     "output_type": "stream",
     "text": [
      "000.jpeg\n"
     ]
    },
    {
     "name": "stderr",
     "output_type": "stream",
     "text": [
      "BusinessCard:   6%|████▎                                                              | 19/293 [00:40<08:54,  1.95s/it]"
     ]
    },
    {
     "name": "stdout",
     "output_type": "stream",
     "text": [
      "000.jpeg\n"
     ]
    },
    {
     "name": "stderr",
     "output_type": "stream",
     "text": [
      "BusinessCard:   7%|████▌                                                              | 20/293 [00:41<08:41,  1.91s/it]"
     ]
    },
    {
     "name": "stdout",
     "output_type": "stream",
     "text": [
      "000.jpeg\n"
     ]
    },
    {
     "name": "stderr",
     "output_type": "stream",
     "text": [
      "BusinessCard:   7%|████▊                                                              | 21/293 [00:43<08:25,  1.86s/it]"
     ]
    },
    {
     "name": "stdout",
     "output_type": "stream",
     "text": [
      "000.jpeg\n"
     ]
    },
    {
     "name": "stderr",
     "output_type": "stream",
     "text": [
      "BusinessCard:   8%|█████                                                              | 22/293 [00:45<08:20,  1.85s/it]"
     ]
    },
    {
     "name": "stdout",
     "output_type": "stream",
     "text": [
      "000.jpeg\n"
     ]
    },
    {
     "name": "stderr",
     "output_type": "stream",
     "text": [
      "BusinessCard:   8%|█████▎                                                             | 23/293 [00:47<08:27,  1.88s/it]"
     ]
    },
    {
     "name": "stdout",
     "output_type": "stream",
     "text": [
      "000.jpeg\n"
     ]
    },
    {
     "name": "stderr",
     "output_type": "stream",
     "text": [
      "BusinessCard:   8%|█████▍                                                             | 24/293 [00:49<08:08,  1.81s/it]"
     ]
    },
    {
     "name": "stdout",
     "output_type": "stream",
     "text": [
      "000.jpeg\n"
     ]
    },
    {
     "name": "stderr",
     "output_type": "stream",
     "text": [
      "BusinessCard:   9%|█████▋                                                             | 25/293 [00:50<07:30,  1.68s/it]"
     ]
    },
    {
     "name": "stdout",
     "output_type": "stream",
     "text": [
      "000.jpeg\n"
     ]
    },
    {
     "name": "stderr",
     "output_type": "stream",
     "text": [
      "BusinessCard:   9%|█████▉                                                             | 26/293 [00:51<07:01,  1.58s/it]"
     ]
    },
    {
     "name": "stdout",
     "output_type": "stream",
     "text": [
      "000.jpeg\n"
     ]
    },
    {
     "name": "stderr",
     "output_type": "stream",
     "text": [
      "BusinessCard:   9%|██████▏                                                            | 27/293 [00:53<06:40,  1.50s/it]"
     ]
    },
    {
     "name": "stdout",
     "output_type": "stream",
     "text": [
      "000.jpeg\n"
     ]
    },
    {
     "name": "stderr",
     "output_type": "stream",
     "text": [
      "BusinessCard:  10%|██████▍                                                            | 28/293 [00:54<06:24,  1.45s/it]"
     ]
    },
    {
     "name": "stdout",
     "output_type": "stream",
     "text": [
      "000.jpeg\n"
     ]
    },
    {
     "name": "stderr",
     "output_type": "stream",
     "text": [
      "BusinessCard:  10%|██████▋                                                            | 29/293 [00:56<06:56,  1.58s/it]"
     ]
    },
    {
     "name": "stdout",
     "output_type": "stream",
     "text": [
      "000.jpeg\n"
     ]
    },
    {
     "name": "stderr",
     "output_type": "stream",
     "text": [
      "BusinessCard:  10%|██████▊                                                            | 30/293 [00:57<06:39,  1.52s/it]"
     ]
    },
    {
     "name": "stdout",
     "output_type": "stream",
     "text": [
      "000.jpeg\n"
     ]
    },
    {
     "name": "stderr",
     "output_type": "stream",
     "text": [
      "BusinessCard:  11%|███████                                                            | 31/293 [00:59<06:25,  1.47s/it]"
     ]
    },
    {
     "name": "stdout",
     "output_type": "stream",
     "text": [
      "000.jpeg\n"
     ]
    },
    {
     "name": "stderr",
     "output_type": "stream",
     "text": [
      "BusinessCard:  11%|███████▎                                                           | 32/293 [01:00<06:15,  1.44s/it]"
     ]
    },
    {
     "name": "stdout",
     "output_type": "stream",
     "text": [
      "000.jpeg\n"
     ]
    },
    {
     "name": "stderr",
     "output_type": "stream",
     "text": [
      "BusinessCard:  11%|███████▌                                                           | 33/293 [01:01<06:08,  1.42s/it]"
     ]
    },
    {
     "name": "stdout",
     "output_type": "stream",
     "text": [
      "000.jpeg\n"
     ]
    },
    {
     "name": "stderr",
     "output_type": "stream",
     "text": [
      "BusinessCard:  12%|███████▊                                                           | 34/293 [01:03<06:01,  1.40s/it]"
     ]
    },
    {
     "name": "stdout",
     "output_type": "stream",
     "text": [
      "000.jpeg\n"
     ]
    },
    {
     "name": "stderr",
     "output_type": "stream",
     "text": [
      "BusinessCard:  12%|████████                                                           | 35/293 [01:04<06:18,  1.47s/it]"
     ]
    },
    {
     "name": "stdout",
     "output_type": "stream",
     "text": [
      "000.jpeg\n"
     ]
    },
    {
     "name": "stderr",
     "output_type": "stream",
     "text": [
      "BusinessCard:  12%|████████▏                                                          | 36/293 [01:06<06:30,  1.52s/it]"
     ]
    },
    {
     "name": "stdout",
     "output_type": "stream",
     "text": [
      "000.jpeg\n"
     ]
    },
    {
     "name": "stderr",
     "output_type": "stream",
     "text": [
      "BusinessCard:  13%|████████▍                                                          | 37/293 [01:07<06:16,  1.47s/it]"
     ]
    },
    {
     "name": "stdout",
     "output_type": "stream",
     "text": [
      "000.jpeg\n"
     ]
    },
    {
     "name": "stderr",
     "output_type": "stream",
     "text": [
      "BusinessCard:  13%|████████▋                                                          | 38/293 [01:09<06:43,  1.58s/it]"
     ]
    },
    {
     "name": "stdout",
     "output_type": "stream",
     "text": [
      "000.jpeg\n"
     ]
    },
    {
     "name": "stderr",
     "output_type": "stream",
     "text": [
      "BusinessCard:  13%|████████▉                                                          | 39/293 [01:11<06:30,  1.54s/it]"
     ]
    },
    {
     "name": "stdout",
     "output_type": "stream",
     "text": [
      "000.jpeg\n"
     ]
    },
    {
     "name": "stderr",
     "output_type": "stream",
     "text": [
      "BusinessCard:  14%|█████████▏                                                         | 40/293 [01:12<06:14,  1.48s/it]"
     ]
    },
    {
     "name": "stdout",
     "output_type": "stream",
     "text": [
      "000.jpeg\n"
     ]
    },
    {
     "name": "stderr",
     "output_type": "stream",
     "text": [
      "BusinessCard:  14%|█████████▍                                                         | 41/293 [01:14<06:26,  1.54s/it]"
     ]
    },
    {
     "name": "stdout",
     "output_type": "stream",
     "text": [
      "000.jpeg\n"
     ]
    },
    {
     "name": "stderr",
     "output_type": "stream",
     "text": [
      "BusinessCard:  14%|█████████▌                                                         | 42/293 [01:16<07:02,  1.68s/it]"
     ]
    },
    {
     "name": "stdout",
     "output_type": "stream",
     "text": [
      "000.jpeg\n"
     ]
    },
    {
     "name": "stderr",
     "output_type": "stream",
     "text": [
      "BusinessCard:  15%|█████████▊                                                         | 43/293 [01:17<07:01,  1.68s/it]"
     ]
    },
    {
     "name": "stdout",
     "output_type": "stream",
     "text": [
      "000.jpeg\n"
     ]
    },
    {
     "name": "stderr",
     "output_type": "stream",
     "text": [
      "BusinessCard:  15%|██████████                                                         | 44/293 [01:19<06:57,  1.68s/it]"
     ]
    },
    {
     "name": "stdout",
     "output_type": "stream",
     "text": [
      "000.jpeg\n"
     ]
    },
    {
     "name": "stderr",
     "output_type": "stream",
     "text": [
      "BusinessCard:  15%|██████████▎                                                        | 45/293 [01:20<06:48,  1.65s/it]"
     ]
    },
    {
     "name": "stdout",
     "output_type": "stream",
     "text": [
      "000.jpeg\n"
     ]
    },
    {
     "name": "stderr",
     "output_type": "stream",
     "text": [
      "BusinessCard:  16%|██████████▌                                                        | 46/293 [01:22<07:11,  1.75s/it]"
     ]
    },
    {
     "name": "stdout",
     "output_type": "stream",
     "text": [
      "000.jpeg\n"
     ]
    },
    {
     "name": "stderr",
     "output_type": "stream",
     "text": [
      "BusinessCard:  16%|██████████▋                                                        | 47/293 [01:25<08:32,  2.08s/it]"
     ]
    },
    {
     "name": "stdout",
     "output_type": "stream",
     "text": [
      "000.jpeg\n"
     ]
    },
    {
     "name": "stderr",
     "output_type": "stream",
     "text": [
      "BusinessCard:  16%|██████████▉                                                        | 48/293 [01:28<08:44,  2.14s/it]"
     ]
    },
    {
     "name": "stdout",
     "output_type": "stream",
     "text": [
      "000.jpeg\n"
     ]
    },
    {
     "name": "stderr",
     "output_type": "stream",
     "text": [
      "BusinessCard:  17%|███████████▏                                                       | 49/293 [01:30<08:31,  2.10s/it]"
     ]
    },
    {
     "name": "stdout",
     "output_type": "stream",
     "text": [
      "000.jpeg\n"
     ]
    },
    {
     "name": "stderr",
     "output_type": "stream",
     "text": [
      "BusinessCard:  17%|███████████▍                                                       | 50/293 [01:32<08:28,  2.09s/it]"
     ]
    },
    {
     "name": "stdout",
     "output_type": "stream",
     "text": [
      "000.jpeg\n"
     ]
    },
    {
     "name": "stderr",
     "output_type": "stream",
     "text": [
      "BusinessCard:  17%|███████████▋                                                       | 51/293 [01:33<07:45,  1.93s/it]"
     ]
    },
    {
     "name": "stdout",
     "output_type": "stream",
     "text": [
      "000.jpeg\n"
     ]
    },
    {
     "name": "stderr",
     "output_type": "stream",
     "text": [
      "BusinessCard:  18%|███████████▉                                                       | 52/293 [01:35<07:13,  1.80s/it]"
     ]
    },
    {
     "name": "stdout",
     "output_type": "stream",
     "text": [
      "000.jpeg\n"
     ]
    },
    {
     "name": "stderr",
     "output_type": "stream",
     "text": [
      "BusinessCard:  18%|████████████                                                       | 53/293 [01:37<07:11,  1.80s/it]"
     ]
    },
    {
     "name": "stdout",
     "output_type": "stream",
     "text": [
      "000.jpeg\n"
     ]
    },
    {
     "name": "stderr",
     "output_type": "stream",
     "text": [
      "BusinessCard:  18%|████████████▎                                                      | 54/293 [01:38<06:49,  1.71s/it]"
     ]
    },
    {
     "name": "stdout",
     "output_type": "stream",
     "text": [
      "000.jpeg\n"
     ]
    },
    {
     "name": "stderr",
     "output_type": "stream",
     "text": [
      "BusinessCard:  19%|████████████▌                                                      | 55/293 [01:40<07:24,  1.87s/it]"
     ]
    },
    {
     "name": "stdout",
     "output_type": "stream",
     "text": [
      "000.jpeg\n"
     ]
    },
    {
     "name": "stderr",
     "output_type": "stream",
     "text": [
      "BusinessCard:  19%|████████████▊                                                      | 56/293 [01:42<07:47,  1.97s/it]"
     ]
    },
    {
     "name": "stdout",
     "output_type": "stream",
     "text": [
      "000.jpeg\n"
     ]
    },
    {
     "name": "stderr",
     "output_type": "stream",
     "text": [
      "BusinessCard:  19%|█████████████                                                      | 57/293 [01:44<07:44,  1.97s/it]"
     ]
    },
    {
     "name": "stdout",
     "output_type": "stream",
     "text": [
      "000.jpeg\n"
     ]
    },
    {
     "name": "stderr",
     "output_type": "stream",
     "text": [
      "BusinessCard:  20%|█████████████▎                                                     | 58/293 [01:46<07:11,  1.84s/it]"
     ]
    },
    {
     "name": "stdout",
     "output_type": "stream",
     "text": [
      "000.jpeg\n"
     ]
    },
    {
     "name": "stderr",
     "output_type": "stream",
     "text": [
      "BusinessCard:  20%|█████████████▍                                                     | 59/293 [01:48<06:48,  1.75s/it]"
     ]
    },
    {
     "name": "stdout",
     "output_type": "stream",
     "text": [
      "000.jpeg\n"
     ]
    },
    {
     "name": "stderr",
     "output_type": "stream",
     "text": [
      "BusinessCard:  20%|█████████████▋                                                     | 60/293 [01:49<06:37,  1.71s/it]"
     ]
    },
    {
     "name": "stdout",
     "output_type": "stream",
     "text": [
      "000.jpeg\n"
     ]
    },
    {
     "name": "stderr",
     "output_type": "stream",
     "text": [
      "BusinessCard:  21%|█████████████▉                                                     | 61/293 [01:51<06:22,  1.65s/it]"
     ]
    },
    {
     "name": "stdout",
     "output_type": "stream",
     "text": [
      "000.jpeg\n"
     ]
    },
    {
     "name": "stderr",
     "output_type": "stream",
     "text": [
      "BusinessCard:  21%|██████████████▏                                                    | 62/293 [01:52<06:13,  1.62s/it]"
     ]
    },
    {
     "name": "stdout",
     "output_type": "stream",
     "text": [
      "000.jpeg\n"
     ]
    },
    {
     "name": "stderr",
     "output_type": "stream",
     "text": [
      "BusinessCard:  22%|██████████████▍                                                    | 63/293 [01:54<06:41,  1.74s/it]"
     ]
    },
    {
     "name": "stdout",
     "output_type": "stream",
     "text": [
      "000.jpeg\n"
     ]
    },
    {
     "name": "stderr",
     "output_type": "stream",
     "text": [
      "BusinessCard:  22%|██████████████▋                                                    | 64/293 [01:56<06:21,  1.67s/it]"
     ]
    },
    {
     "name": "stdout",
     "output_type": "stream",
     "text": [
      "000.jpeg\n"
     ]
    },
    {
     "name": "stderr",
     "output_type": "stream",
     "text": [
      "BusinessCard:  22%|██████████████▊                                                    | 65/293 [01:58<06:43,  1.77s/it]"
     ]
    },
    {
     "name": "stdout",
     "output_type": "stream",
     "text": [
      "000.jpeg\n"
     ]
    },
    {
     "name": "stderr",
     "output_type": "stream",
     "text": [
      "BusinessCard:  23%|███████████████                                                    | 66/293 [02:00<06:58,  1.84s/it]"
     ]
    },
    {
     "name": "stdout",
     "output_type": "stream",
     "text": [
      "000.jpeg\n"
     ]
    },
    {
     "name": "stderr",
     "output_type": "stream",
     "text": [
      "BusinessCard:  23%|███████████████▎                                                   | 67/293 [02:01<06:41,  1.78s/it]"
     ]
    },
    {
     "name": "stdout",
     "output_type": "stream",
     "text": [
      "000.jpeg\n"
     ]
    },
    {
     "name": "stderr",
     "output_type": "stream",
     "text": [
      "BusinessCard:  23%|███████████████▌                                                   | 68/293 [02:03<06:23,  1.71s/it]"
     ]
    },
    {
     "name": "stdout",
     "output_type": "stream",
     "text": [
      "000.jpeg\n"
     ]
    },
    {
     "name": "stderr",
     "output_type": "stream",
     "text": [
      "BusinessCard:  24%|███████████████▊                                                   | 69/293 [02:04<06:12,  1.66s/it]"
     ]
    },
    {
     "name": "stdout",
     "output_type": "stream",
     "text": [
      "000.jpeg\n"
     ]
    },
    {
     "name": "stderr",
     "output_type": "stream",
     "text": [
      "BusinessCard:  24%|████████████████                                                   | 70/293 [02:06<06:01,  1.62s/it]"
     ]
    },
    {
     "name": "stdout",
     "output_type": "stream",
     "text": [
      "000.jpeg\n"
     ]
    },
    {
     "name": "stderr",
     "output_type": "stream",
     "text": [
      "BusinessCard:  24%|████████████████▏                                                  | 71/293 [02:08<06:43,  1.82s/it]"
     ]
    },
    {
     "name": "stdout",
     "output_type": "stream",
     "text": [
      "000.jpeg\n"
     ]
    },
    {
     "name": "stderr",
     "output_type": "stream",
     "text": [
      "BusinessCard:  25%|████████████████▍                                                  | 72/293 [02:10<06:54,  1.87s/it]"
     ]
    },
    {
     "name": "stdout",
     "output_type": "stream",
     "text": [
      "000.jpeg\n"
     ]
    },
    {
     "name": "stderr",
     "output_type": "stream",
     "text": [
      "BusinessCard:  25%|████████████████▋                                                  | 73/293 [02:12<06:48,  1.86s/it]"
     ]
    },
    {
     "name": "stdout",
     "output_type": "stream",
     "text": [
      "000.jpeg\n"
     ]
    },
    {
     "name": "stderr",
     "output_type": "stream",
     "text": [
      "BusinessCard:  25%|████████████████▉                                                  | 74/293 [02:14<06:32,  1.79s/it]"
     ]
    },
    {
     "name": "stdout",
     "output_type": "stream",
     "text": [
      "000.jpeg\n"
     ]
    },
    {
     "name": "stderr",
     "output_type": "stream",
     "text": [
      "BusinessCard:  26%|█████████████████▏                                                 | 75/293 [02:16<06:37,  1.82s/it]"
     ]
    },
    {
     "name": "stdout",
     "output_type": "stream",
     "text": [
      "000.jpeg\n"
     ]
    },
    {
     "name": "stderr",
     "output_type": "stream",
     "text": [
      "BusinessCard:  26%|█████████████████▍                                                 | 76/293 [02:18<07:22,  2.04s/it]"
     ]
    },
    {
     "name": "stdout",
     "output_type": "stream",
     "text": [
      "000.jpeg\n"
     ]
    },
    {
     "name": "stderr",
     "output_type": "stream",
     "text": [
      "BusinessCard:  26%|█████████████████▌                                                 | 77/293 [02:20<07:31,  2.09s/it]"
     ]
    },
    {
     "name": "stdout",
     "output_type": "stream",
     "text": [
      "000.jpeg\n"
     ]
    },
    {
     "name": "stderr",
     "output_type": "stream",
     "text": [
      "BusinessCard:  27%|█████████████████▊                                                 | 78/293 [02:22<07:21,  2.05s/it]"
     ]
    },
    {
     "name": "stdout",
     "output_type": "stream",
     "text": [
      "000.jpeg\n"
     ]
    },
    {
     "name": "stderr",
     "output_type": "stream",
     "text": [
      "BusinessCard:  27%|██████████████████                                                 | 79/293 [02:24<06:57,  1.95s/it]"
     ]
    },
    {
     "name": "stdout",
     "output_type": "stream",
     "text": [
      "000.jpeg\n"
     ]
    },
    {
     "name": "stderr",
     "output_type": "stream",
     "text": [
      "BusinessCard:  27%|██████████████████▎                                                | 80/293 [02:26<06:27,  1.82s/it]"
     ]
    },
    {
     "name": "stdout",
     "output_type": "stream",
     "text": [
      "000.jpeg\n"
     ]
    },
    {
     "name": "stderr",
     "output_type": "stream",
     "text": [
      "BusinessCard:  28%|██████████████████▌                                                | 81/293 [02:27<06:04,  1.72s/it]"
     ]
    },
    {
     "name": "stdout",
     "output_type": "stream",
     "text": [
      "000.jpeg\n"
     ]
    },
    {
     "name": "stderr",
     "output_type": "stream",
     "text": [
      "BusinessCard:  28%|██████████████████▊                                                | 82/293 [02:29<05:47,  1.65s/it]"
     ]
    },
    {
     "name": "stdout",
     "output_type": "stream",
     "text": [
      "000.jpeg\n"
     ]
    },
    {
     "name": "stderr",
     "output_type": "stream",
     "text": [
      "BusinessCard:  28%|██████████████████▉                                                | 83/293 [02:30<05:25,  1.55s/it]"
     ]
    },
    {
     "name": "stdout",
     "output_type": "stream",
     "text": [
      "000.jpeg\n"
     ]
    },
    {
     "name": "stderr",
     "output_type": "stream",
     "text": [
      "BusinessCard:  29%|███████████████████▏                                               | 84/293 [02:31<05:09,  1.48s/it]"
     ]
    },
    {
     "name": "stdout",
     "output_type": "stream",
     "text": [
      "000.jpeg\n"
     ]
    },
    {
     "name": "stderr",
     "output_type": "stream",
     "text": [
      "BusinessCard:  29%|███████████████████▍                                               | 85/293 [02:32<04:58,  1.44s/it]"
     ]
    },
    {
     "name": "stdout",
     "output_type": "stream",
     "text": [
      "000.jpeg\n"
     ]
    },
    {
     "name": "stderr",
     "output_type": "stream",
     "text": [
      "BusinessCard:  29%|███████████████████▋                                               | 86/293 [02:34<04:49,  1.40s/it]"
     ]
    },
    {
     "name": "stdout",
     "output_type": "stream",
     "text": [
      "000.jpeg\n"
     ]
    },
    {
     "name": "stderr",
     "output_type": "stream",
     "text": [
      "BusinessCard:  30%|███████████████████▉                                               | 87/293 [02:35<04:44,  1.38s/it]"
     ]
    },
    {
     "name": "stdout",
     "output_type": "stream",
     "text": [
      "000.jpeg\n"
     ]
    },
    {
     "name": "stderr",
     "output_type": "stream",
     "text": [
      "BusinessCard:  30%|████████████████████                                               | 88/293 [02:36<04:38,  1.36s/it]"
     ]
    },
    {
     "name": "stdout",
     "output_type": "stream",
     "text": [
      "000.jpeg\n"
     ]
    },
    {
     "name": "stderr",
     "output_type": "stream",
     "text": [
      "BusinessCard:  30%|████████████████████▎                                              | 89/293 [02:38<04:34,  1.35s/it]"
     ]
    },
    {
     "name": "stdout",
     "output_type": "stream",
     "text": [
      "000.jpeg\n"
     ]
    },
    {
     "name": "stderr",
     "output_type": "stream",
     "text": [
      "BusinessCard:  31%|████████████████████▌                                              | 90/293 [02:39<04:34,  1.35s/it]"
     ]
    },
    {
     "name": "stdout",
     "output_type": "stream",
     "text": [
      "000.jpeg\n"
     ]
    },
    {
     "name": "stderr",
     "output_type": "stream",
     "text": [
      "BusinessCard:  31%|████████████████████▊                                              | 91/293 [02:41<04:47,  1.43s/it]"
     ]
    },
    {
     "name": "stdout",
     "output_type": "stream",
     "text": [
      "000.jpeg\n"
     ]
    },
    {
     "name": "stderr",
     "output_type": "stream",
     "text": [
      "BusinessCard:  31%|█████████████████████                                              | 92/293 [02:42<04:49,  1.44s/it]"
     ]
    },
    {
     "name": "stdout",
     "output_type": "stream",
     "text": [
      "000.jpeg\n"
     ]
    },
    {
     "name": "stderr",
     "output_type": "stream",
     "text": [
      "BusinessCard:  32%|█████████████████████▎                                             | 93/293 [02:44<05:35,  1.68s/it]"
     ]
    },
    {
     "name": "stdout",
     "output_type": "stream",
     "text": [
      "000.jpeg\n"
     ]
    },
    {
     "name": "stderr",
     "output_type": "stream",
     "text": [
      "BusinessCard:  32%|█████████████████████▍                                             | 94/293 [02:46<05:21,  1.62s/it]"
     ]
    },
    {
     "name": "stdout",
     "output_type": "stream",
     "text": [
      "000.jpeg\n"
     ]
    },
    {
     "name": "stderr",
     "output_type": "stream",
     "text": [
      "BusinessCard:  32%|█████████████████████▋                                             | 95/293 [02:48<05:26,  1.65s/it]"
     ]
    },
    {
     "name": "stdout",
     "output_type": "stream",
     "text": [
      "000.jpeg\n"
     ]
    },
    {
     "name": "stderr",
     "output_type": "stream",
     "text": [
      "BusinessCard:  33%|█████████████████████▉                                             | 96/293 [02:49<05:25,  1.65s/it]"
     ]
    },
    {
     "name": "stdout",
     "output_type": "stream",
     "text": [
      "000.jpeg\n"
     ]
    },
    {
     "name": "stderr",
     "output_type": "stream",
     "text": [
      "BusinessCard:  33%|██████████████████████▏                                            | 97/293 [02:51<05:28,  1.68s/it]"
     ]
    },
    {
     "name": "stdout",
     "output_type": "stream",
     "text": [
      "000.jpeg\n"
     ]
    },
    {
     "name": "stderr",
     "output_type": "stream",
     "text": [
      "BusinessCard:  33%|██████████████████████▍                                            | 98/293 [02:53<05:41,  1.75s/it]"
     ]
    },
    {
     "name": "stdout",
     "output_type": "stream",
     "text": [
      "000.jpeg\n"
     ]
    },
    {
     "name": "stderr",
     "output_type": "stream",
     "text": [
      "BusinessCard:  34%|██████████████████████▋                                            | 99/293 [02:55<05:29,  1.70s/it]"
     ]
    },
    {
     "name": "stdout",
     "output_type": "stream",
     "text": [
      "000.jpeg\n"
     ]
    },
    {
     "name": "stderr",
     "output_type": "stream",
     "text": [
      "BusinessCard:  34%|██████████████████████▌                                           | 100/293 [02:56<05:11,  1.62s/it]"
     ]
    },
    {
     "name": "stdout",
     "output_type": "stream",
     "text": [
      "000.jpeg\n"
     ]
    },
    {
     "name": "stderr",
     "output_type": "stream",
     "text": [
      "BusinessCard:  34%|██████████████████████▊                                           | 101/293 [02:57<04:56,  1.54s/it]"
     ]
    },
    {
     "name": "stdout",
     "output_type": "stream",
     "text": [
      "000.jpeg\n"
     ]
    },
    {
     "name": "stderr",
     "output_type": "stream",
     "text": [
      "BusinessCard:  35%|██████████████████████▉                                           | 102/293 [02:59<04:46,  1.50s/it]"
     ]
    },
    {
     "name": "stdout",
     "output_type": "stream",
     "text": [
      "000.jpeg\n"
     ]
    },
    {
     "name": "stderr",
     "output_type": "stream",
     "text": [
      "BusinessCard:  35%|███████████████████████▏                                          | 103/293 [03:00<04:39,  1.47s/it]"
     ]
    },
    {
     "name": "stdout",
     "output_type": "stream",
     "text": [
      "000.jpeg\n"
     ]
    },
    {
     "name": "stderr",
     "output_type": "stream",
     "text": [
      "BusinessCard:  35%|███████████████████████▍                                          | 104/293 [03:01<04:32,  1.44s/it]"
     ]
    },
    {
     "name": "stdout",
     "output_type": "stream",
     "text": [
      "000.jpeg\n"
     ]
    },
    {
     "name": "stderr",
     "output_type": "stream",
     "text": [
      "BusinessCard:  36%|███████████████████████▋                                          | 105/293 [03:03<04:29,  1.44s/it]"
     ]
    },
    {
     "name": "stdout",
     "output_type": "stream",
     "text": [
      "000.jpeg\n"
     ]
    },
    {
     "name": "stderr",
     "output_type": "stream",
     "text": [
      "BusinessCard:  36%|███████████████████████▉                                          | 106/293 [03:05<04:36,  1.48s/it]"
     ]
    },
    {
     "name": "stdout",
     "output_type": "stream",
     "text": [
      "000.jpeg\n"
     ]
    },
    {
     "name": "stderr",
     "output_type": "stream",
     "text": [
      "BusinessCard:  37%|████████████████████████                                          | 107/293 [03:06<04:30,  1.45s/it]"
     ]
    },
    {
     "name": "stdout",
     "output_type": "stream",
     "text": [
      "000.jpeg\n"
     ]
    },
    {
     "name": "stderr",
     "output_type": "stream",
     "text": [
      "BusinessCard:  37%|████████████████████████▎                                         | 108/293 [03:07<04:23,  1.42s/it]"
     ]
    },
    {
     "name": "stdout",
     "output_type": "stream",
     "text": [
      "000.jpeg\n"
     ]
    },
    {
     "name": "stderr",
     "output_type": "stream",
     "text": [
      "BusinessCard:  37%|████████████████████████▌                                         | 109/293 [03:09<04:17,  1.40s/it]"
     ]
    },
    {
     "name": "stdout",
     "output_type": "stream",
     "text": [
      "000.jpeg\n"
     ]
    },
    {
     "name": "stderr",
     "output_type": "stream",
     "text": [
      "BusinessCard:  38%|████████████████████████▊                                         | 110/293 [03:10<04:13,  1.39s/it]"
     ]
    },
    {
     "name": "stdout",
     "output_type": "stream",
     "text": [
      "000.jpeg\n"
     ]
    },
    {
     "name": "stderr",
     "output_type": "stream",
     "text": [
      "BusinessCard:  38%|█████████████████████████                                         | 111/293 [03:11<04:10,  1.38s/it]"
     ]
    },
    {
     "name": "stdout",
     "output_type": "stream",
     "text": [
      "000.jpeg\n"
     ]
    },
    {
     "name": "stderr",
     "output_type": "stream",
     "text": [
      "BusinessCard:  38%|█████████████████████████▏                                        | 112/293 [03:13<04:08,  1.37s/it]"
     ]
    },
    {
     "name": "stdout",
     "output_type": "stream",
     "text": [
      "000.jpeg\n"
     ]
    },
    {
     "name": "stderr",
     "output_type": "stream",
     "text": [
      "BusinessCard:  39%|█████████████████████████▍                                        | 113/293 [03:14<04:05,  1.36s/it]"
     ]
    },
    {
     "name": "stdout",
     "output_type": "stream",
     "text": [
      "000.jpeg\n"
     ]
    },
    {
     "name": "stderr",
     "output_type": "stream",
     "text": [
      "BusinessCard:  39%|█████████████████████████▋                                        | 114/293 [03:15<04:10,  1.40s/it]"
     ]
    },
    {
     "name": "stdout",
     "output_type": "stream",
     "text": [
      "000.jpeg\n"
     ]
    },
    {
     "name": "stderr",
     "output_type": "stream",
     "text": [
      "BusinessCard:  39%|█████████████████████████▉                                        | 115/293 [03:17<04:28,  1.51s/it]"
     ]
    },
    {
     "name": "stdout",
     "output_type": "stream",
     "text": [
      "000.jpeg\n"
     ]
    },
    {
     "name": "stderr",
     "output_type": "stream",
     "text": [
      "BusinessCard:  40%|██████████████████████████▏                                       | 116/293 [03:19<04:31,  1.54s/it]"
     ]
    },
    {
     "name": "stdout",
     "output_type": "stream",
     "text": [
      "000.jpeg\n"
     ]
    },
    {
     "name": "stderr",
     "output_type": "stream",
     "text": [
      "BusinessCard:  40%|██████████████████████████▎                                       | 117/293 [03:20<04:31,  1.54s/it]"
     ]
    },
    {
     "name": "stdout",
     "output_type": "stream",
     "text": [
      "000.jpeg\n"
     ]
    },
    {
     "name": "stderr",
     "output_type": "stream",
     "text": [
      "BusinessCard:  40%|██████████████████████████▌                                       | 118/293 [03:22<04:22,  1.50s/it]"
     ]
    },
    {
     "name": "stdout",
     "output_type": "stream",
     "text": [
      "000.jpeg\n"
     ]
    },
    {
     "name": "stderr",
     "output_type": "stream",
     "text": [
      "BusinessCard:  41%|██████████████████████████▊                                       | 119/293 [03:23<04:12,  1.45s/it]"
     ]
    },
    {
     "name": "stdout",
     "output_type": "stream",
     "text": [
      "000.jpeg\n"
     ]
    },
    {
     "name": "stderr",
     "output_type": "stream",
     "text": [
      "BusinessCard:  41%|███████████████████████████                                       | 120/293 [03:25<04:07,  1.43s/it]"
     ]
    },
    {
     "name": "stdout",
     "output_type": "stream",
     "text": [
      "000.jpeg\n"
     ]
    },
    {
     "name": "stderr",
     "output_type": "stream",
     "text": [
      "BusinessCard:  41%|███████████████████████████▎                                      | 121/293 [03:26<04:32,  1.59s/it]"
     ]
    },
    {
     "name": "stdout",
     "output_type": "stream",
     "text": [
      "000.jpeg\n"
     ]
    },
    {
     "name": "stderr",
     "output_type": "stream",
     "text": [
      "BusinessCard:  42%|███████████████████████████▍                                      | 122/293 [03:28<04:19,  1.51s/it]"
     ]
    },
    {
     "name": "stdout",
     "output_type": "stream",
     "text": [
      "000.jpeg\n"
     ]
    },
    {
     "name": "stderr",
     "output_type": "stream",
     "text": [
      "BusinessCard:  42%|███████████████████████████▋                                      | 123/293 [03:29<04:06,  1.45s/it]"
     ]
    },
    {
     "name": "stdout",
     "output_type": "stream",
     "text": [
      "000.jpeg\n"
     ]
    },
    {
     "name": "stderr",
     "output_type": "stream",
     "text": [
      "BusinessCard:  42%|███████████████████████████▉                                      | 124/293 [03:31<04:02,  1.43s/it]"
     ]
    },
    {
     "name": "stdout",
     "output_type": "stream",
     "text": [
      "000.jpeg\n"
     ]
    },
    {
     "name": "stderr",
     "output_type": "stream",
     "text": [
      "BusinessCard:  43%|████████████████████████████▏                                     | 125/293 [03:32<03:59,  1.42s/it]"
     ]
    },
    {
     "name": "stdout",
     "output_type": "stream",
     "text": [
      "000.jpeg\n"
     ]
    },
    {
     "name": "stderr",
     "output_type": "stream",
     "text": [
      "BusinessCard:  43%|████████████████████████████▍                                     | 126/293 [03:33<03:52,  1.39s/it]"
     ]
    },
    {
     "name": "stdout",
     "output_type": "stream",
     "text": [
      "000.jpeg\n"
     ]
    },
    {
     "name": "stderr",
     "output_type": "stream",
     "text": [
      "BusinessCard:  43%|████████████████████████████▌                                     | 127/293 [03:35<03:48,  1.38s/it]"
     ]
    },
    {
     "name": "stdout",
     "output_type": "stream",
     "text": [
      "000.jpeg\n"
     ]
    },
    {
     "name": "stderr",
     "output_type": "stream",
     "text": [
      "BusinessCard:  44%|████████████████████████████▊                                     | 128/293 [03:36<03:45,  1.37s/it]"
     ]
    },
    {
     "name": "stdout",
     "output_type": "stream",
     "text": [
      "000.jpeg\n"
     ]
    },
    {
     "name": "stderr",
     "output_type": "stream",
     "text": [
      "BusinessCard:  44%|█████████████████████████████                                     | 129/293 [03:37<03:41,  1.35s/it]"
     ]
    },
    {
     "name": "stdout",
     "output_type": "stream",
     "text": [
      "000.jpeg\n"
     ]
    },
    {
     "name": "stderr",
     "output_type": "stream",
     "text": [
      "BusinessCard:  44%|█████████████████████████████▎                                    | 130/293 [03:39<03:38,  1.34s/it]"
     ]
    },
    {
     "name": "stdout",
     "output_type": "stream",
     "text": [
      "000.jpeg\n"
     ]
    },
    {
     "name": "stderr",
     "output_type": "stream",
     "text": [
      "BusinessCard:  45%|█████████████████████████████▌                                    | 131/293 [03:40<03:37,  1.34s/it]"
     ]
    },
    {
     "name": "stdout",
     "output_type": "stream",
     "text": [
      "000.jpeg\n"
     ]
    },
    {
     "name": "stderr",
     "output_type": "stream",
     "text": [
      "BusinessCard:  45%|█████████████████████████████▋                                    | 132/293 [03:41<03:39,  1.36s/it]"
     ]
    },
    {
     "name": "stdout",
     "output_type": "stream",
     "text": [
      "000.jpeg\n"
     ]
    },
    {
     "name": "stderr",
     "output_type": "stream",
     "text": [
      "BusinessCard:  45%|█████████████████████████████▉                                    | 133/293 [03:43<03:41,  1.38s/it]"
     ]
    },
    {
     "name": "stdout",
     "output_type": "stream",
     "text": [
      "000.jpeg\n"
     ]
    },
    {
     "name": "stderr",
     "output_type": "stream",
     "text": [
      "BusinessCard:  46%|██████████████████████████████▏                                   | 134/293 [03:44<03:38,  1.37s/it]"
     ]
    },
    {
     "name": "stdout",
     "output_type": "stream",
     "text": [
      "000.jpeg\n"
     ]
    },
    {
     "name": "stderr",
     "output_type": "stream",
     "text": [
      "BusinessCard:  46%|██████████████████████████████▍                                   | 135/293 [03:45<03:33,  1.35s/it]"
     ]
    },
    {
     "name": "stdout",
     "output_type": "stream",
     "text": [
      "000.jpeg\n"
     ]
    },
    {
     "name": "stderr",
     "output_type": "stream",
     "text": [
      "BusinessCard:  46%|██████████████████████████████▋                                   | 136/293 [03:47<03:30,  1.34s/it]"
     ]
    },
    {
     "name": "stdout",
     "output_type": "stream",
     "text": [
      "000.jpeg\n"
     ]
    },
    {
     "name": "stderr",
     "output_type": "stream",
     "text": [
      "BusinessCard:  47%|██████████████████████████████▊                                   | 137/293 [03:48<03:29,  1.34s/it]"
     ]
    },
    {
     "name": "stdout",
     "output_type": "stream",
     "text": [
      "000.jpeg\n"
     ]
    },
    {
     "name": "stderr",
     "output_type": "stream",
     "text": [
      "BusinessCard:  47%|███████████████████████████████                                   | 138/293 [03:49<03:28,  1.34s/it]"
     ]
    },
    {
     "name": "stdout",
     "output_type": "stream",
     "text": [
      "000.jpeg\n"
     ]
    },
    {
     "name": "stderr",
     "output_type": "stream",
     "text": [
      "BusinessCard:  47%|███████████████████████████████▎                                  | 139/293 [03:51<03:34,  1.39s/it]"
     ]
    },
    {
     "name": "stdout",
     "output_type": "stream",
     "text": [
      "000.jpeg\n"
     ]
    },
    {
     "name": "stderr",
     "output_type": "stream",
     "text": [
      "BusinessCard:  48%|███████████████████████████████▌                                  | 140/293 [03:53<03:45,  1.47s/it]"
     ]
    },
    {
     "name": "stdout",
     "output_type": "stream",
     "text": [
      "000.jpeg\n"
     ]
    },
    {
     "name": "stderr",
     "output_type": "stream",
     "text": [
      "BusinessCard:  48%|███████████████████████████████▊                                  | 141/293 [03:54<03:49,  1.51s/it]"
     ]
    },
    {
     "name": "stdout",
     "output_type": "stream",
     "text": [
      "000.jpeg\n"
     ]
    },
    {
     "name": "stderr",
     "output_type": "stream",
     "text": [
      "BusinessCard:  48%|███████████████████████████████▉                                  | 142/293 [03:56<03:56,  1.57s/it]"
     ]
    },
    {
     "name": "stdout",
     "output_type": "stream",
     "text": [
      "000.jpeg\n"
     ]
    },
    {
     "name": "stderr",
     "output_type": "stream",
     "text": [
      "BusinessCard:  49%|████████████████████████████████▏                                 | 143/293 [03:58<04:02,  1.62s/it]"
     ]
    },
    {
     "name": "stdout",
     "output_type": "stream",
     "text": [
      "000.jpeg\n"
     ]
    },
    {
     "name": "stderr",
     "output_type": "stream",
     "text": [
      "BusinessCard:  49%|████████████████████████████████▍                                 | 144/293 [03:59<03:53,  1.57s/it]"
     ]
    },
    {
     "name": "stdout",
     "output_type": "stream",
     "text": [
      "000.jpeg\n"
     ]
    },
    {
     "name": "stderr",
     "output_type": "stream",
     "text": [
      "BusinessCard:  49%|████████████████████████████████▋                                 | 145/293 [04:00<03:44,  1.51s/it]"
     ]
    },
    {
     "name": "stdout",
     "output_type": "stream",
     "text": [
      "000.jpeg\n"
     ]
    },
    {
     "name": "stderr",
     "output_type": "stream",
     "text": [
      "BusinessCard:  50%|████████████████████████████████▉                                 | 146/293 [04:02<03:36,  1.47s/it]"
     ]
    },
    {
     "name": "stdout",
     "output_type": "stream",
     "text": [
      "000.jpeg\n"
     ]
    },
    {
     "name": "stderr",
     "output_type": "stream",
     "text": [
      "BusinessCard:  50%|█████████████████████████████████                                 | 147/293 [04:03<03:31,  1.45s/it]"
     ]
    },
    {
     "name": "stdout",
     "output_type": "stream",
     "text": [
      "000.jpeg\n"
     ]
    },
    {
     "name": "stderr",
     "output_type": "stream",
     "text": [
      "BusinessCard:  51%|█████████████████████████████████▎                                | 148/293 [04:05<03:23,  1.40s/it]"
     ]
    },
    {
     "name": "stdout",
     "output_type": "stream",
     "text": [
      "000.jpeg\n"
     ]
    },
    {
     "name": "stderr",
     "output_type": "stream",
     "text": [
      "BusinessCard:  51%|█████████████████████████████████▌                                | 149/293 [04:06<03:17,  1.37s/it]"
     ]
    },
    {
     "name": "stdout",
     "output_type": "stream",
     "text": [
      "000.jpeg\n"
     ]
    },
    {
     "name": "stderr",
     "output_type": "stream",
     "text": [
      "BusinessCard:  51%|█████████████████████████████████▊                                | 150/293 [04:07<03:14,  1.36s/it]"
     ]
    },
    {
     "name": "stdout",
     "output_type": "stream",
     "text": [
      "000.jpeg\n"
     ]
    },
    {
     "name": "stderr",
     "output_type": "stream",
     "text": [
      "BusinessCard:  52%|██████████████████████████████████                                | 151/293 [04:08<03:11,  1.35s/it]"
     ]
    },
    {
     "name": "stdout",
     "output_type": "stream",
     "text": [
      "000.jpeg\n"
     ]
    },
    {
     "name": "stderr",
     "output_type": "stream",
     "text": [
      "BusinessCard:  52%|██████████████████████████████████▏                               | 152/293 [04:10<03:09,  1.35s/it]"
     ]
    },
    {
     "name": "stdout",
     "output_type": "stream",
     "text": [
      "000.jpeg\n"
     ]
    },
    {
     "name": "stderr",
     "output_type": "stream",
     "text": [
      "BusinessCard:  52%|██████████████████████████████████▍                               | 153/293 [04:11<03:08,  1.34s/it]"
     ]
    },
    {
     "name": "stdout",
     "output_type": "stream",
     "text": [
      "000.jpeg\n"
     ]
    },
    {
     "name": "stderr",
     "output_type": "stream",
     "text": [
      "BusinessCard:  53%|██████████████████████████████████▋                               | 154/293 [04:12<03:06,  1.34s/it]"
     ]
    },
    {
     "name": "stdout",
     "output_type": "stream",
     "text": [
      "000.jpeg\n"
     ]
    },
    {
     "name": "stderr",
     "output_type": "stream",
     "text": [
      "BusinessCard:  53%|██████████████████████████████████▉                               | 155/293 [04:14<03:04,  1.34s/it]"
     ]
    },
    {
     "name": "stdout",
     "output_type": "stream",
     "text": [
      "000.jpeg\n"
     ]
    },
    {
     "name": "stderr",
     "output_type": "stream",
     "text": [
      "BusinessCard:  53%|███████████████████████████████████▏                              | 156/293 [04:15<03:06,  1.36s/it]"
     ]
    },
    {
     "name": "stdout",
     "output_type": "stream",
     "text": [
      "000.jpeg\n"
     ]
    },
    {
     "name": "stderr",
     "output_type": "stream",
     "text": [
      "BusinessCard:  54%|███████████████████████████████████▎                              | 157/293 [04:17<03:03,  1.35s/it]"
     ]
    },
    {
     "name": "stdout",
     "output_type": "stream",
     "text": [
      "000.jpeg\n"
     ]
    },
    {
     "name": "stderr",
     "output_type": "stream",
     "text": [
      "BusinessCard:  54%|███████████████████████████████████▌                              | 158/293 [04:18<03:01,  1.35s/it]"
     ]
    },
    {
     "name": "stdout",
     "output_type": "stream",
     "text": [
      "000.jpeg\n"
     ]
    },
    {
     "name": "stderr",
     "output_type": "stream",
     "text": [
      "BusinessCard:  54%|███████████████████████████████████▊                              | 159/293 [04:19<03:00,  1.35s/it]"
     ]
    },
    {
     "name": "stdout",
     "output_type": "stream",
     "text": [
      "000.jpeg\n"
     ]
    },
    {
     "name": "stderr",
     "output_type": "stream",
     "text": [
      "BusinessCard:  55%|████████████████████████████████████                              | 160/293 [04:21<02:58,  1.34s/it]"
     ]
    },
    {
     "name": "stdout",
     "output_type": "stream",
     "text": [
      "000.jpeg\n"
     ]
    },
    {
     "name": "stderr",
     "output_type": "stream",
     "text": [
      "BusinessCard:  55%|████████████████████████████████████▎                             | 161/293 [04:22<02:56,  1.34s/it]"
     ]
    },
    {
     "name": "stdout",
     "output_type": "stream",
     "text": [
      "000.jpeg\n"
     ]
    },
    {
     "name": "stderr",
     "output_type": "stream",
     "text": [
      "BusinessCard:  55%|████████████████████████████████████▍                             | 162/293 [04:23<02:55,  1.34s/it]"
     ]
    },
    {
     "name": "stdout",
     "output_type": "stream",
     "text": [
      "000.jpeg\n"
     ]
    },
    {
     "name": "stderr",
     "output_type": "stream",
     "text": [
      "BusinessCard:  56%|████████████████████████████████████▋                             | 163/293 [04:25<02:53,  1.34s/it]"
     ]
    },
    {
     "name": "stdout",
     "output_type": "stream",
     "text": [
      "000.jpeg\n"
     ]
    },
    {
     "name": "stderr",
     "output_type": "stream",
     "text": [
      "BusinessCard:  56%|████████████████████████████████████▉                             | 164/293 [04:26<02:51,  1.33s/it]"
     ]
    },
    {
     "name": "stdout",
     "output_type": "stream",
     "text": [
      "000.jpeg\n"
     ]
    },
    {
     "name": "stderr",
     "output_type": "stream",
     "text": [
      "BusinessCard:  56%|█████████████████████████████████████▏                            | 165/293 [04:27<02:49,  1.32s/it]"
     ]
    },
    {
     "name": "stdout",
     "output_type": "stream",
     "text": [
      "000.jpeg\n"
     ]
    },
    {
     "name": "stderr",
     "output_type": "stream",
     "text": [
      "BusinessCard:  57%|█████████████████████████████████████▍                            | 166/293 [04:28<02:48,  1.33s/it]"
     ]
    },
    {
     "name": "stdout",
     "output_type": "stream",
     "text": [
      "000.jpeg\n"
     ]
    },
    {
     "name": "stderr",
     "output_type": "stream",
     "text": [
      "BusinessCard:  57%|█████████████████████████████████████▌                            | 167/293 [04:30<02:47,  1.33s/it]"
     ]
    },
    {
     "name": "stdout",
     "output_type": "stream",
     "text": [
      "000.jpeg\n"
     ]
    },
    {
     "name": "stderr",
     "output_type": "stream",
     "text": [
      "BusinessCard:  57%|█████████████████████████████████████▊                            | 168/293 [04:31<02:49,  1.36s/it]"
     ]
    },
    {
     "name": "stdout",
     "output_type": "stream",
     "text": [
      "000.jpeg\n"
     ]
    },
    {
     "name": "stderr",
     "output_type": "stream",
     "text": [
      "BusinessCard:  58%|██████████████████████████████████████                            | 169/293 [04:33<02:56,  1.42s/it]"
     ]
    },
    {
     "name": "stdout",
     "output_type": "stream",
     "text": [
      "000.jpeg\n"
     ]
    },
    {
     "name": "stderr",
     "output_type": "stream",
     "text": [
      "BusinessCard:  58%|██████████████████████████████████████▎                           | 170/293 [04:34<02:59,  1.46s/it]"
     ]
    },
    {
     "name": "stdout",
     "output_type": "stream",
     "text": [
      "000.jpeg\n"
     ]
    },
    {
     "name": "stderr",
     "output_type": "stream",
     "text": [
      "BusinessCard:  58%|██████████████████████████████████████▌                           | 171/293 [04:36<02:57,  1.45s/it]"
     ]
    },
    {
     "name": "stdout",
     "output_type": "stream",
     "text": [
      "000.jpeg\n"
     ]
    },
    {
     "name": "stderr",
     "output_type": "stream",
     "text": [
      "BusinessCard:  59%|██████████████████████████████████████▋                           | 172/293 [04:37<02:51,  1.42s/it]"
     ]
    },
    {
     "name": "stdout",
     "output_type": "stream",
     "text": [
      "000.jpeg\n"
     ]
    },
    {
     "name": "stderr",
     "output_type": "stream",
     "text": [
      "BusinessCard:  59%|██████████████████████████████████████▉                           | 173/293 [04:38<02:47,  1.40s/it]"
     ]
    },
    {
     "name": "stdout",
     "output_type": "stream",
     "text": [
      "000.jpeg\n"
     ]
    },
    {
     "name": "stderr",
     "output_type": "stream",
     "text": [
      "BusinessCard:  59%|███████████████████████████████████████▏                          | 174/293 [04:40<02:43,  1.37s/it]"
     ]
    },
    {
     "name": "stdout",
     "output_type": "stream",
     "text": [
      "000.jpeg\n"
     ]
    },
    {
     "name": "stderr",
     "output_type": "stream",
     "text": [
      "BusinessCard:  60%|███████████████████████████████████████▍                          | 175/293 [04:41<02:45,  1.41s/it]"
     ]
    },
    {
     "name": "stdout",
     "output_type": "stream",
     "text": [
      "000.jpeg\n"
     ]
    },
    {
     "name": "stderr",
     "output_type": "stream",
     "text": [
      "BusinessCard:  60%|███████████████████████████████████████▋                          | 176/293 [04:43<02:50,  1.46s/it]"
     ]
    },
    {
     "name": "stdout",
     "output_type": "stream",
     "text": [
      "000.jpeg\n"
     ]
    },
    {
     "name": "stderr",
     "output_type": "stream",
     "text": [
      "BusinessCard:  60%|███████████████████████████████████████▊                          | 177/293 [04:44<02:48,  1.45s/it]"
     ]
    },
    {
     "name": "stdout",
     "output_type": "stream",
     "text": [
      "000.jpeg\n"
     ]
    },
    {
     "name": "stderr",
     "output_type": "stream",
     "text": [
      "BusinessCard:  61%|████████████████████████████████████████                          | 178/293 [04:46<02:43,  1.42s/it]"
     ]
    },
    {
     "name": "stdout",
     "output_type": "stream",
     "text": [
      "000.jpeg\n"
     ]
    },
    {
     "name": "stderr",
     "output_type": "stream",
     "text": [
      "BusinessCard:  61%|████████████████████████████████████████▎                         | 179/293 [04:47<02:40,  1.41s/it]"
     ]
    },
    {
     "name": "stdout",
     "output_type": "stream",
     "text": [
      "000.jpeg\n"
     ]
    },
    {
     "name": "stderr",
     "output_type": "stream",
     "text": [
      "BusinessCard:  61%|████████████████████████████████████████▌                         | 180/293 [04:48<02:37,  1.39s/it]"
     ]
    },
    {
     "name": "stdout",
     "output_type": "stream",
     "text": [
      "000.jpeg\n"
     ]
    },
    {
     "name": "stderr",
     "output_type": "stream",
     "text": [
      "BusinessCard:  62%|████████████████████████████████████████▊                         | 181/293 [04:50<02:32,  1.37s/it]"
     ]
    },
    {
     "name": "stdout",
     "output_type": "stream",
     "text": [
      "000.jpeg\n"
     ]
    },
    {
     "name": "stderr",
     "output_type": "stream",
     "text": [
      "BusinessCard:  62%|████████████████████████████████████████▉                         | 182/293 [04:51<02:29,  1.35s/it]"
     ]
    },
    {
     "name": "stdout",
     "output_type": "stream",
     "text": [
      "000.jpeg\n"
     ]
    },
    {
     "name": "stderr",
     "output_type": "stream",
     "text": [
      "BusinessCard:  62%|█████████████████████████████████████████▏                        | 183/293 [04:52<02:27,  1.34s/it]"
     ]
    },
    {
     "name": "stdout",
     "output_type": "stream",
     "text": [
      "000.jpeg\n"
     ]
    },
    {
     "name": "stderr",
     "output_type": "stream",
     "text": [
      "BusinessCard:  63%|█████████████████████████████████████████▍                        | 184/293 [04:54<02:34,  1.41s/it]"
     ]
    },
    {
     "name": "stdout",
     "output_type": "stream",
     "text": [
      "000.jpeg\n"
     ]
    },
    {
     "name": "stderr",
     "output_type": "stream",
     "text": [
      "BusinessCard:  63%|█████████████████████████████████████████▋                        | 185/293 [04:56<02:50,  1.58s/it]"
     ]
    },
    {
     "name": "stdout",
     "output_type": "stream",
     "text": [
      "000.jpeg\n"
     ]
    },
    {
     "name": "stderr",
     "output_type": "stream",
     "text": [
      "BusinessCard:  63%|█████████████████████████████████████████▉                        | 186/293 [04:57<02:49,  1.58s/it]"
     ]
    },
    {
     "name": "stdout",
     "output_type": "stream",
     "text": [
      "000.jpeg\n"
     ]
    },
    {
     "name": "stderr",
     "output_type": "stream",
     "text": [
      "BusinessCard:  64%|██████████████████████████████████████████                        | 187/293 [04:59<02:44,  1.55s/it]"
     ]
    },
    {
     "name": "stdout",
     "output_type": "stream",
     "text": [
      "000.jpeg\n"
     ]
    },
    {
     "name": "stderr",
     "output_type": "stream",
     "text": [
      "BusinessCard:  64%|██████████████████████████████████████████▎                       | 188/293 [05:00<02:41,  1.54s/it]"
     ]
    },
    {
     "name": "stdout",
     "output_type": "stream",
     "text": [
      "000.jpeg\n"
     ]
    },
    {
     "name": "stderr",
     "output_type": "stream",
     "text": [
      "BusinessCard:  65%|██████████████████████████████████████████▌                       | 189/293 [05:02<02:45,  1.59s/it]"
     ]
    },
    {
     "name": "stdout",
     "output_type": "stream",
     "text": [
      "000.jpeg\n"
     ]
    },
    {
     "name": "stderr",
     "output_type": "stream",
     "text": [
      "BusinessCard:  65%|██████████████████████████████████████████▊                       | 190/293 [05:04<02:52,  1.67s/it]"
     ]
    },
    {
     "name": "stdout",
     "output_type": "stream",
     "text": [
      "000.jpeg\n"
     ]
    },
    {
     "name": "stderr",
     "output_type": "stream",
     "text": [
      "BusinessCard:  65%|███████████████████████████████████████████                       | 191/293 [05:05<02:42,  1.60s/it]"
     ]
    },
    {
     "name": "stdout",
     "output_type": "stream",
     "text": [
      "000.jpeg\n"
     ]
    },
    {
     "name": "stderr",
     "output_type": "stream",
     "text": [
      "BusinessCard:  66%|███████████████████████████████████████████▏                      | 192/293 [05:07<02:36,  1.54s/it]"
     ]
    },
    {
     "name": "stdout",
     "output_type": "stream",
     "text": [
      "000.jpeg\n"
     ]
    },
    {
     "name": "stderr",
     "output_type": "stream",
     "text": [
      "BusinessCard:  66%|███████████████████████████████████████████▍                      | 193/293 [05:08<02:29,  1.49s/it]"
     ]
    },
    {
     "name": "stdout",
     "output_type": "stream",
     "text": [
      "000.jpeg\n"
     ]
    },
    {
     "name": "stderr",
     "output_type": "stream",
     "text": [
      "BusinessCard:  66%|███████████████████████████████████████████▋                      | 194/293 [05:10<02:29,  1.51s/it]"
     ]
    },
    {
     "name": "stdout",
     "output_type": "stream",
     "text": [
      "000.jpeg\n"
     ]
    },
    {
     "name": "stderr",
     "output_type": "stream",
     "text": [
      "BusinessCard:  67%|███████████████████████████████████████████▉                      | 195/293 [05:11<02:26,  1.50s/it]"
     ]
    },
    {
     "name": "stdout",
     "output_type": "stream",
     "text": [
      "000.jpeg\n"
     ]
    },
    {
     "name": "stderr",
     "output_type": "stream",
     "text": [
      "BusinessCard:  67%|████████████████████████████████████████████▏                     | 196/293 [05:13<02:23,  1.48s/it]"
     ]
    },
    {
     "name": "stdout",
     "output_type": "stream",
     "text": [
      "000.jpeg\n"
     ]
    },
    {
     "name": "stderr",
     "output_type": "stream",
     "text": [
      "BusinessCard:  67%|████████████████████████████████████████████▍                     | 197/293 [05:14<02:18,  1.44s/it]"
     ]
    },
    {
     "name": "stdout",
     "output_type": "stream",
     "text": [
      "000.jpeg\n"
     ]
    },
    {
     "name": "stderr",
     "output_type": "stream",
     "text": [
      "BusinessCard:  68%|████████████████████████████████████████████▌                     | 198/293 [05:15<02:14,  1.42s/it]"
     ]
    },
    {
     "name": "stdout",
     "output_type": "stream",
     "text": [
      "000.jpeg\n"
     ]
    },
    {
     "name": "stderr",
     "output_type": "stream",
     "text": [
      "BusinessCard:  68%|████████████████████████████████████████████▊                     | 199/293 [05:17<02:12,  1.41s/it]"
     ]
    },
    {
     "name": "stdout",
     "output_type": "stream",
     "text": [
      "000.jpeg\n"
     ]
    },
    {
     "name": "stderr",
     "output_type": "stream",
     "text": [
      "BusinessCard:  68%|█████████████████████████████████████████████                     | 200/293 [05:18<02:08,  1.38s/it]"
     ]
    },
    {
     "name": "stdout",
     "output_type": "stream",
     "text": [
      "000.jpeg\n"
     ]
    },
    {
     "name": "stderr",
     "output_type": "stream",
     "text": [
      "BusinessCard:  69%|█████████████████████████████████████████████▎                    | 201/293 [05:20<02:09,  1.41s/it]"
     ]
    },
    {
     "name": "stdout",
     "output_type": "stream",
     "text": [
      "000.jpeg\n"
     ]
    },
    {
     "name": "stderr",
     "output_type": "stream",
     "text": [
      "BusinessCard:  69%|█████████████████████████████████████████████▌                    | 202/293 [05:21<02:05,  1.38s/it]"
     ]
    },
    {
     "name": "stdout",
     "output_type": "stream",
     "text": [
      "000.jpeg\n"
     ]
    },
    {
     "name": "stderr",
     "output_type": "stream",
     "text": [
      "BusinessCard:  69%|█████████████████████████████████████████████▋                    | 203/293 [05:22<02:09,  1.44s/it]"
     ]
    },
    {
     "name": "stdout",
     "output_type": "stream",
     "text": [
      "000.jpeg\n"
     ]
    },
    {
     "name": "stderr",
     "output_type": "stream",
     "text": [
      "BusinessCard:  70%|█████████████████████████████████████████████▉                    | 204/293 [05:24<02:05,  1.41s/it]"
     ]
    },
    {
     "name": "stdout",
     "output_type": "stream",
     "text": [
      "000.jpeg\n"
     ]
    },
    {
     "name": "stderr",
     "output_type": "stream",
     "text": [
      "BusinessCard:  70%|██████████████████████████████████████████████▏                   | 205/293 [05:25<02:04,  1.41s/it]"
     ]
    },
    {
     "name": "stdout",
     "output_type": "stream",
     "text": [
      "000.jpeg\n"
     ]
    },
    {
     "name": "stderr",
     "output_type": "stream",
     "text": [
      "BusinessCard:  70%|██████████████████████████████████████████████▍                   | 206/293 [05:27<02:00,  1.39s/it]"
     ]
    },
    {
     "name": "stdout",
     "output_type": "stream",
     "text": [
      "000.jpeg\n"
     ]
    },
    {
     "name": "stderr",
     "output_type": "stream",
     "text": [
      "BusinessCard:  71%|██████████████████████████████████████████████▋                   | 207/293 [05:28<01:58,  1.37s/it]"
     ]
    },
    {
     "name": "stdout",
     "output_type": "stream",
     "text": [
      "000.jpeg\n"
     ]
    },
    {
     "name": "stderr",
     "output_type": "stream",
     "text": [
      "BusinessCard:  71%|██████████████████████████████████████████████▊                   | 208/293 [05:29<01:58,  1.39s/it]"
     ]
    },
    {
     "name": "stdout",
     "output_type": "stream",
     "text": [
      "000.jpeg\n"
     ]
    },
    {
     "name": "stderr",
     "output_type": "stream",
     "text": [
      "BusinessCard:  71%|███████████████████████████████████████████████                   | 209/293 [05:31<01:55,  1.37s/it]"
     ]
    },
    {
     "name": "stdout",
     "output_type": "stream",
     "text": [
      "000.jpeg\n"
     ]
    },
    {
     "name": "stderr",
     "output_type": "stream",
     "text": [
      "BusinessCard:  72%|███████████████████████████████████████████████▎                  | 210/293 [05:32<01:52,  1.35s/it]"
     ]
    },
    {
     "name": "stdout",
     "output_type": "stream",
     "text": [
      "000.jpeg\n"
     ]
    },
    {
     "name": "stderr",
     "output_type": "stream",
     "text": [
      "BusinessCard:  72%|███████████████████████████████████████████████▌                  | 211/293 [05:33<01:51,  1.36s/it]"
     ]
    },
    {
     "name": "stdout",
     "output_type": "stream",
     "text": [
      "000.jpeg\n"
     ]
    },
    {
     "name": "stderr",
     "output_type": "stream",
     "text": [
      "BusinessCard:  72%|███████████████████████████████████████████████▊                  | 212/293 [05:35<01:48,  1.34s/it]"
     ]
    },
    {
     "name": "stdout",
     "output_type": "stream",
     "text": [
      "000.jpeg\n"
     ]
    },
    {
     "name": "stderr",
     "output_type": "stream",
     "text": [
      "BusinessCard:  73%|███████████████████████████████████████████████▉                  | 213/293 [05:36<01:46,  1.33s/it]"
     ]
    },
    {
     "name": "stdout",
     "output_type": "stream",
     "text": [
      "000.jpeg\n"
     ]
    },
    {
     "name": "stderr",
     "output_type": "stream",
     "text": [
      "BusinessCard:  73%|████████████████████████████████████████████████▏                 | 214/293 [05:37<01:46,  1.35s/it]"
     ]
    },
    {
     "name": "stdout",
     "output_type": "stream",
     "text": [
      "000.jpeg\n"
     ]
    },
    {
     "name": "stderr",
     "output_type": "stream",
     "text": [
      "BusinessCard:  73%|████████████████████████████████████████████████▍                 | 215/293 [05:39<01:44,  1.34s/it]"
     ]
    },
    {
     "name": "stdout",
     "output_type": "stream",
     "text": [
      "000.jpeg\n"
     ]
    },
    {
     "name": "stderr",
     "output_type": "stream",
     "text": [
      "BusinessCard:  74%|████████████████████████████████████████████████▋                 | 216/293 [05:40<01:41,  1.32s/it]"
     ]
    },
    {
     "name": "stdout",
     "output_type": "stream",
     "text": [
      "000.jpeg\n"
     ]
    },
    {
     "name": "stderr",
     "output_type": "stream",
     "text": [
      "BusinessCard:  74%|████████████████████████████████████████████████▉                 | 217/293 [05:41<01:40,  1.32s/it]"
     ]
    },
    {
     "name": "stdout",
     "output_type": "stream",
     "text": [
      "000.jpeg\n"
     ]
    },
    {
     "name": "stderr",
     "output_type": "stream",
     "text": [
      "BusinessCard:  74%|█████████████████████████████████████████████████                 | 218/293 [05:43<01:39,  1.33s/it]"
     ]
    },
    {
     "name": "stdout",
     "output_type": "stream",
     "text": [
      "000.jpeg\n"
     ]
    },
    {
     "name": "stderr",
     "output_type": "stream",
     "text": [
      "BusinessCard:  75%|█████████████████████████████████████████████████▎                | 219/293 [05:44<01:40,  1.36s/it]"
     ]
    },
    {
     "name": "stdout",
     "output_type": "stream",
     "text": [
      "000.jpeg\n"
     ]
    },
    {
     "name": "stderr",
     "output_type": "stream",
     "text": [
      "BusinessCard:  75%|█████████████████████████████████████████████████▌                | 220/293 [05:45<01:38,  1.35s/it]"
     ]
    },
    {
     "name": "stdout",
     "output_type": "stream",
     "text": [
      "000.jpeg\n"
     ]
    },
    {
     "name": "stderr",
     "output_type": "stream",
     "text": [
      "BusinessCard:  75%|█████████████████████████████████████████████████▊                | 221/293 [05:47<01:35,  1.33s/it]"
     ]
    },
    {
     "name": "stdout",
     "output_type": "stream",
     "text": [
      "000.jpeg\n"
     ]
    },
    {
     "name": "stderr",
     "output_type": "stream",
     "text": [
      "BusinessCard:  76%|██████████████████████████████████████████████████                | 222/293 [05:48<01:33,  1.32s/it]"
     ]
    },
    {
     "name": "stdout",
     "output_type": "stream",
     "text": [
      "000.jpeg\n"
     ]
    },
    {
     "name": "stderr",
     "output_type": "stream",
     "text": [
      "BusinessCard:  76%|██████████████████████████████████████████████████▏               | 223/293 [05:49<01:33,  1.34s/it]"
     ]
    },
    {
     "name": "stdout",
     "output_type": "stream",
     "text": [
      "000.jpeg\n"
     ]
    },
    {
     "name": "stderr",
     "output_type": "stream",
     "text": [
      "BusinessCard:  76%|██████████████████████████████████████████████████▍               | 224/293 [05:51<01:31,  1.32s/it]"
     ]
    },
    {
     "name": "stdout",
     "output_type": "stream",
     "text": [
      "000.jpeg\n"
     ]
    },
    {
     "name": "stderr",
     "output_type": "stream",
     "text": [
      "BusinessCard:  77%|██████████████████████████████████████████████████▋               | 225/293 [05:52<01:29,  1.32s/it]"
     ]
    },
    {
     "name": "stdout",
     "output_type": "stream",
     "text": [
      "000.jpeg\n"
     ]
    },
    {
     "name": "stderr",
     "output_type": "stream",
     "text": [
      "BusinessCard:  77%|██████████████████████████████████████████████████▉               | 226/293 [05:53<01:30,  1.35s/it]"
     ]
    },
    {
     "name": "stdout",
     "output_type": "stream",
     "text": [
      "000.jpeg\n"
     ]
    },
    {
     "name": "stderr",
     "output_type": "stream",
     "text": [
      "BusinessCard:  77%|███████████████████████████████████████████████████▏              | 227/293 [05:55<01:28,  1.33s/it]"
     ]
    },
    {
     "name": "stdout",
     "output_type": "stream",
     "text": [
      "000.jpeg\n"
     ]
    },
    {
     "name": "stderr",
     "output_type": "stream",
     "text": [
      "BusinessCard:  78%|███████████████████████████████████████████████████▎              | 228/293 [05:56<01:26,  1.33s/it]"
     ]
    },
    {
     "name": "stdout",
     "output_type": "stream",
     "text": [
      "000.jpeg\n"
     ]
    },
    {
     "name": "stderr",
     "output_type": "stream",
     "text": [
      "BusinessCard:  78%|███████████████████████████████████████████████████▌              | 229/293 [05:57<01:25,  1.33s/it]"
     ]
    },
    {
     "name": "stdout",
     "output_type": "stream",
     "text": [
      "000.jpeg\n"
     ]
    },
    {
     "name": "stderr",
     "output_type": "stream",
     "text": [
      "BusinessCard:  78%|███████████████████████████████████████████████████▊              | 230/293 [05:59<01:25,  1.35s/it]"
     ]
    },
    {
     "name": "stdout",
     "output_type": "stream",
     "text": [
      "000.jpeg\n"
     ]
    },
    {
     "name": "stderr",
     "output_type": "stream",
     "text": [
      "BusinessCard:  79%|████████████████████████████████████████████████████              | 231/293 [06:00<01:24,  1.36s/it]"
     ]
    },
    {
     "name": "stdout",
     "output_type": "stream",
     "text": [
      "000.jpeg\n"
     ]
    },
    {
     "name": "stderr",
     "output_type": "stream",
     "text": [
      "BusinessCard:  79%|████████████████████████████████████████████████████▎             | 232/293 [06:01<01:23,  1.37s/it]"
     ]
    },
    {
     "name": "stdout",
     "output_type": "stream",
     "text": [
      "000.jpeg\n"
     ]
    },
    {
     "name": "stderr",
     "output_type": "stream",
     "text": [
      "BusinessCard:  80%|████████████████████████████████████████████████████▍             | 233/293 [06:03<01:30,  1.50s/it]"
     ]
    },
    {
     "name": "stdout",
     "output_type": "stream",
     "text": [
      "000.jpeg\n"
     ]
    },
    {
     "name": "stderr",
     "output_type": "stream",
     "text": [
      "BusinessCard:  80%|████████████████████████████████████████████████████▋             | 234/293 [06:05<01:26,  1.47s/it]"
     ]
    },
    {
     "name": "stdout",
     "output_type": "stream",
     "text": [
      "000.jpeg\n"
     ]
    },
    {
     "name": "stderr",
     "output_type": "stream",
     "text": [
      "BusinessCard:  80%|████████████████████████████████████████████████████▉             | 235/293 [06:06<01:27,  1.51s/it]"
     ]
    },
    {
     "name": "stdout",
     "output_type": "stream",
     "text": [
      "000.jpeg\n"
     ]
    },
    {
     "name": "stderr",
     "output_type": "stream",
     "text": [
      "BusinessCard:  81%|█████████████████████████████████████████████████████▏            | 236/293 [06:08<01:26,  1.51s/it]"
     ]
    },
    {
     "name": "stdout",
     "output_type": "stream",
     "text": [
      "000.jpeg\n"
     ]
    },
    {
     "name": "stderr",
     "output_type": "stream",
     "text": [
      "BusinessCard:  81%|█████████████████████████████████████████████████████▍            | 237/293 [06:09<01:23,  1.49s/it]"
     ]
    },
    {
     "name": "stdout",
     "output_type": "stream",
     "text": [
      "000.jpeg\n"
     ]
    },
    {
     "name": "stderr",
     "output_type": "stream",
     "text": [
      "BusinessCard:  81%|█████████████████████████████████████████████████████▌            | 238/293 [06:11<01:19,  1.44s/it]"
     ]
    },
    {
     "name": "stdout",
     "output_type": "stream",
     "text": [
      "000.jpeg\n"
     ]
    },
    {
     "name": "stderr",
     "output_type": "stream",
     "text": [
      "BusinessCard:  82%|█████████████████████████████████████████████████████▊            | 239/293 [06:12<01:18,  1.45s/it]"
     ]
    },
    {
     "name": "stdout",
     "output_type": "stream",
     "text": [
      "000.jpeg\n"
     ]
    },
    {
     "name": "stderr",
     "output_type": "stream",
     "text": [
      "BusinessCard:  82%|██████████████████████████████████████████████████████            | 240/293 [06:13<01:16,  1.44s/it]"
     ]
    },
    {
     "name": "stdout",
     "output_type": "stream",
     "text": [
      "000.jpeg\n"
     ]
    },
    {
     "name": "stderr",
     "output_type": "stream",
     "text": [
      "BusinessCard:  82%|██████████████████████████████████████████████████████▎           | 241/293 [06:15<01:14,  1.43s/it]"
     ]
    },
    {
     "name": "stdout",
     "output_type": "stream",
     "text": [
      "000.jpeg\n"
     ]
    },
    {
     "name": "stderr",
     "output_type": "stream",
     "text": [
      "BusinessCard:  83%|██████████████████████████████████████████████████████▌           | 242/293 [06:16<01:10,  1.39s/it]"
     ]
    },
    {
     "name": "stdout",
     "output_type": "stream",
     "text": [
      "000.jpeg\n"
     ]
    },
    {
     "name": "stderr",
     "output_type": "stream",
     "text": [
      "BusinessCard:  83%|██████████████████████████████████████████████████████▋           | 243/293 [06:17<01:08,  1.37s/it]"
     ]
    },
    {
     "name": "stdout",
     "output_type": "stream",
     "text": [
      "000.jpeg\n"
     ]
    },
    {
     "name": "stderr",
     "output_type": "stream",
     "text": [
      "BusinessCard:  83%|██████████████████████████████████████████████████████▉           | 244/293 [06:19<01:07,  1.37s/it]"
     ]
    },
    {
     "name": "stdout",
     "output_type": "stream",
     "text": [
      "000.jpeg\n"
     ]
    },
    {
     "name": "stderr",
     "output_type": "stream",
     "text": [
      "BusinessCard:  84%|███████████████████████████████████████████████████████▏          | 245/293 [06:20<01:07,  1.40s/it]"
     ]
    },
    {
     "name": "stdout",
     "output_type": "stream",
     "text": [
      "000.jpeg\n"
     ]
    },
    {
     "name": "stderr",
     "output_type": "stream",
     "text": [
      "BusinessCard:  84%|███████████████████████████████████████████████████████▍          | 246/293 [06:22<01:04,  1.38s/it]"
     ]
    },
    {
     "name": "stdout",
     "output_type": "stream",
     "text": [
      "000.jpeg\n"
     ]
    },
    {
     "name": "stderr",
     "output_type": "stream",
     "text": [
      "BusinessCard:  84%|███████████████████████████████████████████████████████▋          | 247/293 [06:23<01:02,  1.37s/it]"
     ]
    },
    {
     "name": "stdout",
     "output_type": "stream",
     "text": [
      "000.jpeg\n"
     ]
    },
    {
     "name": "stderr",
     "output_type": "stream",
     "text": [
      "BusinessCard:  85%|███████████████████████████████████████████████████████▊          | 248/293 [06:24<01:01,  1.36s/it]"
     ]
    },
    {
     "name": "stdout",
     "output_type": "stream",
     "text": [
      "000.jpeg\n"
     ]
    },
    {
     "name": "stderr",
     "output_type": "stream",
     "text": [
      "BusinessCard:  85%|████████████████████████████████████████████████████████          | 249/293 [06:26<00:59,  1.35s/it]"
     ]
    },
    {
     "name": "stdout",
     "output_type": "stream",
     "text": [
      "000.jpeg\n"
     ]
    },
    {
     "name": "stderr",
     "output_type": "stream",
     "text": [
      "BusinessCard:  85%|████████████████████████████████████████████████████████▎         | 250/293 [06:27<00:58,  1.37s/it]"
     ]
    },
    {
     "name": "stdout",
     "output_type": "stream",
     "text": [
      "000.jpeg\n"
     ]
    },
    {
     "name": "stderr",
     "output_type": "stream",
     "text": [
      "BusinessCard:  86%|████████████████████████████████████████████████████████▌         | 251/293 [06:29<00:58,  1.40s/it]"
     ]
    },
    {
     "name": "stdout",
     "output_type": "stream",
     "text": [
      "000.jpeg\n"
     ]
    },
    {
     "name": "stderr",
     "output_type": "stream",
     "text": [
      "BusinessCard:  86%|████████████████████████████████████████████████████████▊         | 252/293 [06:30<00:56,  1.39s/it]"
     ]
    },
    {
     "name": "stdout",
     "output_type": "stream",
     "text": [
      "000.jpeg\n"
     ]
    },
    {
     "name": "stderr",
     "output_type": "stream",
     "text": [
      "BusinessCard:  86%|████████████████████████████████████████████████████████▉         | 253/293 [06:31<00:55,  1.38s/it]"
     ]
    },
    {
     "name": "stdout",
     "output_type": "stream",
     "text": [
      "000.jpeg\n"
     ]
    },
    {
     "name": "stderr",
     "output_type": "stream",
     "text": [
      "BusinessCard:  87%|█████████████████████████████████████████████████████████▏        | 254/293 [06:33<00:55,  1.42s/it]"
     ]
    },
    {
     "name": "stdout",
     "output_type": "stream",
     "text": [
      "000.jpeg\n"
     ]
    },
    {
     "name": "stderr",
     "output_type": "stream",
     "text": [
      "BusinessCard:  87%|█████████████████████████████████████████████████████████▍        | 255/293 [06:34<00:52,  1.39s/it]"
     ]
    },
    {
     "name": "stdout",
     "output_type": "stream",
     "text": [
      "000.jpeg\n"
     ]
    },
    {
     "name": "stderr",
     "output_type": "stream",
     "text": [
      "BusinessCard:  87%|█████████████████████████████████████████████████████████▋        | 256/293 [06:36<00:52,  1.41s/it]"
     ]
    },
    {
     "name": "stdout",
     "output_type": "stream",
     "text": [
      "000.jpeg\n"
     ]
    },
    {
     "name": "stderr",
     "output_type": "stream",
     "text": [
      "BusinessCard:  88%|█████████████████████████████████████████████████████████▉        | 257/293 [06:37<00:50,  1.40s/it]"
     ]
    },
    {
     "name": "stdout",
     "output_type": "stream",
     "text": [
      "000.jpeg\n"
     ]
    },
    {
     "name": "stderr",
     "output_type": "stream",
     "text": [
      "BusinessCard:  88%|██████████████████████████████████████████████████████████        | 258/293 [06:38<00:48,  1.38s/it]"
     ]
    },
    {
     "name": "stdout",
     "output_type": "stream",
     "text": [
      "000.jpeg\n"
     ]
    },
    {
     "name": "stderr",
     "output_type": "stream",
     "text": [
      "BusinessCard:  88%|██████████████████████████████████████████████████████████▎       | 259/293 [06:40<00:46,  1.37s/it]"
     ]
    },
    {
     "name": "stdout",
     "output_type": "stream",
     "text": [
      "000.jpeg\n"
     ]
    },
    {
     "name": "stderr",
     "output_type": "stream",
     "text": [
      "BusinessCard:  89%|██████████████████████████████████████████████████████████▌       | 260/293 [06:41<00:44,  1.35s/it]"
     ]
    },
    {
     "name": "stdout",
     "output_type": "stream",
     "text": [
      "000.jpeg\n"
     ]
    },
    {
     "name": "stderr",
     "output_type": "stream",
     "text": [
      "BusinessCard:  89%|██████████████████████████████████████████████████████████▊       | 261/293 [06:42<00:43,  1.35s/it]"
     ]
    },
    {
     "name": "stdout",
     "output_type": "stream",
     "text": [
      "000.jpeg\n"
     ]
    },
    {
     "name": "stderr",
     "output_type": "stream",
     "text": [
      "BusinessCard:  89%|███████████████████████████████████████████████████████████       | 262/293 [06:44<00:42,  1.37s/it]"
     ]
    },
    {
     "name": "stdout",
     "output_type": "stream",
     "text": [
      "000.jpeg\n"
     ]
    },
    {
     "name": "stderr",
     "output_type": "stream",
     "text": [
      "BusinessCard:  90%|███████████████████████████████████████████████████████████▏      | 263/293 [06:45<00:41,  1.37s/it]"
     ]
    },
    {
     "name": "stdout",
     "output_type": "stream",
     "text": [
      "000.jpeg\n"
     ]
    },
    {
     "name": "stderr",
     "output_type": "stream",
     "text": [
      "BusinessCard:  90%|███████████████████████████████████████████████████████████▍      | 264/293 [06:47<00:41,  1.42s/it]"
     ]
    },
    {
     "name": "stdout",
     "output_type": "stream",
     "text": [
      "000.jpeg\n"
     ]
    },
    {
     "name": "stderr",
     "output_type": "stream",
     "text": [
      "BusinessCard:  90%|███████████████████████████████████████████████████████████▋      | 265/293 [06:48<00:40,  1.46s/it]"
     ]
    },
    {
     "name": "stdout",
     "output_type": "stream",
     "text": [
      "000.jpeg\n"
     ]
    },
    {
     "name": "stderr",
     "output_type": "stream",
     "text": [
      "BusinessCard:  91%|███████████████████████████████████████████████████████████▉      | 266/293 [06:50<00:40,  1.48s/it]"
     ]
    },
    {
     "name": "stdout",
     "output_type": "stream",
     "text": [
      "000.jpeg\n"
     ]
    },
    {
     "name": "stderr",
     "output_type": "stream",
     "text": [
      "BusinessCard:  91%|████████████████████████████████████████████████████████████▏     | 267/293 [06:51<00:39,  1.50s/it]"
     ]
    },
    {
     "name": "stdout",
     "output_type": "stream",
     "text": [
      "000.jpeg\n"
     ]
    },
    {
     "name": "stderr",
     "output_type": "stream",
     "text": [
      "BusinessCard:  91%|████████████████████████████████████████████████████████████▎     | 268/293 [06:53<00:36,  1.46s/it]"
     ]
    },
    {
     "name": "stdout",
     "output_type": "stream",
     "text": [
      "000.jpeg\n"
     ]
    },
    {
     "name": "stderr",
     "output_type": "stream",
     "text": [
      "BusinessCard:  92%|████████████████████████████████████████████████████████████▌     | 269/293 [06:54<00:34,  1.42s/it]"
     ]
    },
    {
     "name": "stdout",
     "output_type": "stream",
     "text": [
      "000.jpeg\n"
     ]
    },
    {
     "name": "stderr",
     "output_type": "stream",
     "text": [
      "BusinessCard:  92%|████████████████████████████████████████████████████████████▊     | 270/293 [06:55<00:33,  1.44s/it]"
     ]
    },
    {
     "name": "stdout",
     "output_type": "stream",
     "text": [
      "000.jpeg\n"
     ]
    },
    {
     "name": "stderr",
     "output_type": "stream",
     "text": [
      "BusinessCard:  92%|█████████████████████████████████████████████████████████████     | 271/293 [06:57<00:31,  1.44s/it]"
     ]
    },
    {
     "name": "stdout",
     "output_type": "stream",
     "text": [
      "000.jpeg\n"
     ]
    },
    {
     "name": "stderr",
     "output_type": "stream",
     "text": [
      "BusinessCard:  93%|█████████████████████████████████████████████████████████████▎    | 272/293 [06:58<00:31,  1.50s/it]"
     ]
    },
    {
     "name": "stdout",
     "output_type": "stream",
     "text": [
      "000.jpeg\n"
     ]
    },
    {
     "name": "stderr",
     "output_type": "stream",
     "text": [
      "BusinessCard:  93%|█████████████████████████████████████████████████████████████▍    | 273/293 [07:00<00:29,  1.45s/it]"
     ]
    },
    {
     "name": "stdout",
     "output_type": "stream",
     "text": [
      "000.jpeg\n"
     ]
    },
    {
     "name": "stderr",
     "output_type": "stream",
     "text": [
      "BusinessCard:  94%|█████████████████████████████████████████████████████████████▋    | 274/293 [07:01<00:27,  1.42s/it]"
     ]
    },
    {
     "name": "stdout",
     "output_type": "stream",
     "text": [
      "000.jpeg\n"
     ]
    },
    {
     "name": "stderr",
     "output_type": "stream",
     "text": [
      "BusinessCard:  94%|█████████████████████████████████████████████████████████████▉    | 275/293 [07:03<00:25,  1.40s/it]"
     ]
    },
    {
     "name": "stdout",
     "output_type": "stream",
     "text": [
      "000.jpeg\n"
     ]
    },
    {
     "name": "stderr",
     "output_type": "stream",
     "text": [
      "BusinessCard:  94%|██████████████████████████████████████████████████████████████▏   | 276/293 [07:04<00:23,  1.39s/it]"
     ]
    },
    {
     "name": "stdout",
     "output_type": "stream",
     "text": [
      "000.jpeg\n"
     ]
    },
    {
     "name": "stderr",
     "output_type": "stream",
     "text": [
      "BusinessCard:  95%|██████████████████████████████████████████████████████████████▍   | 277/293 [07:05<00:21,  1.37s/it]"
     ]
    },
    {
     "name": "stdout",
     "output_type": "stream",
     "text": [
      "000.jpeg\n"
     ]
    },
    {
     "name": "stderr",
     "output_type": "stream",
     "text": [
      "BusinessCard:  95%|██████████████████████████████████████████████████████████████▌   | 278/293 [07:07<00:20,  1.38s/it]"
     ]
    },
    {
     "name": "stdout",
     "output_type": "stream",
     "text": [
      "000.jpeg\n"
     ]
    },
    {
     "name": "stderr",
     "output_type": "stream",
     "text": [
      "BusinessCard:  95%|██████████████████████████████████████████████████████████████▊   | 279/293 [07:08<00:19,  1.37s/it]"
     ]
    },
    {
     "name": "stdout",
     "output_type": "stream",
     "text": [
      "000.jpeg\n"
     ]
    },
    {
     "name": "stderr",
     "output_type": "stream",
     "text": [
      "BusinessCard:  96%|███████████████████████████████████████████████████████████████   | 280/293 [07:09<00:18,  1.41s/it]"
     ]
    },
    {
     "name": "stdout",
     "output_type": "stream",
     "text": [
      "000.jpeg\n"
     ]
    },
    {
     "name": "stderr",
     "output_type": "stream",
     "text": [
      "BusinessCard:  96%|███████████████████████████████████████████████████████████████▎  | 281/293 [07:11<00:16,  1.39s/it]"
     ]
    },
    {
     "name": "stdout",
     "output_type": "stream",
     "text": [
      "000.jpeg\n"
     ]
    },
    {
     "name": "stderr",
     "output_type": "stream",
     "text": [
      "BusinessCard:  96%|███████████████████████████████████████████████████████████████▌  | 282/293 [07:12<00:15,  1.37s/it]"
     ]
    },
    {
     "name": "stdout",
     "output_type": "stream",
     "text": [
      "000.jpeg\n"
     ]
    },
    {
     "name": "stderr",
     "output_type": "stream",
     "text": [
      "BusinessCard:  97%|███████████████████████████████████████████████████████████████▋  | 283/293 [07:13<00:13,  1.36s/it]"
     ]
    },
    {
     "name": "stdout",
     "output_type": "stream",
     "text": [
      "000.jpeg\n"
     ]
    },
    {
     "name": "stderr",
     "output_type": "stream",
     "text": [
      "BusinessCard:  97%|███████████████████████████████████████████████████████████████▉  | 284/293 [07:15<00:12,  1.36s/it]"
     ]
    },
    {
     "name": "stdout",
     "output_type": "stream",
     "text": [
      "000.jpeg\n"
     ]
    },
    {
     "name": "stderr",
     "output_type": "stream",
     "text": [
      "BusinessCard:  97%|████████████████████████████████████████████████████████████████▏ | 285/293 [07:16<00:11,  1.42s/it]"
     ]
    },
    {
     "name": "stdout",
     "output_type": "stream",
     "text": [
      "000.jpeg\n"
     ]
    },
    {
     "name": "stderr",
     "output_type": "stream",
     "text": [
      "BusinessCard:  98%|████████████████████████████████████████████████████████████████▍ | 286/293 [07:18<00:10,  1.43s/it]"
     ]
    },
    {
     "name": "stdout",
     "output_type": "stream",
     "text": [
      "000.jpeg\n"
     ]
    },
    {
     "name": "stderr",
     "output_type": "stream",
     "text": [
      "BusinessCard:  98%|████████████████████████████████████████████████████████████████▋ | 287/293 [07:19<00:08,  1.44s/it]"
     ]
    },
    {
     "name": "stdout",
     "output_type": "stream",
     "text": [
      "000.jpeg\n"
     ]
    },
    {
     "name": "stderr",
     "output_type": "stream",
     "text": [
      "BusinessCard:  98%|████████████████████████████████████████████████████████████████▊ | 288/293 [07:21<00:07,  1.43s/it]"
     ]
    },
    {
     "name": "stdout",
     "output_type": "stream",
     "text": [
      "000.jpeg\n"
     ]
    },
    {
     "name": "stderr",
     "output_type": "stream",
     "text": [
      "BusinessCard:  99%|█████████████████████████████████████████████████████████████████ | 289/293 [07:22<00:05,  1.43s/it]"
     ]
    },
    {
     "name": "stdout",
     "output_type": "stream",
     "text": [
      "000.jpeg\n"
     ]
    },
    {
     "name": "stderr",
     "output_type": "stream",
     "text": [
      "BusinessCard:  99%|█████████████████████████████████████████████████████████████████▎| 290/293 [07:24<00:04,  1.45s/it]"
     ]
    },
    {
     "name": "stdout",
     "output_type": "stream",
     "text": [
      "000.jpeg\n"
     ]
    },
    {
     "name": "stderr",
     "output_type": "stream",
     "text": [
      "BusinessCard:  99%|█████████████████████████████████████████████████████████████████▌| 291/293 [07:25<00:02,  1.47s/it]"
     ]
    },
    {
     "name": "stdout",
     "output_type": "stream",
     "text": [
      "000.jpeg\n"
     ]
    },
    {
     "name": "stderr",
     "output_type": "stream",
     "text": [
      "BusinessCard: 100%|█████████████████████████████████████████████████████████████████▊| 292/293 [07:27<00:01,  1.47s/it]"
     ]
    },
    {
     "name": "stdout",
     "output_type": "stream",
     "text": [
      "000.jpeg\n"
     ]
    },
    {
     "name": "stderr",
     "output_type": "stream",
     "text": [
      "BusinessCard: 100%|██████████████████████████████████████████████████████████████████| 293/293 [07:28<00:00,  1.53s/it]\n"
     ]
    }
   ],
   "source": [
    "allBusinessCard = pd.DataFrame(columns = ['id', 'text'])\n",
    "for img_Path in tqdm(imgPaths,desc = 'BusinessCard'):\n",
    "    img_Path = imgPaths[0]\n",
    "    _, filename = os.path.split(img_Path)\n",
    "    print(filename)\n",
    "    \n",
    "    #extract the data and text\n",
    "    image = cv2.imread(img_Path)\n",
    "    data = pytesseract.image_to_data(image)\n",
    "    dataList = list(map(lambda x:x.split('\\t'),data.split('\\n')))\n",
    "    df = pd.DataFrame(dataList[1:],columns=dataList[0])\n",
    "    df.dropna(inplace=True)\n",
    "    \n",
    "    df['conf'] = df['conf'].astype(float).round(0).astype(int)\n",
    "    useFullData = df.query('conf >= 30')\n",
    "    \n",
    "    # Dataframe\n",
    "    businessCard = pd.DataFrame()\n",
    "    businessCard['text'] = useFullData['text']\n",
    "    businessCard['id'] = filename\n",
    "\n",
    "    # Concatenation\n",
    "    allBusinessCard = pd.concat((allBusinessCard,businessCard))"
   ]
  },
  {
   "cell_type": "code",
   "execution_count": 20,
   "id": "fc0bd1f6-44b7-45ce-8249-1c775d7ea17a",
   "metadata": {},
   "outputs": [],
   "source": [
    "allBusinessCard.to_csv('businessCard.csv',index=False)"
   ]
  },
  {
   "cell_type": "code",
   "execution_count": 21,
   "id": "9f2b407a-e00c-4407-bb6d-7b33a6ec27b8",
   "metadata": {},
   "outputs": [],
   "source": [
    "allBusinessCard.to_csv('businessCard_index_true.csv',index=True)"
   ]
  },
  {
   "cell_type": "code",
   "execution_count": null,
   "id": "7f58a8f8-adfd-4290-a76a-aea2a351f285",
   "metadata": {},
   "outputs": [],
   "source": []
  }
 ],
 "metadata": {
  "kernelspec": {
   "display_name": "Python 3 (ipykernel)",
   "language": "python",
   "name": "python3"
  },
  "language_info": {
   "codemirror_mode": {
    "name": "ipython",
    "version": 3
   },
   "file_extension": ".py",
   "mimetype": "text/x-python",
   "name": "python",
   "nbconvert_exporter": "python",
   "pygments_lexer": "ipython3",
   "version": "3.11.5"
  }
 },
 "nbformat": 4,
 "nbformat_minor": 5
}
